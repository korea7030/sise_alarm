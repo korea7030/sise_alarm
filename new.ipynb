{
 "metadata": {
  "language_info": {
   "codemirror_mode": {
    "name": "ipython",
    "version": 3
   },
   "file_extension": ".py",
   "mimetype": "text/x-python",
   "name": "python",
   "nbconvert_exporter": "python",
   "pygments_lexer": "ipython3",
   "version": "3.8.5-final"
  },
  "orig_nbformat": 2,
  "kernelspec": {
   "name": "python3",
   "display_name": "Python 3.8.5 64-bit ('stock')",
   "metadata": {
    "interpreter": {
     "hash": "59bdc7e3436a1f3dc6dc30af3703bc6a5e1117e99ab5acde87ab52d01c56c2b3"
    }
   }
  }
 },
 "nbformat": 4,
 "nbformat_minor": 2,
 "cells": [
  {
   "cell_type": "code",
   "execution_count": 34,
   "metadata": {},
   "outputs": [],
   "source": [
    "import pandas as pd\n",
    "import FinanceDataReader as fdr\n",
    "from time import time\n",
    "from concurrent.futures import ProcessPoolExecutor\n",
    "\n",
    "df_krx = fdr.StockListing('KRX')\n",
    "df_krx['SymbolName'] = df_krx['Symbol'] + df_krx['Name']\n",
    "codes = df_krx['SymbolName']"
   ]
  },
  {
   "cell_type": "code",
   "execution_count": 71,
   "metadata": {},
   "outputs": [],
   "source": [
    "def get_price(code):\n",
    "    print('code : ', code)\n",
    "    try:\n",
    "        df_price = fdr.DataReader(code[:6], '2020-04-03', '2021-04-04') # 주가 데이터\n",
    "        df_price = df_price[['Close']]\n",
    "        df_price.columns = [code[6:]]\n",
    "        return df_price\n",
    "    except KeyError:\n",
    "        print('keyerror code : ', code)\n",
    "    except ValueError:\n",
    "        print('symbol error : ', code)"
   ]
  },
  {
   "cell_type": "code",
   "execution_count": 72,
   "metadata": {
    "tags": []
   },
   "outputs": [
    {
     "output_type": "stream",
     "name": "stdout",
     "text": [
      "code :  0603103S\n",
      "code :  095570AJ네트웍스\n",
      "code :  006840AK홀딩스\n",
      "code :  054620APS홀딩스\n",
      "code :  265520AP시스템\n",
      "code :  211270AP위성\n",
      "code :  152100ARIRANG 200\n",
      "code :  295820ARIRANG 200동일가중\n",
      "code :  253150ARIRANG 200선물레버리지\n",
      "code :  253160ARIRANG 200선물인버스2X\n",
      "code :  278420ARIRANG ESG우수기업\n",
      "code :  292750ARIRANG KRX300\n",
      "code :  309170ARIRANG KRX300IT\n",
      "code :  309210ARIRANG KRX300헬스케어\n",
      "code :  333940ARIRANG KS로우볼가중TR\n",
      "code :  333950ARIRANG KS로우사이즈가중TR\n",
      "code :  333960ARIRANG KS모멘텀가중TR\n",
      "code :  333970ARIRANG KS밸류가중TR\n",
      "code :  333980ARIRANG KS퀄리티가중TR\n",
      "code :  269530ARIRANG S&P글로벌인프라\n",
      "code :  251590ARIRANG 고배당저변동50\n",
      "code :  161510ARIRANG 고배당주\n",
      "code :  251600ARIRANG 고배당주채권혼합\n",
      "code :  289670ARIRANG 국채선물10년\n",
      "code :  298340ARIRANG 국채선물3년\n",
      "code :  189400ARIRANG 글로벌MSCI(합성 H)\n",
      "code :  278620ARIRANG 단기채권액티브\n",
      "code :  269540ARIRANG 미국S&P500(H)\n",
      "code :  287180ARIRANG 미국나스닥기술주\n",
      "code :  213630ARIRANG 미국다우존스고배당주(합성 H)\n",
      "code :  332610ARIRANG 미국단기우량회사채\n",
      "code :  332620ARIRANG 미국장기우량회사채\n",
      "code :  195970ARIRANG 선진국MSCI(합성 H)\n",
      "code :  238670ARIRANG 스마트베타Quality채권혼합\n",
      "code :  195980ARIRANG 신흥국MSCI(합성 H)\n",
      "code :  373530ARIRANG 신흥국MSCI인버스(합성 H)\n",
      "code :  256450ARIRANG 심천차이넥스트(합성)\n",
      "code :  239660ARIRANG 우량회사채50 1년\n",
      "code :  280920ARIRANG 주도업종\n",
      "code :  266550ARIRANG 중형주저변동50\n",
      "code :  301400ARIRANG 코스닥150\n",
      "code :  301410ARIRANG 코스닥150선물인버스\n",
      "code :  227830ARIRANG 코스피\n",
      "code :  122090ARIRANG 코스피50\n",
      "code :  328370ARIRANG 코스피TR\n",
      "code :  301440ARIRANG 코스피중형주\n",
      "code :  376250ARIRANG 탄소효율그린뉴딜\n",
      "code :  027410BGF\n",
      "code :  282330BGF리테일\n",
      "code :  138930BNK금융지주\n",
      "code :  001460BYC\n"
     ]
    },
    {
     "output_type": "error",
     "ename": "KeyboardInterrupt",
     "evalue": "",
     "traceback": [
      "\u001b[0;31m---------------------------------------------------------------------------\u001b[0m",
      "\u001b[0;31mKeyboardInterrupt\u001b[0m                         Traceback (most recent call last)",
      "\u001b[0;32m<ipython-input-72-89e802e28a69>\u001b[0m in \u001b[0;36m<module>\u001b[0;34m\u001b[0m\n\u001b[1;32m      1\u001b[0m \u001b[0;32mif\u001b[0m \u001b[0m__name__\u001b[0m \u001b[0;34m==\u001b[0m \u001b[0;34m'__main__'\u001b[0m\u001b[0;34m:\u001b[0m\u001b[0;34m\u001b[0m\u001b[0;34m\u001b[0m\u001b[0m\n\u001b[0;32m----> 2\u001b[0;31m     \u001b[0mresults\u001b[0m \u001b[0;34m=\u001b[0m \u001b[0;34m[\u001b[0m \u001b[0mget_price\u001b[0m\u001b[0;34m(\u001b[0m\u001b[0mcode\u001b[0m\u001b[0;34m)\u001b[0m \u001b[0;32mfor\u001b[0m \u001b[0mcode\u001b[0m \u001b[0;32min\u001b[0m \u001b[0mcodes\u001b[0m\u001b[0;34m]\u001b[0m\u001b[0;34m\u001b[0m\u001b[0;34m\u001b[0m\u001b[0m\n\u001b[0m\u001b[1;32m      3\u001b[0m     \u001b[0mstocks\u001b[0m \u001b[0;34m=\u001b[0m \u001b[0mpd\u001b[0m\u001b[0;34m.\u001b[0m\u001b[0mconcat\u001b[0m\u001b[0;34m(\u001b[0m\u001b[0mresults\u001b[0m\u001b[0;34m,\u001b[0m \u001b[0maxis\u001b[0m\u001b[0;34m=\u001b[0m\u001b[0;36m1\u001b[0m\u001b[0;34m)\u001b[0m\u001b[0;34m\u001b[0m\u001b[0;34m\u001b[0m\u001b[0m\n\u001b[1;32m      4\u001b[0m     \u001b[0mstocks\u001b[0m\u001b[0;34m.\u001b[0m\u001b[0mto_excel\u001b[0m\u001b[0;34m(\u001b[0m\u001b[0;34m'datas.xlsx'\u001b[0m\u001b[0;34m)\u001b[0m\u001b[0;34m\u001b[0m\u001b[0;34m\u001b[0m\u001b[0m\n",
      "\u001b[0;32m<ipython-input-72-89e802e28a69>\u001b[0m in \u001b[0;36m<listcomp>\u001b[0;34m(.0)\u001b[0m\n\u001b[1;32m      1\u001b[0m \u001b[0;32mif\u001b[0m \u001b[0m__name__\u001b[0m \u001b[0;34m==\u001b[0m \u001b[0;34m'__main__'\u001b[0m\u001b[0;34m:\u001b[0m\u001b[0;34m\u001b[0m\u001b[0;34m\u001b[0m\u001b[0m\n\u001b[0;32m----> 2\u001b[0;31m     \u001b[0mresults\u001b[0m \u001b[0;34m=\u001b[0m \u001b[0;34m[\u001b[0m \u001b[0mget_price\u001b[0m\u001b[0;34m(\u001b[0m\u001b[0mcode\u001b[0m\u001b[0;34m)\u001b[0m \u001b[0;32mfor\u001b[0m \u001b[0mcode\u001b[0m \u001b[0;32min\u001b[0m \u001b[0mcodes\u001b[0m\u001b[0;34m]\u001b[0m\u001b[0;34m\u001b[0m\u001b[0;34m\u001b[0m\u001b[0m\n\u001b[0m\u001b[1;32m      3\u001b[0m     \u001b[0mstocks\u001b[0m \u001b[0;34m=\u001b[0m \u001b[0mpd\u001b[0m\u001b[0;34m.\u001b[0m\u001b[0mconcat\u001b[0m\u001b[0;34m(\u001b[0m\u001b[0mresults\u001b[0m\u001b[0;34m,\u001b[0m \u001b[0maxis\u001b[0m\u001b[0;34m=\u001b[0m\u001b[0;36m1\u001b[0m\u001b[0;34m)\u001b[0m\u001b[0;34m\u001b[0m\u001b[0;34m\u001b[0m\u001b[0m\n\u001b[1;32m      4\u001b[0m     \u001b[0mstocks\u001b[0m\u001b[0;34m.\u001b[0m\u001b[0mto_excel\u001b[0m\u001b[0;34m(\u001b[0m\u001b[0;34m'datas.xlsx'\u001b[0m\u001b[0;34m)\u001b[0m\u001b[0;34m\u001b[0m\u001b[0;34m\u001b[0m\u001b[0m\n",
      "\u001b[0;32m<ipython-input-71-d1691056df95>\u001b[0m in \u001b[0;36mget_price\u001b[0;34m(code)\u001b[0m\n\u001b[1;32m      2\u001b[0m     \u001b[0mprint\u001b[0m\u001b[0;34m(\u001b[0m\u001b[0;34m'code : '\u001b[0m\u001b[0;34m,\u001b[0m \u001b[0mcode\u001b[0m\u001b[0;34m)\u001b[0m\u001b[0;34m\u001b[0m\u001b[0;34m\u001b[0m\u001b[0m\n\u001b[1;32m      3\u001b[0m     \u001b[0;32mtry\u001b[0m\u001b[0;34m:\u001b[0m\u001b[0;34m\u001b[0m\u001b[0;34m\u001b[0m\u001b[0m\n\u001b[0;32m----> 4\u001b[0;31m         \u001b[0mdf_price\u001b[0m \u001b[0;34m=\u001b[0m \u001b[0mfdr\u001b[0m\u001b[0;34m.\u001b[0m\u001b[0mDataReader\u001b[0m\u001b[0;34m(\u001b[0m\u001b[0mcode\u001b[0m\u001b[0;34m[\u001b[0m\u001b[0;34m:\u001b[0m\u001b[0;36m6\u001b[0m\u001b[0;34m]\u001b[0m\u001b[0;34m,\u001b[0m \u001b[0;34m'2020-04-03'\u001b[0m\u001b[0;34m,\u001b[0m \u001b[0;34m'2021-04-04'\u001b[0m\u001b[0;34m)\u001b[0m \u001b[0;31m# 주가 데이터\u001b[0m\u001b[0;34m\u001b[0m\u001b[0;34m\u001b[0m\u001b[0m\n\u001b[0m\u001b[1;32m      5\u001b[0m         \u001b[0mdf_price\u001b[0m \u001b[0;34m=\u001b[0m \u001b[0mdf_price\u001b[0m\u001b[0;34m[\u001b[0m\u001b[0;34m[\u001b[0m\u001b[0;34m'Close'\u001b[0m\u001b[0;34m]\u001b[0m\u001b[0;34m]\u001b[0m\u001b[0;34m\u001b[0m\u001b[0;34m\u001b[0m\u001b[0m\n\u001b[1;32m      6\u001b[0m         \u001b[0mdf_price\u001b[0m\u001b[0;34m.\u001b[0m\u001b[0mcolumns\u001b[0m \u001b[0;34m=\u001b[0m \u001b[0;34m[\u001b[0m\u001b[0mcode\u001b[0m\u001b[0;34m[\u001b[0m\u001b[0;36m6\u001b[0m\u001b[0;34m:\u001b[0m\u001b[0;34m]\u001b[0m\u001b[0;34m]\u001b[0m\u001b[0;34m\u001b[0m\u001b[0;34m\u001b[0m\u001b[0m\n",
      "\u001b[0;32m~/.virtualenvs/stock/lib/python3.8/site-packages/FinanceDataReader/data.py\u001b[0m in \u001b[0;36mDataReader\u001b[0;34m(symbol, start, end, exchange, data_source)\u001b[0m\n\u001b[1;32m     31\u001b[0m     \u001b[0;32mif\u001b[0m \u001b[0;34m(\u001b[0m\u001b[0msymbol\u001b[0m\u001b[0;34m[\u001b[0m\u001b[0;34m:\u001b[0m\u001b[0;36m5\u001b[0m\u001b[0;34m]\u001b[0m\u001b[0;34m.\u001b[0m\u001b[0misdigit\u001b[0m\u001b[0;34m(\u001b[0m\u001b[0;34m)\u001b[0m \u001b[0;32mand\u001b[0m \u001b[0mexchange\u001b[0m\u001b[0;34m==\u001b[0m\u001b[0;32mNone\u001b[0m\u001b[0;34m)\u001b[0m \u001b[0;32mor\u001b[0m\u001b[0;31m \u001b[0m\u001b[0;31m\\\u001b[0m\u001b[0;34m\u001b[0m\u001b[0;34m\u001b[0m\u001b[0m\n\u001b[1;32m     32\u001b[0m        \u001b[0;34m(\u001b[0m\u001b[0msymbol\u001b[0m\u001b[0;34m[\u001b[0m\u001b[0;34m:\u001b[0m\u001b[0;36m5\u001b[0m\u001b[0;34m]\u001b[0m\u001b[0;34m.\u001b[0m\u001b[0misdigit\u001b[0m\u001b[0;34m(\u001b[0m\u001b[0;34m)\u001b[0m \u001b[0;32mand\u001b[0m \u001b[0mexchange\u001b[0m \u001b[0;32mand\u001b[0m \u001b[0mexchange\u001b[0m\u001b[0;34m.\u001b[0m\u001b[0mupper\u001b[0m\u001b[0;34m(\u001b[0m\u001b[0;34m)\u001b[0m \u001b[0;32min\u001b[0m \u001b[0;34m[\u001b[0m\u001b[0;34m'KRX'\u001b[0m\u001b[0;34m,\u001b[0m \u001b[0;34m'한국거래소'\u001b[0m\u001b[0;34m]\u001b[0m\u001b[0;34m)\u001b[0m\u001b[0;34m:\u001b[0m\u001b[0;34m\u001b[0m\u001b[0;34m\u001b[0m\u001b[0m\n\u001b[0;32m---> 33\u001b[0;31m         \u001b[0;32mreturn\u001b[0m \u001b[0mNaverDailyReader\u001b[0m\u001b[0;34m(\u001b[0m\u001b[0msymbol\u001b[0m\u001b[0;34m,\u001b[0m \u001b[0mstart\u001b[0m\u001b[0;34m,\u001b[0m \u001b[0mend\u001b[0m\u001b[0;34m,\u001b[0m \u001b[0mexchange\u001b[0m\u001b[0;34m,\u001b[0m \u001b[0mdata_source\u001b[0m\u001b[0;34m)\u001b[0m\u001b[0;34m.\u001b[0m\u001b[0mread\u001b[0m\u001b[0;34m(\u001b[0m\u001b[0;34m)\u001b[0m\u001b[0;34m\u001b[0m\u001b[0;34m\u001b[0m\u001b[0m\n\u001b[0m\u001b[1;32m     34\u001b[0m \u001b[0;34m\u001b[0m\u001b[0m\n\u001b[1;32m     35\u001b[0m     \u001b[0;31m# KRX-DELISTING\u001b[0m\u001b[0;34m\u001b[0m\u001b[0;34m\u001b[0m\u001b[0;34m\u001b[0m\u001b[0m\n",
      "\u001b[0;32m~/.virtualenvs/stock/lib/python3.8/site-packages/FinanceDataReader/naver/data.py\u001b[0m in \u001b[0;36mread\u001b[0;34m(self)\u001b[0m\n\u001b[1;32m     22\u001b[0m         \u001b[0mdf\u001b[0m \u001b[0;34m=\u001b[0m \u001b[0mpd\u001b[0m\u001b[0;34m.\u001b[0m\u001b[0mread_csv\u001b[0m\u001b[0;34m(\u001b[0m\u001b[0mStringIO\u001b[0m\u001b[0;34m(\u001b[0m\u001b[0mdata\u001b[0m\u001b[0;34m)\u001b[0m\u001b[0;34m,\u001b[0m \u001b[0mdelimiter\u001b[0m\u001b[0;34m=\u001b[0m\u001b[0;34m'|'\u001b[0m\u001b[0;34m,\u001b[0m \u001b[0mheader\u001b[0m\u001b[0;34m=\u001b[0m\u001b[0;32mNone\u001b[0m\u001b[0;34m,\u001b[0m \u001b[0mdtype\u001b[0m\u001b[0;34m=\u001b[0m\u001b[0;34m{\u001b[0m\u001b[0;36m0\u001b[0m\u001b[0;34m:\u001b[0m\u001b[0mstr\u001b[0m\u001b[0;34m}\u001b[0m\u001b[0;34m)\u001b[0m\u001b[0;34m\u001b[0m\u001b[0;34m\u001b[0m\u001b[0m\n\u001b[1;32m     23\u001b[0m         \u001b[0mdf\u001b[0m\u001b[0;34m.\u001b[0m\u001b[0mcolumns\u001b[0m  \u001b[0;34m=\u001b[0m \u001b[0;34m[\u001b[0m\u001b[0;34m'Date'\u001b[0m\u001b[0;34m,\u001b[0m \u001b[0;34m'Open'\u001b[0m\u001b[0;34m,\u001b[0m \u001b[0;34m'High'\u001b[0m\u001b[0;34m,\u001b[0m \u001b[0;34m'Low'\u001b[0m\u001b[0;34m,\u001b[0m \u001b[0;34m'Close'\u001b[0m\u001b[0;34m,\u001b[0m \u001b[0;34m'Volume'\u001b[0m\u001b[0;34m]\u001b[0m\u001b[0;34m\u001b[0m\u001b[0;34m\u001b[0m\u001b[0m\n\u001b[0;32m---> 24\u001b[0;31m         \u001b[0mdf\u001b[0m\u001b[0;34m[\u001b[0m\u001b[0;34m'Date'\u001b[0m\u001b[0;34m]\u001b[0m \u001b[0;34m=\u001b[0m \u001b[0mpd\u001b[0m\u001b[0;34m.\u001b[0m\u001b[0mto_datetime\u001b[0m\u001b[0;34m(\u001b[0m\u001b[0mdf\u001b[0m\u001b[0;34m[\u001b[0m\u001b[0;34m'Date'\u001b[0m\u001b[0;34m]\u001b[0m\u001b[0;34m,\u001b[0m \u001b[0mformat\u001b[0m\u001b[0;34m=\u001b[0m\u001b[0;34m'%Y%m%d'\u001b[0m\u001b[0;34m)\u001b[0m\u001b[0;34m\u001b[0m\u001b[0;34m\u001b[0m\u001b[0m\n\u001b[0m\u001b[1;32m     25\u001b[0m         \u001b[0mdf\u001b[0m\u001b[0;34m.\u001b[0m\u001b[0mset_index\u001b[0m\u001b[0;34m(\u001b[0m\u001b[0;34m'Date'\u001b[0m\u001b[0;34m,\u001b[0m \u001b[0minplace\u001b[0m\u001b[0;34m=\u001b[0m\u001b[0;32mTrue\u001b[0m\u001b[0;34m)\u001b[0m\u001b[0;34m\u001b[0m\u001b[0;34m\u001b[0m\u001b[0m\n\u001b[1;32m     26\u001b[0m         \u001b[0mdf\u001b[0m\u001b[0;34m.\u001b[0m\u001b[0msort_index\u001b[0m\u001b[0;34m(\u001b[0m\u001b[0minplace\u001b[0m\u001b[0;34m=\u001b[0m\u001b[0;32mTrue\u001b[0m\u001b[0;34m)\u001b[0m\u001b[0;34m\u001b[0m\u001b[0;34m\u001b[0m\u001b[0m\n",
      "\u001b[0;32m~/.virtualenvs/stock/lib/python3.8/site-packages/pandas/core/tools/datetimes.py\u001b[0m in \u001b[0;36mto_datetime\u001b[0;34m(arg, errors, dayfirst, yearfirst, utc, format, exact, unit, infer_datetime_format, origin, cache)\u001b[0m\n\u001b[1;32m    803\u001b[0m             \u001b[0mresult\u001b[0m \u001b[0;34m=\u001b[0m \u001b[0marg\u001b[0m\u001b[0;34m.\u001b[0m\u001b[0mmap\u001b[0m\u001b[0;34m(\u001b[0m\u001b[0mcache_array\u001b[0m\u001b[0;34m)\u001b[0m\u001b[0;34m\u001b[0m\u001b[0;34m\u001b[0m\u001b[0m\n\u001b[1;32m    804\u001b[0m         \u001b[0;32melse\u001b[0m\u001b[0;34m:\u001b[0m\u001b[0;34m\u001b[0m\u001b[0;34m\u001b[0m\u001b[0m\n\u001b[0;32m--> 805\u001b[0;31m             \u001b[0mvalues\u001b[0m \u001b[0;34m=\u001b[0m \u001b[0mconvert_listlike\u001b[0m\u001b[0;34m(\u001b[0m\u001b[0marg\u001b[0m\u001b[0;34m.\u001b[0m\u001b[0m_values\u001b[0m\u001b[0;34m,\u001b[0m \u001b[0mformat\u001b[0m\u001b[0;34m)\u001b[0m\u001b[0;34m\u001b[0m\u001b[0;34m\u001b[0m\u001b[0m\n\u001b[0m\u001b[1;32m    806\u001b[0m             \u001b[0mresult\u001b[0m \u001b[0;34m=\u001b[0m \u001b[0marg\u001b[0m\u001b[0;34m.\u001b[0m\u001b[0m_constructor\u001b[0m\u001b[0;34m(\u001b[0m\u001b[0mvalues\u001b[0m\u001b[0;34m,\u001b[0m \u001b[0mindex\u001b[0m\u001b[0;34m=\u001b[0m\u001b[0marg\u001b[0m\u001b[0;34m.\u001b[0m\u001b[0mindex\u001b[0m\u001b[0;34m,\u001b[0m \u001b[0mname\u001b[0m\u001b[0;34m=\u001b[0m\u001b[0marg\u001b[0m\u001b[0;34m.\u001b[0m\u001b[0mname\u001b[0m\u001b[0;34m)\u001b[0m\u001b[0;34m\u001b[0m\u001b[0;34m\u001b[0m\u001b[0m\n\u001b[1;32m    807\u001b[0m     \u001b[0;32melif\u001b[0m \u001b[0misinstance\u001b[0m\u001b[0;34m(\u001b[0m\u001b[0marg\u001b[0m\u001b[0;34m,\u001b[0m \u001b[0;34m(\u001b[0m\u001b[0mABCDataFrame\u001b[0m\u001b[0;34m,\u001b[0m \u001b[0mabc\u001b[0m\u001b[0;34m.\u001b[0m\u001b[0mMutableMapping\u001b[0m\u001b[0;34m)\u001b[0m\u001b[0;34m)\u001b[0m\u001b[0;34m:\u001b[0m\u001b[0;34m\u001b[0m\u001b[0;34m\u001b[0m\u001b[0m\n",
      "\u001b[0;32m~/.virtualenvs/stock/lib/python3.8/site-packages/pandas/core/tools/datetimes.py\u001b[0m in \u001b[0;36m_convert_listlike_datetimes\u001b[0;34m(arg, format, name, tz, unit, errors, infer_datetime_format, dayfirst, yearfirst, exact)\u001b[0m\n\u001b[1;32m    412\u001b[0m                     \u001b[0;31m# datetime64[ns]\u001b[0m\u001b[0;34m\u001b[0m\u001b[0;34m\u001b[0m\u001b[0;34m\u001b[0m\u001b[0m\n\u001b[1;32m    413\u001b[0m                     \u001b[0morig_arg\u001b[0m \u001b[0;34m=\u001b[0m \u001b[0mensure_object\u001b[0m\u001b[0;34m(\u001b[0m\u001b[0morig_arg\u001b[0m\u001b[0;34m)\u001b[0m\u001b[0;34m\u001b[0m\u001b[0;34m\u001b[0m\u001b[0m\n\u001b[0;32m--> 414\u001b[0;31m                     \u001b[0mresult\u001b[0m \u001b[0;34m=\u001b[0m \u001b[0m_attempt_YYYYMMDD\u001b[0m\u001b[0;34m(\u001b[0m\u001b[0morig_arg\u001b[0m\u001b[0;34m,\u001b[0m \u001b[0merrors\u001b[0m\u001b[0;34m=\u001b[0m\u001b[0merrors\u001b[0m\u001b[0;34m)\u001b[0m\u001b[0;34m\u001b[0m\u001b[0;34m\u001b[0m\u001b[0m\n\u001b[0m\u001b[1;32m    415\u001b[0m                 \u001b[0;32mexcept\u001b[0m \u001b[0;34m(\u001b[0m\u001b[0mValueError\u001b[0m\u001b[0;34m,\u001b[0m \u001b[0mTypeError\u001b[0m\u001b[0;34m,\u001b[0m \u001b[0mOutOfBoundsDatetime\u001b[0m\u001b[0;34m)\u001b[0m \u001b[0;32mas\u001b[0m \u001b[0merr\u001b[0m\u001b[0;34m:\u001b[0m\u001b[0;34m\u001b[0m\u001b[0;34m\u001b[0m\u001b[0m\n\u001b[1;32m    416\u001b[0m                     raise ValueError(\n",
      "\u001b[0;32m~/.virtualenvs/stock/lib/python3.8/site-packages/pandas/core/tools/datetimes.py\u001b[0m in \u001b[0;36m_attempt_YYYYMMDD\u001b[0;34m(arg, errors)\u001b[0m\n\u001b[1;32m    980\u001b[0m     \u001b[0;31m# try intlike / strings that are ints\u001b[0m\u001b[0;34m\u001b[0m\u001b[0;34m\u001b[0m\u001b[0;34m\u001b[0m\u001b[0m\n\u001b[1;32m    981\u001b[0m     \u001b[0;32mtry\u001b[0m\u001b[0;34m:\u001b[0m\u001b[0;34m\u001b[0m\u001b[0;34m\u001b[0m\u001b[0m\n\u001b[0;32m--> 982\u001b[0;31m         \u001b[0;32mreturn\u001b[0m \u001b[0mcalc\u001b[0m\u001b[0;34m(\u001b[0m\u001b[0marg\u001b[0m\u001b[0;34m.\u001b[0m\u001b[0mastype\u001b[0m\u001b[0;34m(\u001b[0m\u001b[0mnp\u001b[0m\u001b[0;34m.\u001b[0m\u001b[0mint64\u001b[0m\u001b[0;34m)\u001b[0m\u001b[0;34m)\u001b[0m\u001b[0;34m\u001b[0m\u001b[0;34m\u001b[0m\u001b[0m\n\u001b[0m\u001b[1;32m    983\u001b[0m     \u001b[0;32mexcept\u001b[0m \u001b[0;34m(\u001b[0m\u001b[0mValueError\u001b[0m\u001b[0;34m,\u001b[0m \u001b[0mOverflowError\u001b[0m\u001b[0;34m,\u001b[0m \u001b[0mTypeError\u001b[0m\u001b[0;34m)\u001b[0m\u001b[0;34m:\u001b[0m\u001b[0;34m\u001b[0m\u001b[0;34m\u001b[0m\u001b[0m\n\u001b[1;32m    984\u001b[0m         \u001b[0;32mpass\u001b[0m\u001b[0;34m\u001b[0m\u001b[0;34m\u001b[0m\u001b[0m\n",
      "\u001b[0;31mKeyboardInterrupt\u001b[0m: "
     ]
    }
   ],
   "source": [
    "if __name__ == '__main__':\n",
    "    results = [ get_price(code) for code in codes]\n",
    "    stocks = pd.concat(results, axis=1)\n",
    "    stocks.to_excel('datas.xlsx')"
   ]
  },
  {
   "cell_type": "code",
   "execution_count": 63,
   "metadata": {},
   "outputs": [],
   "source": [
    "import pandas as pd\n",
    "from datetime import datetime, timedelta\n",
    "from dateutil.relativedelta import relativedelta\n",
    "\n",
    "df_finance = pd.read_excel('result.xlsx')\n",
    "df_price = pd.read_excel('datas.xlsx', index_col=0)"
   ]
  },
  {
   "cell_type": "code",
   "execution_count": 64,
   "metadata": {},
   "outputs": [
    {
     "output_type": "execute_result",
     "data": {
      "text/plain": [
       "              3S  AJ네트웍스  AK홀딩스  APS홀딩스  AP시스템  AP위성  ARIRANG 200  \\\n",
       "Date                                                                \n",
       "2019-12-02  2890    4140  31600    9350  28200  6440        27329   \n",
       "2019-12-03  2970    4130  31250    9420  28350  6330        27188   \n",
       "2019-12-04  2925    4090  31000    9170  28100  6260        27001   \n",
       "2019-12-05  2800    4085  30300    9000  27900  6270        26947   \n",
       "2019-12-06  2845    4115  30800    9070  29350  6410        27246   \n",
       "\n",
       "            ARIRANG 200동일가중  ARIRANG 200선물레버리지  ARIRANG 200선물인버스2X  ...  흥구석유  \\\n",
       "Date                                                                ...         \n",
       "2019-12-02             8023              22650               14195  ...  5430   \n",
       "2019-12-03             8028              22405               14330  ...  5500   \n",
       "2019-12-04             7964              22085               14555  ...  5440   \n",
       "2019-12-05             7899              22005               14585  ...  5380   \n",
       "2019-12-06             7974              22465               14305  ...  5460   \n",
       "\n",
       "              흥국  흥국 S&P코리아로우볼  흥국에프엔비  흥국화재  흥국화재2우B  흥국화재우  흥아해운    희림  \\\n",
       "Date                                                                       \n",
       "2019-12-02  4320          9301    1815  3145    19150   4820   588  4190   \n",
       "2019-12-03  4250          9301    1750  3115    18700   4775   679  4195   \n",
       "2019-12-04  4190          9252    1725  3090    19300   4740   698  4170   \n",
       "2019-12-05  4095          9218    1715  3025    19650   4690   679  4150   \n",
       "2019-12-06  4265          9218    1800  3005    20200   4700   680  4170   \n",
       "\n",
       "               힘스  \n",
       "Date               \n",
       "2019-12-02  12197  \n",
       "2019-12-03  12447  \n",
       "2019-12-04  12748  \n",
       "2019-12-05  12447  \n",
       "2019-12-06  12623  \n",
       "\n",
       "[5 rows x 3205 columns]"
      ],
      "text/html": "<div>\n<style scoped>\n    .dataframe tbody tr th:only-of-type {\n        vertical-align: middle;\n    }\n\n    .dataframe tbody tr th {\n        vertical-align: top;\n    }\n\n    .dataframe thead th {\n        text-align: right;\n    }\n</style>\n<table border=\"1\" class=\"dataframe\">\n  <thead>\n    <tr style=\"text-align: right;\">\n      <th></th>\n      <th>3S</th>\n      <th>AJ네트웍스</th>\n      <th>AK홀딩스</th>\n      <th>APS홀딩스</th>\n      <th>AP시스템</th>\n      <th>AP위성</th>\n      <th>ARIRANG 200</th>\n      <th>ARIRANG 200동일가중</th>\n      <th>ARIRANG 200선물레버리지</th>\n      <th>ARIRANG 200선물인버스2X</th>\n      <th>...</th>\n      <th>흥구석유</th>\n      <th>흥국</th>\n      <th>흥국 S&amp;P코리아로우볼</th>\n      <th>흥국에프엔비</th>\n      <th>흥국화재</th>\n      <th>흥국화재2우B</th>\n      <th>흥국화재우</th>\n      <th>흥아해운</th>\n      <th>희림</th>\n      <th>힘스</th>\n    </tr>\n    <tr>\n      <th>Date</th>\n      <th></th>\n      <th></th>\n      <th></th>\n      <th></th>\n      <th></th>\n      <th></th>\n      <th></th>\n      <th></th>\n      <th></th>\n      <th></th>\n      <th></th>\n      <th></th>\n      <th></th>\n      <th></th>\n      <th></th>\n      <th></th>\n      <th></th>\n      <th></th>\n      <th></th>\n      <th></th>\n      <th></th>\n    </tr>\n  </thead>\n  <tbody>\n    <tr>\n      <th>2019-12-02</th>\n      <td>2890</td>\n      <td>4140</td>\n      <td>31600</td>\n      <td>9350</td>\n      <td>28200</td>\n      <td>6440</td>\n      <td>27329</td>\n      <td>8023</td>\n      <td>22650</td>\n      <td>14195</td>\n      <td>...</td>\n      <td>5430</td>\n      <td>4320</td>\n      <td>9301</td>\n      <td>1815</td>\n      <td>3145</td>\n      <td>19150</td>\n      <td>4820</td>\n      <td>588</td>\n      <td>4190</td>\n      <td>12197</td>\n    </tr>\n    <tr>\n      <th>2019-12-03</th>\n      <td>2970</td>\n      <td>4130</td>\n      <td>31250</td>\n      <td>9420</td>\n      <td>28350</td>\n      <td>6330</td>\n      <td>27188</td>\n      <td>8028</td>\n      <td>22405</td>\n      <td>14330</td>\n      <td>...</td>\n      <td>5500</td>\n      <td>4250</td>\n      <td>9301</td>\n      <td>1750</td>\n      <td>3115</td>\n      <td>18700</td>\n      <td>4775</td>\n      <td>679</td>\n      <td>4195</td>\n      <td>12447</td>\n    </tr>\n    <tr>\n      <th>2019-12-04</th>\n      <td>2925</td>\n      <td>4090</td>\n      <td>31000</td>\n      <td>9170</td>\n      <td>28100</td>\n      <td>6260</td>\n      <td>27001</td>\n      <td>7964</td>\n      <td>22085</td>\n      <td>14555</td>\n      <td>...</td>\n      <td>5440</td>\n      <td>4190</td>\n      <td>9252</td>\n      <td>1725</td>\n      <td>3090</td>\n      <td>19300</td>\n      <td>4740</td>\n      <td>698</td>\n      <td>4170</td>\n      <td>12748</td>\n    </tr>\n    <tr>\n      <th>2019-12-05</th>\n      <td>2800</td>\n      <td>4085</td>\n      <td>30300</td>\n      <td>9000</td>\n      <td>27900</td>\n      <td>6270</td>\n      <td>26947</td>\n      <td>7899</td>\n      <td>22005</td>\n      <td>14585</td>\n      <td>...</td>\n      <td>5380</td>\n      <td>4095</td>\n      <td>9218</td>\n      <td>1715</td>\n      <td>3025</td>\n      <td>19650</td>\n      <td>4690</td>\n      <td>679</td>\n      <td>4150</td>\n      <td>12447</td>\n    </tr>\n    <tr>\n      <th>2019-12-06</th>\n      <td>2845</td>\n      <td>4115</td>\n      <td>30800</td>\n      <td>9070</td>\n      <td>29350</td>\n      <td>6410</td>\n      <td>27246</td>\n      <td>7974</td>\n      <td>22465</td>\n      <td>14305</td>\n      <td>...</td>\n      <td>5460</td>\n      <td>4265</td>\n      <td>9218</td>\n      <td>1800</td>\n      <td>3005</td>\n      <td>20200</td>\n      <td>4700</td>\n      <td>680</td>\n      <td>4170</td>\n      <td>12623</td>\n    </tr>\n  </tbody>\n</table>\n<p>5 rows × 3205 columns</p>\n</div>"
     },
     "metadata": {},
     "execution_count": 64
    }
   ],
   "source": [
    "df_price.head()"
   ]
  },
  {
   "cell_type": "code",
   "execution_count": 65,
   "metadata": {},
   "outputs": [
    {
     "output_type": "execute_result",
     "data": {
      "text/plain": [
       "Index(['3S', 'AJ네트웍스', 'AK홀딩스', 'APS홀딩스', 'AP시스템', 'AP위성', 'ARIRANG 200',\n",
       "       'ARIRANG 200동일가중', 'ARIRANG 200선물레버리지', 'ARIRANG 200선물인버스2X',\n",
       "       ...\n",
       "       '흥구석유', '흥국', '흥국 S&P코리아로우볼', '흥국에프엔비', '흥국화재', '흥국화재2우B', '흥국화재우',\n",
       "       '흥아해운', '희림', '힘스'],\n",
       "      dtype='object', length=3205)"
      ]
     },
     "metadata": {},
     "execution_count": 65
    }
   ],
   "source": [
    "df_price.columns"
   ]
  },
  {
   "cell_type": "code",
   "execution_count": 67,
   "metadata": {
    "tags": []
   },
   "outputs": [],
   "source": [
    "MONTH_AGO = datetime(2020,12,20)+relativedelta(months=-1)\n",
    "MONTH_AGO = MONTH_AGO.strftime('%Y-%m-%d')\n",
    "\n",
    "YEAR_AGO = datetime(2020,12,20)+relativedelta(years=-1)\n",
    "YEAR_AGO = YEAR_AGO.strftime('%Y-%m-%d')\n",
    "\n",
    "price_month_ago = []\n",
    "price_year_ago = []\n",
    "\n",
    "for index, row in df_finance.iterrows():\n",
    "    name = row['종목명']\n",
    "    try:\n",
    "        if name in df_price.columns:\n",
    "            price_month_ago.append(df_price.loc[MONTH_AGO, name])\n",
    "            price_year_ago.append(df_price.loc[YEAR_AGO, name])\n",
    "        else:\n",
    "            price_month_ago.append(0)\n",
    "            price_year_ago.append(0)\n",
    "    except Exception as e:\n",
    "        print(e)\n",
    "    \n"
   ]
  },
  {
   "cell_type": "code",
   "execution_count": 70,
   "metadata": {},
   "outputs": [
    {
     "output_type": "error",
     "ename": "ValueError",
     "evalue": "Length of values (1568) does not match length of index (201)",
     "traceback": [
      "\u001b[0;31m---------------------------------------------------------------------------\u001b[0m",
      "\u001b[0;31mValueError\u001b[0m                                Traceback (most recent call last)",
      "\u001b[0;32m<ipython-input-70-30a2fde1e3ca>\u001b[0m in \u001b[0;36m<module>\u001b[0;34m\u001b[0m\n\u001b[0;32m----> 1\u001b[0;31m \u001b[0mdf_finance\u001b[0m\u001b[0;34m[\u001b[0m\u001b[0;34m'price_month_ago'\u001b[0m\u001b[0;34m]\u001b[0m \u001b[0;34m=\u001b[0m \u001b[0mprice_month_ago\u001b[0m\u001b[0;34m\u001b[0m\u001b[0;34m\u001b[0m\u001b[0m\n\u001b[0m\u001b[1;32m      2\u001b[0m \u001b[0mdf_finance\u001b[0m\u001b[0;34m[\u001b[0m\u001b[0;34m'price_year_ago'\u001b[0m\u001b[0;34m]\u001b[0m \u001b[0;34m=\u001b[0m \u001b[0mprice_year_ago\u001b[0m\u001b[0;34m\u001b[0m\u001b[0;34m\u001b[0m\u001b[0m\n\u001b[1;32m      3\u001b[0m \u001b[0;34m\u001b[0m\u001b[0m\n\u001b[1;32m      4\u001b[0m \u001b[0mdf_finance\u001b[0m \u001b[0;34m=\u001b[0m \u001b[0mdf_finance\u001b[0m\u001b[0;34m[\u001b[0m\u001b[0mdf_finance\u001b[0m\u001b[0;34m[\u001b[0m\u001b[0;34m'price_month_ago'\u001b[0m\u001b[0;34m]\u001b[0m \u001b[0;34m!=\u001b[0m \u001b[0;36m0\u001b[0m\u001b[0;34m]\u001b[0m\u001b[0;34m\u001b[0m\u001b[0;34m\u001b[0m\u001b[0m\n\u001b[1;32m      5\u001b[0m \u001b[0;34m\u001b[0m\u001b[0m\n",
      "\u001b[0;32m~/.virtualenvs/stock/lib/python3.8/site-packages/pandas/core/frame.py\u001b[0m in \u001b[0;36m__setitem__\u001b[0;34m(self, key, value)\u001b[0m\n\u001b[1;32m   3161\u001b[0m         \u001b[0;32melse\u001b[0m\u001b[0;34m:\u001b[0m\u001b[0;34m\u001b[0m\u001b[0;34m\u001b[0m\u001b[0m\n\u001b[1;32m   3162\u001b[0m             \u001b[0;31m# set column\u001b[0m\u001b[0;34m\u001b[0m\u001b[0;34m\u001b[0m\u001b[0;34m\u001b[0m\u001b[0m\n\u001b[0;32m-> 3163\u001b[0;31m             \u001b[0mself\u001b[0m\u001b[0;34m.\u001b[0m\u001b[0m_set_item\u001b[0m\u001b[0;34m(\u001b[0m\u001b[0mkey\u001b[0m\u001b[0;34m,\u001b[0m \u001b[0mvalue\u001b[0m\u001b[0;34m)\u001b[0m\u001b[0;34m\u001b[0m\u001b[0;34m\u001b[0m\u001b[0m\n\u001b[0m\u001b[1;32m   3164\u001b[0m \u001b[0;34m\u001b[0m\u001b[0m\n\u001b[1;32m   3165\u001b[0m     \u001b[0;32mdef\u001b[0m \u001b[0m_setitem_slice\u001b[0m\u001b[0;34m(\u001b[0m\u001b[0mself\u001b[0m\u001b[0;34m,\u001b[0m \u001b[0mkey\u001b[0m\u001b[0;34m:\u001b[0m \u001b[0mslice\u001b[0m\u001b[0;34m,\u001b[0m \u001b[0mvalue\u001b[0m\u001b[0;34m)\u001b[0m\u001b[0;34m:\u001b[0m\u001b[0;34m\u001b[0m\u001b[0;34m\u001b[0m\u001b[0m\n",
      "\u001b[0;32m~/.virtualenvs/stock/lib/python3.8/site-packages/pandas/core/frame.py\u001b[0m in \u001b[0;36m_set_item\u001b[0;34m(self, key, value)\u001b[0m\n\u001b[1;32m   3240\u001b[0m         \"\"\"\n\u001b[1;32m   3241\u001b[0m         \u001b[0mself\u001b[0m\u001b[0;34m.\u001b[0m\u001b[0m_ensure_valid_index\u001b[0m\u001b[0;34m(\u001b[0m\u001b[0mvalue\u001b[0m\u001b[0;34m)\u001b[0m\u001b[0;34m\u001b[0m\u001b[0;34m\u001b[0m\u001b[0m\n\u001b[0;32m-> 3242\u001b[0;31m         \u001b[0mvalue\u001b[0m \u001b[0;34m=\u001b[0m \u001b[0mself\u001b[0m\u001b[0;34m.\u001b[0m\u001b[0m_sanitize_column\u001b[0m\u001b[0;34m(\u001b[0m\u001b[0mkey\u001b[0m\u001b[0;34m,\u001b[0m \u001b[0mvalue\u001b[0m\u001b[0;34m)\u001b[0m\u001b[0;34m\u001b[0m\u001b[0;34m\u001b[0m\u001b[0m\n\u001b[0m\u001b[1;32m   3243\u001b[0m         \u001b[0mNDFrame\u001b[0m\u001b[0;34m.\u001b[0m\u001b[0m_set_item\u001b[0m\u001b[0;34m(\u001b[0m\u001b[0mself\u001b[0m\u001b[0;34m,\u001b[0m \u001b[0mkey\u001b[0m\u001b[0;34m,\u001b[0m \u001b[0mvalue\u001b[0m\u001b[0;34m)\u001b[0m\u001b[0;34m\u001b[0m\u001b[0;34m\u001b[0m\u001b[0m\n\u001b[1;32m   3244\u001b[0m \u001b[0;34m\u001b[0m\u001b[0m\n",
      "\u001b[0;32m~/.virtualenvs/stock/lib/python3.8/site-packages/pandas/core/frame.py\u001b[0m in \u001b[0;36m_sanitize_column\u001b[0;34m(self, key, value, broadcast)\u001b[0m\n\u001b[1;32m   3897\u001b[0m \u001b[0;34m\u001b[0m\u001b[0m\n\u001b[1;32m   3898\u001b[0m             \u001b[0;31m# turn me into an ndarray\u001b[0m\u001b[0;34m\u001b[0m\u001b[0;34m\u001b[0m\u001b[0;34m\u001b[0m\u001b[0m\n\u001b[0;32m-> 3899\u001b[0;31m             \u001b[0mvalue\u001b[0m \u001b[0;34m=\u001b[0m \u001b[0msanitize_index\u001b[0m\u001b[0;34m(\u001b[0m\u001b[0mvalue\u001b[0m\u001b[0;34m,\u001b[0m \u001b[0mself\u001b[0m\u001b[0;34m.\u001b[0m\u001b[0mindex\u001b[0m\u001b[0;34m)\u001b[0m\u001b[0;34m\u001b[0m\u001b[0;34m\u001b[0m\u001b[0m\n\u001b[0m\u001b[1;32m   3900\u001b[0m             \u001b[0;32mif\u001b[0m \u001b[0;32mnot\u001b[0m \u001b[0misinstance\u001b[0m\u001b[0;34m(\u001b[0m\u001b[0mvalue\u001b[0m\u001b[0;34m,\u001b[0m \u001b[0;34m(\u001b[0m\u001b[0mnp\u001b[0m\u001b[0;34m.\u001b[0m\u001b[0mndarray\u001b[0m\u001b[0;34m,\u001b[0m \u001b[0mIndex\u001b[0m\u001b[0;34m)\u001b[0m\u001b[0;34m)\u001b[0m\u001b[0;34m:\u001b[0m\u001b[0;34m\u001b[0m\u001b[0;34m\u001b[0m\u001b[0m\n\u001b[1;32m   3901\u001b[0m                 \u001b[0;32mif\u001b[0m \u001b[0misinstance\u001b[0m\u001b[0;34m(\u001b[0m\u001b[0mvalue\u001b[0m\u001b[0;34m,\u001b[0m \u001b[0mlist\u001b[0m\u001b[0;34m)\u001b[0m \u001b[0;32mand\u001b[0m \u001b[0mlen\u001b[0m\u001b[0;34m(\u001b[0m\u001b[0mvalue\u001b[0m\u001b[0;34m)\u001b[0m \u001b[0;34m>\u001b[0m \u001b[0;36m0\u001b[0m\u001b[0;34m:\u001b[0m\u001b[0;34m\u001b[0m\u001b[0;34m\u001b[0m\u001b[0m\n",
      "\u001b[0;32m~/.virtualenvs/stock/lib/python3.8/site-packages/pandas/core/internals/construction.py\u001b[0m in \u001b[0;36msanitize_index\u001b[0;34m(data, index)\u001b[0m\n\u001b[1;32m    749\u001b[0m     \"\"\"\n\u001b[1;32m    750\u001b[0m     \u001b[0;32mif\u001b[0m \u001b[0mlen\u001b[0m\u001b[0;34m(\u001b[0m\u001b[0mdata\u001b[0m\u001b[0;34m)\u001b[0m \u001b[0;34m!=\u001b[0m \u001b[0mlen\u001b[0m\u001b[0;34m(\u001b[0m\u001b[0mindex\u001b[0m\u001b[0;34m)\u001b[0m\u001b[0;34m:\u001b[0m\u001b[0;34m\u001b[0m\u001b[0;34m\u001b[0m\u001b[0m\n\u001b[0;32m--> 751\u001b[0;31m         raise ValueError(\n\u001b[0m\u001b[1;32m    752\u001b[0m             \u001b[0;34m\"Length of values \"\u001b[0m\u001b[0;34m\u001b[0m\u001b[0;34m\u001b[0m\u001b[0m\n\u001b[1;32m    753\u001b[0m             \u001b[0;34mf\"({len(data)}) \"\u001b[0m\u001b[0;34m\u001b[0m\u001b[0;34m\u001b[0m\u001b[0m\n",
      "\u001b[0;31mValueError\u001b[0m: Length of values (1568) does not match length of index (201)"
     ]
    }
   ],
   "source": [
    "df_finance['price_month_ago'] = price_month_ago\n",
    "df_finance['price_year_ago'] = price_year_ago\n",
    "\n",
    "df_finance = df_finance[df_finance['price_month_ago'] != 0]\n",
    "\n",
    "df_finance = df_finance.reset_index(drop=True)\n",
    "df_finance = df_finance.loc[:200]\n",
    "\n",
    "df_finance['BPR'] = 1/df_finance['PBR'].astype(float)\n",
    "df_finance['1/PER'] = 1/df_finance['PER'].astype(float)\n",
    "df_finance['RANK_BPR'] = df_finance['BPR'].rank(mathod='max', ascending=False)\n",
    "df_finance['RANK_1/PER'] = df_finance['1/PER'].rank(method='max', ascending=False)\n",
    "df_finance['RANK_VALUE'] = (df_finance['RANK_PBR'] + df_finance['RANK_1/PER']) / 2\n",
    "df_finance = df_finance.sort_values(by=['RANK_VALUE'])\n",
    "df_finance = df_finance.reset_index(drop=True)\n",
    "df_finance = df_finance.loc[:75]\n",
    "\n",
    "df_finance['momentum_month'] = df_finance['현재가']- df_finance['price_month_ago']\n",
    "df_finacne['1달 등락률'] = (df_finance['현재가'] - df_finance['price_month_ago']) / df_finance['현재가']\n",
    "\n",
    "# 1년 등락률\n",
    "df_finance['momentum_year'] = df_finance['현재가'] - df_finance['price_year_ago']\n",
    "df_finance['1년 등락률'] = (df_finance['현재가'] - df_finance['price_month_ago']) / df_finance['현재가']\n",
    "\n",
    "df_finance['FINAL_MOMENTUM'] = df_finance['1년 등락률'] - df_finance['1달 등락률']\n",
    "df_finance['RANK_MOMENTUM'] = df_finance['FINAL_MOMENTUM'].rank(method='max', ascending=False)\n",
    "\n",
    "df_finance['FINAL_RANK'] = (df_finance['RANK_VALUE'] + df_finance['RANK_MOMENTUM']) / 2\n",
    "df_finance = df_finance.sort_values(by=['FINAL_RANK'], ascending=[True])\n",
    "df_finance = df_finance.reset_index(drop=True)\n",
    "df_finance.to_excel('momentum_value.xlsx')\n",
    "print(df_finance.head())"
   ]
  },
  {
   "cell_type": "code",
   "execution_count": null,
   "metadata": {},
   "outputs": [],
   "source": []
  }
 ]
}