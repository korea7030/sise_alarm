{
 "metadata": {
  "language_info": {
   "codemirror_mode": {
    "name": "ipython",
    "version": 3
   },
   "file_extension": ".py",
   "mimetype": "text/x-python",
   "name": "python",
   "nbconvert_exporter": "python",
   "pygments_lexer": "ipython3",
   "version": "3.8.5-final"
  },
  "orig_nbformat": 2,
  "kernelspec": {
   "name": "python3",
   "display_name": "Python 3.8.5 64-bit ('stock': venv)",
   "metadata": {
    "interpreter": {
     "hash": "59bdc7e3436a1f3dc6dc30af3703bc6a5e1117e99ab5acde87ab52d01c56c2b3"
    }
   }
  }
 },
 "nbformat": 4,
 "nbformat_minor": 2,
 "cells": [
  {
   "cell_type": "code",
   "execution_count": 1,
   "metadata": {},
   "outputs": [],
   "source": [
    "import requests\n",
    "from bs4 import BeautifulSoup\n",
    "import pandas as pd\n",
    "import numpy as np"
   ]
  },
  {
   "cell_type": "code",
   "execution_count": 2,
   "metadata": {},
   "outputs": [],
   "source": [
    "BASE_URL = 'https://finance.naver.com/sise/sise_market_sum.nhn?sosok='"
   ]
  },
  {
   "cell_type": "code",
   "execution_count": 3,
   "metadata": {},
   "outputs": [],
   "source": [
    "r = requests.get(BASE_URL+str(1)+'&page='+str(1))"
   ]
  },
  {
   "cell_type": "code",
   "execution_count": 4,
   "metadata": {},
   "outputs": [],
   "source": [
    "soup = BeautifulSoup(r.text, 'lxml')"
   ]
  },
  {
   "cell_type": "code",
   "execution_count": 5,
   "metadata": {},
   "outputs": [
    {
     "output_type": "execute_result",
     "data": {
      "text/plain": [
       "30"
      ]
     },
     "metadata": {},
     "execution_count": 5
    }
   ],
   "source": [
    "total_page_num = soup.select_one('td.pgRR > a')\n",
    "total_page_num  = int(total_page_num.get('href').split('=')[-1])\n",
    "total_page_num"
   ]
  },
  {
   "cell_type": "code",
   "execution_count": 6,
   "metadata": {},
   "outputs": [
    {
     "output_type": "execute_result",
     "data": {
      "text/plain": [
       "['quant',\n",
       " 'ask_buy',\n",
       " 'amount',\n",
       " 'market_sum',\n",
       " 'operating_profit',\n",
       " 'per',\n",
       " 'open_val',\n",
       " 'ask_sell',\n",
       " 'prev_quant',\n",
       " 'property_total',\n",
       " 'operating_profit_increasing_rate',\n",
       " 'roe',\n",
       " 'high_val',\n",
       " 'buy_total',\n",
       " 'frgn_rate',\n",
       " 'debt_total',\n",
       " 'net_income',\n",
       " 'roa',\n",
       " 'low_val',\n",
       " 'sell_total',\n",
       " 'listed_stock_cnt',\n",
       " 'sales',\n",
       " 'eps',\n",
       " 'pbr',\n",
       " 'sales_increasing_rate',\n",
       " 'dividend',\n",
       " 'reserve_ratio']"
      ]
     },
     "metadata": {},
     "execution_count": 6
    }
   ],
   "source": [
    "ipt_html = soup.select_one('div.subcnt_sise_item_top')\n",
    "global fields\n",
    "fields = [item.get('value') for item in ipt_html.select('input')]\n",
    "fields"
   ]
  },
  {
   "source": [
    "global fields\n",
    "data = {\n",
    "    'menu': 'market_sum',\n",
    "    'returnUrl': BASE_URL + str(1) + \"&page=\" + str(1),\n",
    "    'fieldIds': fields\n",
    "}\n",
    "\n",
    "r2 = requests.post('https://finance.naver.com/sise/field_submit.nhn', data=data)\n",
    "r2.encoding='euc-kr'\n",
    "r2.text"
   ],
   "cell_type": "code",
   "metadata": {},
   "execution_count": 7,
   "outputs": [
    {
     "output_type": "execute_result",
     "data": {
      "text/plain": [
       "\\t\\t\\t\\n\\t\\t\\n\\t\\n\\t\\t\\n\\t\\t\\t\\n\\t\\t\\t\\n\\t\\t\\t\\n\\t\\t\\t\\t\\t\\t\\t\\t\\t<td class=\"number\">74,100</td>\\n\\t\\t\\t\\n\\t\\t\\n\\t\\n\\t\\t\\n\\t\\t\\t\\n\\t\\t\\t\\n\\t\\t\\t\\n\\t\\t\\t\\t\\t\\t\\t\\t\\t<td class=\"number\">74,500</td>\\n\\t\\t\\t\\n\\t\\t\\n\\t\\n\\t\\t\\n\\t\\t\\t\\n\\t\\t\\t\\n\\t\\t\\t\\n\\t\\t\\t\\t\\t\\t\\t\\t\\t<td class=\"number\">72,400</td>\\n\\t\\t\\t\\n\\t\\t\\n\\t\\n\\t\\t\\n\\t\\t\\t\\n\\t\\t\\t\\n\\t\\t\\t\\n\\t\\t\\t\\t\\t\\t\\t\\t\\t<td class=\"number\">72,700</td>\\n\\t\\t\\t\\n\\t\\t\\n\\t\\n\\t\\t\\n\\t\\t\\t\\n\\t\\t\\t\\n\\t\\t\\t\\n\\t\\t\\t\\t\\t\\t\\t\\t\\t<td class=\"number\">72,800</td>\\n\\t\\t\\t\\n\\t\\t\\n\\t\\n\\t\\t\\n\\t\\t\\t\\n\\t\\t\\t\\n\\t\\t\\t\\n\\t\\t\\t\\t\\t\\t\\t\\t\\t<td class=\"number\">14,681</td>\\n\\t\\t\\t\\n\\t\\t\\n\\t\\n\\t\\t\\n\\t\\t\\t\\n\\t\\t\\t\\n\\t\\t\\t\\n\\t\\t\\t\\t\\t\\t\\t\\t\\t<td class=\"number\">4,075</td>\\n\\t\\t\\t\\n\\t\\t\\n\\t\\n\\t\\t\\n\\t\\t\\t\\n\\t\\t\\t\\n\\t\\t\\t\\n\\t\\t\\t\\t\\t\\t\\t\\t\\t<td class=\"number\">16,264</td>\\n\\t\\t\\t\\n\\t\\t\\n\\t\\n\\t\\t\\n\\t\\t\\t\\n\\t\\t\\t\\n\\t\\t\\t\\n\\t\\t\\t\\t\\t\\t\\t\\t\\t<td class=\"number\">11,824</td>\\n\\t\\t\\t\\n\\t\\t\\n\\t\\n\\t\\t\\n\\t\\t\\t\\n\\t\\t\\t\\n\\t\\t\\t\\n\\t\\t\\t\\t\\t\\t\\t\\t\\t<td class=\"number\">11,619</td>\\n\\t\\t\\t\\n\\t\\t\\n\\t\\n\\t\\t\\n\\t\\t\\t\\n\\t\\t\\t\\n\\t\\t\\t\\n\\t\\t\\t\\t\\t\\t\\t\\t\\t<td class=\"number\">7,506</td>\\n\\t\\t\\t\\n\\t\\t\\n\\t\\n\\t\\t\\n\\t\\t\\t\\n\\t\\t\\t\\n\\t\\t\\t\\n\\t\\t\\t\\t\\t\\t\\t\\t\\t<td class=\"number\">2,183</td>\\n\\t\\t\\t\\n\\t\\t\\n\\t\\n\\t\\t\\n\\t\\t\\t\\n\\t\\t\\t\\n\\t\\t\\t\\n\\t\\t\\t\\t\\t\\t\\t\\t\\t<td class=\"number\">942</td>\\n\\t\\t\\t\\n\\t\\t\\n\\t\\n\\t\\t\\n\\t\\t\\t\\n\\t\\t\\t\\n\\t\\t\\t\\n\\t\\t\\t\\t\\t\\t\\t\\t\\t<td class=\"number\">725</td>\\n\\t\\t\\t\\n\\t\\t\\n\\t\\n\\t\\t\\n\\t\\t\\t\\n\\t\\t\\t\\n\\t\\t\\t\\n\\t\\t\\t\\t\\t\\t\\t\\t\\t<td class=\"number\">4,459</td>\\n\\t\\t\\t\\n\\t\\t\\n\\t\\n\\t\\t\\n\\t\\t\\t\\n\\t\\t\\t\\n\\t\\t\\t\\n\\t\\t\\t\\t\\t\\t\\t\\t\\t<td class=\"number\">1,350</td>\\n\\t\\t\\t\\n\\t\\t\\n\\t\\n\\t\\t\\n\\t\\t\\t\\n\\t\\t\\t\\n\\t\\t\\t\\n\\t\\t\\t\\t\\t\\t\\t\\t\\t<td class=\"number\">34.00</td>\\n\\t\\t\\t\\n\\t\\t\\n\\t\\n\\t\\t\\n\\t\\t\\t\\n\\t\\t\\t\\n\\t\\t\\t\\n\\t\\t\\t\\t\\t\\t\\t\\t\\t<td class=\"number\">99.40</td>\\n\\t\\t\\t\\n\\t\\t\\n\\t\\n\\t\\t\\n\\t\\t\\t\\n\\t\\t\\t\\n\\t\\t\\t\\n\\t\\t\\t\\t\\t\\t\\t\\t\\t<td class=\"number\">37.56</td>\\n\\t\\t\\t\\n\\t\\t\\n\\t\\n\\t\\t\\n\\t\\t\\t\\n\\t\\t\\t\\n\\t\\t\\t\\n\\t\\t\\t\\t\\t\\t\\t\\t\\t<td class=\"number\">16.30</td>\\n\\t\\t\\t\\n\\t\\t\\n\\t\\n\\t\\t\\n\\t\\t\\t\\n\\t\\t\\t\\n\\t\\t\\t\\n\\t\\t\\t\\t\\t\\t\\t\\t\\t<td class=\"number\">14.44</td>\\n\\t\\t\\t\\n\\t\\t\\n\\t\\n\\t\\t\\n\\t\\t\\t\\n\\t\\t\\t\\n\\t\\t\\t\\n\\t\\t\\t\\t\\t\\t\\t\\t\\t<td class=\"number\">10.51</td>\\n\\t\\t\\t\\n\\t\\t\\n\\t\\n\\t\\t\\n\\t\\t\\t\\n\\t\\t\\t\\n\\t\\t\\t\\n\\t\\t\\t\\t\\t\\t\\t\\t\\t<td class=\"number\">2.22</td>\\n\\t\\t\\t\\n\\t\\t\\n\\t\\n\\t\\t\\n\\t\\t\\t\\n\\t\\t\\t\\n\\t\\t\\t\\n\\t\\t\\t\\t\\t\\t\\t\\t\\t<td class=\"number\">6,451.0</td>\\n\\t\\t\\t\\n\\t\\t\\n\\t\\n\\t\\t\\t\\t\\t<td class=\"center\"><a href=\"/item/board.nhn?code=108320\"><img src=\"https://ssl.pstatic.net/imgstock/images5/ico_debatebl2.gif\" width=\"15\" height=\"13\" alt=\"토론실\"></a></td>\\n\\t\\t\\t\\t</tr>\\n\\t\\t\\t\\n\\t\\n\\t\\t\\n\\t\\t\\n\\t\\n\\n\\n\\t\\t\\t\\t<tr  onMouseOver=\"mouseOver(this)\" onMouseOut=\"mouseOut(this)\">\\n\\t\\t\\t\\t\\t<td class=\"no\">48</td>\\n\\t\\t\\t\\t\\t<td><a href=\"/item/main.nhn?code=086900\" class=\"tltle\">메디톡스</a></td>\\n\\t\\t\\t\\t\\t<td class=\"number\">196,600</td>\\n\\t\\t\\t\\t\\t<td class=\"number\">\\n\\t\\t\\t\\t<img src=\"https://ssl.pstatic.net/imgstock/images/images4/ico_down.gif\" width=\"7\" height=\"6\" style=\"margin-right:4px;\" alt=\"하락\"><span class=\"tah p11 nv01\">\\n\\t\\t\\t\\t3,200\\n\\t\\t\\t\\t</span>\\n\\t\\t\\t</td>\\n\\t\\t\\t\\t\\t<td class=\"number\">\\n\\t\\t\\t\\t<span class=\"tah p11 nv01\">\\n\\t\\t\\t\\t-1.60%\\n\\t\\t\\t\\t</span>\\n\\t\\t\\t</td>\\n\\t\\t\\t\\t\\t<td class=\"number\">500</td>\\n\\t\\n\\t\\t\\n\\t\\t\\t\\n\\t\\t\\t\\n\\t\\t\\t\\n\\t\\t\\t\\t\\t\\t\\t\\t\\t<td class=\"number\">73,620</td>\\n\\t\\t\\t\\n\\t\\t\\n\\t\\n\\t\\t\\n\\t\\t\\t\\n\\t\\t\\t\\t\\n\\t\\t\\t\\t\\t\\n\\t\\t\\t\\t\\t\\t<td class=\"number\">14,616</td>\\n\\t\\t\\t\\t\\t\\n\\t\\t\\t\\t\\t\\n\\t\\t\\t\\t\\n\\t\\t\\t\\n\\t\\t\\t\\n\\t\\t\\t\\n\\t\\t\\n\\t\\n\\t\\t\\n\\t\\t\\t\\n\\t\\t\\t\\n\\t\\t\\t\\n\\t\\t\\t\\t\\t\\t\\t\\t\\t<td class=\"number\">88,665</td>\\n\\t\\t\\t\\n\\t\\t\\n\\t\\n\\t\\t\\n\\t\\t\\t\\n\\t\\t\\t\\n\\t\\t\\t\\n\\t\\t\\t\\t\\t\\t\\t\\t\\t<td class=\"number\">194,600</td>\\n\\t\\t\\t\\n\\t\\t\\n\\t\\n\\t\\t\\n\\t\\t\\t\\n\\t\\t\\t\\n\\t\\t\\t\\n\\t\\t\\t\\t\\t\\t\\t\\t\\t<td class=\"number\">203,500</td>\\n\\t\\t\\t\\n\\t\\t\\n\\t\\n\\t\\t\\n\\t\\t\\t\\n\\t\\t\\t\\n\\t\\t\\t\\n\\t\\t\\t\\t\\t\\t\\t\\t\\t<td class=\"number\">194,600</td>\\n\\t\\t\\t\\n\\t\\t\\n\\t\\n\\t\\t\\n\\t\\t\\t\\n\\t\\t\\t\\n\\t\\t\\t\\n\\t\\t\\t\\t\\t\\t\\t\\t\\t<td class=\"number\">196,600</td>\\n\\t\\t\\t\\n\\t\\t\\n\\t\\n\\t\\t\\n\\t\\t\\t\\n\\t\\t\\t\\n\\t\\t\\t\\n\\t\\t\\t\\t\\t\\t\\t\\t\\t<td class=\"number\">196,700</td>\\n\\t\\t\\t\\n\\t\\t\\n\\t\\n\\t\\t\\n\\t\\t\\t\\n\\t\\t\\t\\n\\t\\t\\t\\n\\t\\t\\t\\t\\t\\t\\t\\t\\t<td class=\"number\">2,866</td>\\n\\t\\t\\t\\n\\t\\t\\n\\t\\n\\t\\t\\n\\t\\t\\t\\n\\t\\t\\t\\n\\t\\t\\t\\n\\t\\t\\t\\t\\t\\t\\t\\t\\t<td class=\"number\">524</td>\\n\\t\\t\\t\\n\\t\\t\\n\\t\\n\\t\\t\\n\\t\\t\\t\\n\\t\\t\\t\\n\\t\\t\\t\\n\\t\\t\\t\\t\\t\\t\\t\\t\\t<td class=\"number\">5,977</td>\\n\\t\\t\\t\\n\\t\\t\\n\\t\\n\\t\\t\\n\\t\\t\\t\\n\\t\\t\\t\\n\\t\\t\\t\\n\\t\\t\\t\\t\\t\\t\\t\\t\\t<td class=\"number\">11,752</td>\\n\\t\\t\\t\\n\\t\\t\\n\\t\\n\\t\\t\\n\\t\\t\\t\\n\\t\\t\\t\\n\\t\\t\\t\\n\\t\\t\\t\\t\\t\\t\\t\\t\\t<td class=\"number\">2,059</td>\\n\\t\\t\\t\\n\\t\\t\\n\\t\\n\\t\\t\\n\\t\\t\\t\\n\\t\\t\\t\\n\\t\\t\\t\\n\\t\\t\\t\\t\\t\\t\\t\\t\\t<td class=\"number\">4,215</td>\\n\\t\\t\\t\\n\\t\\t\\n\\t\\n\\t\\t\\n\\t\\t\\t\\n\\t\\t\\t\\n\\t\\t\\t\\n\\t\\t\\t\\t\\t\\t\\t\\t\\t<td class=\"number\">1,588</td>\\n\\t\\t\\t\\n\\t\\t\\n\\t\\n\\t\\t\\n\\t\\t\\t\\n\\t\\t\\t\\n\\t\\t\\t\\n\\t\\t\\t\\t\\t\\t\\t\\t\\t<td class=\"number\">257</td>\\n\\t\\t\\t\\n\\t\\t\\n\\t\\n\\t\\t\\n\\t\\t\\t\\n\\t\\t\\t\\n\\t\\t\\t\\n\\t\\t\\t\\t\\t\\t\\t\\t\\t<td class=\"number\">256</td>\\n\\t\\t\\t\\n\\t\\t\\n\\t\\n\\t\\t\\n\\t\\t\\t\\n\\t\\t\\t\\n\\t\\t\\t\\n\\t\\t\\t\\t\\t\\t\\t\\t\\t<td class=\"number\">-2,059</td>\\n\\t\\t\\t\\n\\t\\t\\n\\t\\n\\t\\t\\n\\t\\t\\t\\n\\t\\t\\t\\n\\t\\t\\t\\n\\t\\t\\t\\t\\t\\t\\t\\t\\t<td class=\"number\">758</td>\\n\\t\\t\\t\\n\\t\\t\\n\\t\\n\\t\\t\\n\\t\\t\\t\\n\\t\\t\\t\\n\\t\\t\\t\\n\\t\\t\\t\\t\\t\\t\\t\\t\\t<td class=\"number\">0.22</td>\\n\\t\\t\\t\\n\\t\\t\\n\\t\\n\\t\\t\\n\\t\\t\\t\\n\\t\\t\\t\\n\\t\\t\\t\\n\\t\\t\\t\\t\\t\\t\\t\\t\\t<td class=\"number\">-69.95</td>\\n\\t\\t\\t\\n\\t\\t\\n\\t\\n\\t\\t\\n\\t\\t\\t\\n\\t\\t\\t\\n\\t\\t\\t\\n\\t\\t\\t\\t\\t\\t\\t\\t\\t<td class=\"number\">11.44</td>\\n\\t\\t\\t\\n\\t\\t\\n\\t\\n\\t\\t\\n\\t\\t\\t\\n\\t\\t\\t\\n\\t\\t\\t\\n\\t\\t\\t\\t\\t\\t\\t\\t\\t<td class=\"number\">-95.48</td>\\n\\t\\t\\t\\n\\t\\t\\n\\t\\n\\t\\t\\n\\t\\t\\t\\n\\t\\t\\t\\n\\t\\t\\t\\n\\t\\t\\t\\t\\t\\t\\t\\t\\t<td class=\"number\">10.24</td>\\n\\t\\t\\t\\n\\t\\t\\n\\t\\n\\t\\t\\n\\t\\t\\t\\n\\t\\t\\t\\n\\t\\t\\t\\n\\t\\t\\t\\t\\t\\t\\t\\t\\t<td class=\"number\">6.26</td>\\n\\t\\t\\t\\n\\t\\t\\n\\t\\n\\t\\t\\n\\t\\t\\t\\n\\t\\t\\t\\n\\t\\t\\t\\n\\t\\t\\t\\t\\t\\t\\t\\t\\t<td class=\"number\">4.75</td>\\n\\t\\t\\t\\n\\t\\t\\n\\t\\n\\t\\t\\n\\t\\t\\t\\n\\t\\t\\t\\n\\t\\t\\t\\n\\t\\t\\t\\t\\t\\t\\t\\t\\t<td class=\"number\">11,287.7</td>\\n\\t\\t\\t\\n\\t\\t\\n\\t\\n\\t\\t\\t\\t\\t<td class=\"center\"><a href=\"/item/board.nhn?code=086900\"><img src=\"https://ssl.pstatic.net/imgstock/images5/ico_debatebl2.gif\" width=\"15\" height=\"13\" alt=\"토론실\"></a></td>\\n\\t\\t\\t\\t</tr>\\n\\t\\t\\t\\n\\t\\n\\t\\t\\n\\t\\t\\n\\t\\n\\n\\n\\t\\t\\t\\t<tr  onMouseOver=\"mouseOver(this)\" onMouseOut=\"mouseOut(this)\">\\n\\t\\t\\t\\t\\t<td class=\"no\">49</td>\\n\\t\\t\\t\\t\\t<td><a href=\"/item/main.nhn?code=144510\" class=\"tltle\">녹십자랩셀</a></td>\\n\\t\\t\\t\\t\\t<td class=\"number\">108,600</td>\\n\\t\\t\\t\\t\\t<td class=\"number\">\\n\\t\\t\\t\\t<img src=\"https://ssl.pstatic.net/imgstock/images/images4/ico_down.gif\" width=\"7\" height=\"6\" style=\"margin-right:4px;\" alt=\"하락\"><span class=\"tah p11 nv01\">\\n\\t\\t\\t\\t300\\n\\t\\t\\t\\t</span>\\n\\t\\t\\t</td>\\n\\t\\t\\t\\t\\t<td class=\"number\">\\n\\t\\t\\t\\t<span class=\"tah p11 nv01\">\\n\\t\\t\\t\\t-0.28%\\n\\t\\t\\t\\t</span>\\n\\t\\t\\t</td>\\n\\t\\t\\t\\t\\t<td class=\"number\">500</td>\\n\\t\\n\\t\\t\\n\\t\\t\\t\\n\\t\\t\\t\\n\\t\\t\\t\\n\\t\\t\\t\\t\\t\\t\\t\\t\\t<td class=\"number\">326,728</td>\\n\\t\\t\\t\\n\\t\\t\\n\\t\\n\\t\\t\\n\\t\\t\\t\\n\\t\\t\\t\\t\\n\\t\\t\\t\\t\\t\\n\\t\\t\\t\\t\\t\\t<td class=\"number\">35,716</td>\\n\\t\\t\\t\\t\\t\\n\\t\\t\\t\\t\\t\\n\\t\\t\\t\\t\\n\\t\\t\\t\\n\\t\\t\\t\\n\\t\\t\\t\\n\\t\\t\\n\\t\\n\\t\\t\\n\\t\\t\\t\\n\\t\\t\\t\\n\\t\\t\\t\\n\\t\\t\\t\\t\\t\\t\\t\\t\\t<td class=\"number\">533,276</td>\\n\\t\\t\\t\\n\\t\\t\\n\\t\\n\\t\\t\\n\\t\\t\\t\\n\\t\\t\\t\\n\\t\\t\\t\\n\\t\\t\\t\\t\\t\\t\\t\\t\\t<td class=\"number\">111,800</td>\\n\\t\\t\\t\\n\\t\\t\\n\\t\\n\\t\\t\\n\\t\\t\\t\\n\\t\\t\\t\\n\\t\\t\\t\\n\\t\\t\\t\\t\\t\\t\\t\\t\\t<td class=\"number\">111,800</td>\\n\\t\\t\\t\\n\\t\\t\\n\\t\\n\\t\\t\\n\\t\\t\\t\\n\\t\\t\\t\\n\\t\\t\\t\\n\\t\\t\\t\\t\\t\\t\\t\\t\\t<td class=\"number\">107,200</td>\\n\\t\\t\\t\\n\\t\\t\\n\\t\\n\\t\\t\\n\\t\\t\\t\\n\\t\\t\\t\\n\\t\\t\\t\\n\\t\\t\\t\\t\\t\\t\\t\\t\\t<td class=\"number\">108,600</td>\\n\\t\\t\\t\\n\\t\\t\\n\\t\\n\\t\\t\\n\\t\\t\\t\\n\\t\\t\\t\\n\\t\\t\\t\\n\\t\\t\\t\\t\\t\\t\\t\\t\\t<td class=\"number\">108,800</td>\\n\\t\\t\\t\\n\\t\\t\\n\\t\\n\\t\\t\\n\\t\\t\\t\\n\\t\\t\\t\\n\\t\\t\\t\\n\\t\\t\\t\\t\\t\\t\\t\\t\\t<td class=\"number\">3,658</td>\\n\\t\\t\\t\\n\\t\\t\\n\\t\\n\\t\\t\\n\\t\\t\\t\\n\\t\\t\\t\\n\\t\\t\\t\\n\\t\\t\\t\\t\\t\\t\\t\\t\\t<td class=\"number\">3,419</td>\\n\\t\\t\\t\\n\\t\\t\\n\\t\\n\\t\\t\\n\\t\\t\\t\\n\\t\\t\\t\\n\\t\\t\\t\\n\\t\\t\\t\\t\\t\\t\\t\\t\\t<td class=\"number\">10,554</td>\\n\\t\\t\\t\\n\\t\\t\\n\\t\\n\\t\\t\\n\\t\\t\\t\\n\\t\\t\\t\\n\\t\\t\\t\\n\\t\\t\\t\\t\\t\\t\\t\\t\\t<td class=\"number\">11,462</td>\\n\\t\\t\\t\\n\\t\\t\\n\\t\\n\\t\\t\\n\\t\\t\\t\\n\\t\\t\\t\\n\\t\\t\\t\\n\\t\\t\\t\\t\\t\\t\\t\\t\\t<td class=\"number\">856</td>\\n\\t\\t\\t\\n\\t\\t\\n\\t\\n\\t\\t\\n\\t\\t\\t\\n\\t\\t\\t\\n\\t\\t\\t\\n\\t\\t\\t\\t\\t\\t\\t\\t\\t<td class=\"number\">764</td>\\n\\t\\t\\t\\n\\t\\t\\n\\t\\n\\t\\t\\n\\t\\t\\t\\n\\t\\t\\t\\n\\t\\t\\t\\n\\t\\t\\t\\t\\t\\t\\t\\t\\t<td class=\"number\">245</td>\\n\\t\\t\\t\\n\\t\\t\\n\\t\\n\\t\\t\\n\\t\\t\\t\\n\\t\\t\\t\\n\\t\\t\\t\\n\\t\\t\\t\\t\\t\\t\\t\\t\\t<td class=\"number\">64</td>\\n\\t\\t\\t\\n\\t\\t\\n\\t\\n\\t\\t\\n\\t\\t\\t\\n\\t\\t\\t\\n\\t\\t\\t\\n\\t\\t\\t\\t\\t\\t\\t\\t\\t<td class=\"number\">41</td>\\n\\t\\t\\t\\n\\t\\t\\n\\t\\n\\t\\t\\n\\t\\t\\t\\n\\t\\t\\t\\n\\t\\t\\t\\n\\t\\t\\t\\t\\t\\t\\t\\t\\t<td class=\"number\">394</td>\\n\\t\\t\\t\\n\\t\\t\\n\\t\\n\\t\\t\\n\\t\\t\\t\\n\\t\\t\\t\\n\\t\\t\\t\\n\\t\\t\\t\\t\\t\\t\\t\\t\\t<td class=\"number\">100</td>\\n\\t\\t\\t\\n\\t\\t\\n\\t\\n\\t\\t\\n\\t\\t\\t\\n\\t\\t\\t\\n\\t\\t\\t\\n\\t\\t\\t\\t\\t\\t\\t\\t\\t<td class=\"number\">47.79</td>\\n\\t\\t\\t\\n\\t\\t\\n\\t\\n\\t\\t\\n\\t\\t\\t\\n\\t\\t\\t\\n\\t\\t\\t\\n\\t\\t\\t\\t\\t\\t\\t\\t\\t<td class=\"number\">297.67</td>\\n\\t\\t\\t\\n\\t\\t\\n\\t\\n\\t\\t\\n\\t\\t\\t\\n\\t\\t\\t\\n\\t\\t\\t\\n\\t\\t\\t\\t\\t\\t\\t\\t\\t<td class=\"number\">3.89</td>\\n\\t\\t\\t\\n\\t\\t\\n\\t\\n\\t\\t\\n\\t\\t\\t\\n\\t\\t\\t\\n\\t\\t\\t\\n\\t\\t\\t\\t\\t\\t\\t\\t\\t<td class=\"number\">275.63</td>\\n\\t\\t\\t\\n\\t\\t\\n\\t\\n\\t\\t\\n\\t\\t\\t\\n\\t\\t\\t\\n\\t\\t\\t\\n\\t\\t\\t\\t\\t\\t\\t\\t\\t<td class=\"number\">9.12</td>\\n\\t\\t\\t\\n\\t\\t\\n\\t\\n\\t\\t\\n\\t\\t\\t\\n\\t\\t\\t\\n\\t\\t\\t\\n\\t\\t\\t\\t\\t\\t\\t\\t\\t<td class=\"number\">5.67</td>\\n\\t\\t\\t\\n\\t\\t\\n\\t\\n\\t\\t\\n\\t\\t\\t\\n\\t\\t\\t\\n\\t\\t\\t\\n\\t\\t\\t\\t\\t\\t\\t\\t\\t<td class=\"number\">24.30</td>\\n\\t\\t\\t\\n\\t\\t\\n\\t\\n\\t\\t\\n\\t\\t\\t\\n\\t\\t\\t\\n\\t\\t\\t\\n\\t\\t\\t\\t\\t\\t\\t\\t\\t<td class=\"number\">806.6</td>\\n\\t\\t\\t\\n\\t\\t\\n\\t\\n\\t\\t\\t\\t\\t<td class=\"center\"><a href=\"/item/board.nhn?code=144510\"><img src=\"https://ssl.pstatic.net/imgstock/images5/ico_debatebl2.gif\" width=\"15\" height=\"13\" alt=\"토론실\"></a></td>\\n\\t\\t\\t\\t</tr>\\n\\t\\t\\t\\n\\t\\n\\t\\t\\n\\t\\t\\n\\t\\n\\n\\n\\t\\t\\t\\t<tr  onMouseOver=\"mouseOver(this)\" onMouseOut=\"mouseOut(this)\">\\n\\t\\t\\t\\t\\t<td class=\"no\">50</td>\\n\\t\\t\\t\\t\\t<td><a href=\"/item/main.nhn?code=022100\" class=\"tltle\">포스코 ICT</a></td>\\n\\t\\t\\t\\t\\t<td class=\"number\">7,490</td>\\n\\t\\t\\t\\t\\t<td class=\"number\">\\n\\t\\t\\t\\t<img src=\"https://ssl.pstatic.net/imgstock/images/images4/ico_up.gif\" width=\"7\" height=\"6\" style=\"margin-right:4px;\" alt=\"상승\"><span class=\"tah p11 red02\">\\n\\t\\t\\t\\t100\\n\\t\\t\\t\\t</span>\\n\\t\\t\\t</td>\\n\\t\\t\\t\\t\\t<td class=\"number\">\\n\\t\\t\\t\\t<span class=\"tah p11 red01\">\\n\\t\\t\\t\\t+1.35%\\n\\t\\t\\t\\t</span>\\n\\t\\t\\t</td>\\n\\t\\t\\t\\t\\t<td class=\"number\">500</td>\\n\\t\\n\\t\\t\\n\\t\\t\\t\\n\\t\\t\\t\\n\\t\\t\\t\\n\\t\\t\\t\\t\\t\\t\\t\\t\\t<td class=\"number\">1,327,645</td>\\n\\t\\t\\t\\n\\t\\t\\n\\t\\n\\t\\t\\n\\t\\t\\t\\n\\t\\t\\t\\t\\n\\t\\t\\t\\t\\t\\n\\t\\t\\t\\t\\t\\t<td class=\"number\">9,934</td>\\n\\t\\t\\t\\t\\t\\n\\t\\t\\t\\t\\t\\n\\t\\t\\t\\t\\n\\t\\t\\t\\n\\t\\t\\t\\n\\t\\t\\t\\n\\t\\t\\n\\t\\n\\t\\t\\n\\t\\t\\t\\n\\t\\t\\t\\n\\t\\t\\t\\n\\t\\t\\t\\t\\t\\t\\t\\t\\t<td class=\"number\">848,432</td>\\n\\t\\t\\t\\n\\t\\t\\n\\t\\n\\t\\t\\n\\t\\t\\t\\n\\t\\t\\t\\n\\t\\t\\t\\n\\t\\t\\t\\t\\t\\t\\t\\t\\t<td class=\"number\">7,430</td>\\n\\t\\t\\t\\n\\t\\t\\n\\t\\n\\t\\t\\n\\t\\t\\t\\n\\t\\t\\t\\n\\t\\t\\t\\n\\t\\t\\t\\t\\t\\t\\t\\t\\t<td class=\"number\">7,550</td>\\n\\t\\t\\t\\n\\t\\t\\n\\t\\n\\t\\t\\n\\t\\t\\t\\n\\t\\t\\t\\n\\t\\t\\t\\n\\t\\t\\t\\t\\t\\t\\t\\t\\t<td class=\"number\">7,400</td>\\n\\t\\t\\t\\n\\t\\t\\n\\t\\n\\t\\t\\n\\t\\t\\t\\n\\t\\t\\t\\n\\t\\t\\t\\n\\t\\t\\t\\t\\t\\t\\t\\t\\t<td class=\"number\">7,490</td>\\n\\t\\t\\t\\n\\t\\t\\n\\t\\n\\t\\t\\n\\t\\t\\t\\n\\t\\t\\t\\n\\t\\t\\t\\n\\t\\t\\t\\t\\t\\t\\t\\t\\t<td class=\"number\">7,500</td>\\n\\t\\t\\t\\n\\t\\t\\n\\t\\n\\t\\t\\n\\t\\t\\t\\n\\t\\t\\t\\n\\t\\t\\t\\n\\t\\t\\t\\t\\t\\t\\t\\t\\t<td class=\"number\">169,560</td>\\n\\t\\t\\t\\n\\t\\t\\n\\t\\n\\t\\t\\n\\t\\t\\t\\n\\t\\t\\t\\n\\t\\t\\t\\n\\t\\t\\t\\t\\t\\t\\t\\t\\t<td class=\"number\">95,361</td>\\n\\t\\t\\t\\n\\t\\t\\n\\t\\n\\t\\t\\n\\t\\t\\t\\n\\t\\t\\t\\n\\t\\t\\t\\n\\t\\t\\t\\t\\t\\t\\t\\t\\t<td class=\"number\">152,035</td>\\n\\t\\t\\t\\n\\t\\t\\n\\t\\n\\t\\t\\n\\t\\t\\t\\n\\t\\t\\t\\n\\t\\t\\t\\n\\t\\t\\t\\t\\t\\t\\t\\t\\t<td class=\"number\">11,387</td>\\n\\t\\t\\t\\n\\t\\t\\n\\t\\n\\t\\t\\n\\t\\t\\t\\n\\t\\t\\t\\n\\t\\t\\t\\n\\t\\t\\t\\t\\t\\t\\t\\t\\t<td class=\"number\">9,642</td>\\n\\t\\t\\t\\n\\t\\t\\n\\t\\n\\t\\t\\n\\t\\t\\t\\n\\t\\t\\t\\n\\t\\t\\t\\n\\t\\t\\t\\t\\t\\t\\t\\t\\t<td class=\"number\">6,844</td>\\n\\t\\t\\t\\n\\t\\t\\n\\t\\n\\t\\t\\n\\t\\t\\t\\n\\t\\t\\t\\n\\t\\t\\t\\n\\t\\t\\t\\t\\t\\t\\t\\t\\t<td class=\"number\">3,145</td>\\n\\t\\t\\t\\n\\t\\t\\n\\t\\n\\t\\t\\n\\t\\t\\t\\n\\t\\t\\t\\n\\t\\t\\t\\n\\t\\t\\t\\t\\t\\t\\t\\t\\t<td class=\"number\">261</td>\\n\\t\\t\\t\\n\\t\\t\\n\\t\\n\\t\\t\\n\\t\\t\\t\\n\\t\\t\\t\\n\\t\\t\\t\\n\\t\\t\\t\\t\\t\\t\\t\\t\\t<td class=\"number\">90</td>\\n\\t\\t\\t\\n\\t\\t\\n\\t\\n\\t\\t\\n\\t\\t\\t\\n\\t\\t\\t\\n\\t\\t\\t\\n\\t\\t\\t\\t\\t\\t\\t\\t\\t<td class=\"number\">57</td>\\n\\t\\t\\t\\n\\t\\t\\n\\t\\n\\t\\t\\n\\t\\t\\t\\n\\t\\t\\t\\n\\t\\t\\t\\n\\t\\t\\t\\t\\t\\t\\t\\t\\t<td class=\"number\">50</td>\\n\\t\\t\\t\\n\\t\\t\\n\\t\\n\\t\\t\\n\\t\\t\\t\\n\\t\\t\\t\\n\\t\\t\\t\\n\\t\\t\\t\\t\\t\\t\\t\\t\\t<td class=\"number\">-0.58</td>\\n\\t\\t\\t\\n\\t\\t\\n\\t\\n\\t\\t\\n\\t\\t\\t\\n\\t\\t\\t\\n\\t\\t\\t\\n\\t\\t\\t\\t\\t\\t\\t\\t\\t<td class=\"number\">-45.77</td>\\n\\t\\t\\t\\n\\t\\t\\n\\t\\n\\t\\t\\n\\t\\t\\t\\n\\t\\t\\t\\n\\t\\t\\t\\n\\t\\t\\t\\t\\t\\t\\t\\t\\t<td class=\"number\">2.66</td>\\n\\t\\t\\t\\n\\t\\t\\n\\t\\n\\t\\t\\n\\t\\t\\t\\n\\t\\t\\t\\n\\t\\t\\t\\n\\t\\t\\t\\t\\t\\t\\t\\t\\t<td class=\"number\">131.40</td>\\n\\t\\t\\t\\n\\t\\t\\n\\t\\n\\t\\t\\n\\t\\t\\t\\n\\t\\t\\t\\n\\t\\t\\t\\n\\t\\t\\t\\t\\t\\t\\t\\t\\t<td class=\"number\">2.36</td>\\n\\t\\t\\t\\n\\t\\t\\n\\t\\n\\t\\t\\n\\t\\t\\t\\n\\t\\t\\t\\n\\t\\t\\t\\n\\t\\t\\t\\t\\t\\t\\t\\t\\t<td class=\"number\">1.32</td>\\n\\t\\t\\t\\n\\t\\t\\n\\t\\n\\t\\t\\n\\t\\t\\t\\n\\t\\t\\t\\n\\t\\t\\t\\n\\t\\t\\t\\t\\t\\t\\t\\t\\t<td class=\"number\">3.08</td>\\n\\t\\t\\t\\n\\t\\t\\n\\t\\n\\t\\t\\n\\t\\t\\t\\n\\t\\t\\t\\n\\t\\t\\t\\n\\t\\t\\t\\t\\t\\t\\t\\t\\t<td class=\"number\">389.5</td>\\n\\t\\t\\t\\n\\t\\t\\n\\t\\n\\t\\t\\t\\t\\t<td class=\"center\"><a href=\"/item/board.nhn?code=022100\"><img src=\"https://ssl.pstatic.net/imgstock/images5/ico_debatebl2.gif\" width=\"15\" height=\"13\" alt=\"토론실\"></a></td>\\n\\t\\t\\t\\t</tr>\\n\\t\\t\\t\\n\\t\\n\\t\\t\\n\\t\\t\\n\\t\\t\\t\\t<tr><td colspan=\"13\" class=\"blank_09\"></td></tr>\\n\\t\\t\\t\\t<tr><td colspan=\"13\" class=\"division_line_1\"></td></tr>\\n\\t\\t\\t\\t<tr><td colspan=\"13\" class=\"blank_09\"></td></tr>\\n\\t\\t\\n\\t\\n\\n\\n\\n\\t\\t\\t\\t</tbody>\\n\\t\\t\\t\\t</table>\\n\\t\\t\\t\\t<table summary=\"페이지 네비게이션 리스트\" class=\"Nnavi\" align=\"center\">\\n\\t\\t\\t\\t<caption>페이지 네비게이션</caption>\\n\\t\\t\\t\\t<tr>\\t\\t\\n\\t\\t\\t\\t\\t\\n\\t\\t\\t\\t\\t\\n\\t\\t\\t\\t\\t\\n\\t\\t\\t\\t\\t<td class=\"on\">\\n\\t\\t\\t\\t<a href=\"/sise/sise_market_sum.nhn?sosok=1&amp;page=1\"  >1</a>\\n\\t\\t\\t\\t</td>\\n<td>\\n\\t\\t\\t\\t<a href=\"/sise/sise_market_sum.nhn?sosok=1&amp;page=2\"  >2</a>\\n\\t\\t\\t\\t</td>\\n<td>\\n\\t\\t\\t\\t<a href=\"/sise/sise_market_sum.nhn?sosok=1&amp;page=3\"  >3</a>\\n\\t\\t\\t\\t</td>\\n<td>\\n\\t\\t\\t\\t<a href=\"/sise/sise_market_sum.nhn?sosok=1&amp;page=4\"  >4</a>\\n\\t\\t\\t\\t</td>\\n<td>\\n\\t\\t\\t\\t<a href=\"/sise/sise_market_sum.nhn?sosok=1&amp;page=5\"  >5</a>\\n\\t\\t\\t\\t</td>\\n<td>\\n\\t\\t\\t\\t<a href=\"/sise/sise_market_sum.nhn?sosok=1&amp;page=6\"  >6</a>\\n\\t\\t\\t\\t</td>\\n<td>\\n\\t\\t\\t\\t<a href=\"/sise/sise_market_sum.nhn?sosok=1&amp;page=7\"  >7</a>\\n\\t\\t\\t\\t</td>\\n<td>\\n\\t\\t\\t\\t<a href=\"/sise/sise_market_sum.nhn?sosok=1&amp;page=8\"  >8</a>\\n\\t\\t\\t\\t</td>\\n<td>\\n\\t\\t\\t\\t<a href=\"/sise/sise_market_sum.nhn?sosok=1&amp;page=9\"  >9</a>\\n\\t\\t\\t\\t</td>\\n<td>\\n\\t\\t\\t\\t<a href=\"/sise/sise_market_sum.nhn?sosok=1&amp;page=10\"  >10</a>\\n\\t\\t\\t\\t</td>\\n\\n\\t\\t\\t\\t\\t<td class=\"pgR\">\\n\\t\\t\\t\\t<a href=\"/sise/sise_market_sum.nhn?sosok=1&amp;page=11\"  >\\n\\t\\t\\t\\t다음<img src=\"https://ssl.pstatic.net/static/n/cmn/bu_pgarR.gif\" width=\"3\" height=\"5\" alt=\"\" border=\"0\">\\n\\t\\t\\t\\t</a>\\n\\t\\t\\t\\t</td>\\n\\n\\t\\t\\t\\t\\t<td class=\"pgRR\">\\n\\t\\t\\t\\t<a href=\"/sise/sise_market_sum.nhn?sosok=1&amp;page=30\"  >맨뒤\\n\\t\\t\\t\\t<img src=\"https://ssl.pstatic.net/static/n/cmn/bu_pgarRR.gif\" width=\"8\" height=\"5\" alt=\"\" border=\"0\">\\n\\t\\t\\t\\t</a>\\n\\t\\t\\t\\t</td>\\n\\n\\t\\t\\t\\t\\t\\n\\t\\t\\t\\t</tr>\\n\\t\\t\\t\\t</table>\\n\\t\\t\\t</div>\\n\\t\\t\\t<!-- // 종목 -->\\n\\t\\t\\t<!-- //컨텐츠 -->\\n\\t\\t</div>\\n\\t</div>\\n\\n\\n\\n\\n\\n\\n\\t\\n\\n\\n\\n\\n\\n\\n\\t<div id=\"footer\">\\n\\t\\t<ul>\\n\\t\\t\\t<li class=\"first\">\\n\\t\\t\\t\\t<a href=\"https://www.naver.com/rules/service.html\" onClick=\"clickcr(this, \\'fot.service\\', \\'\\', \\'\\', event);\" target=\"_blank\">이용약관</a>\\n\\t\\t\\t</li>\\n\\t\\t\\t<li>\\n\\t\\t\\t\\t<a href=\"https://finance.naver.com/rules.nhn\" onClick=\"clickcr(this, \\'fot.policy\\', \\'\\', \\'\\', event);\" target=\"_blank\">금융게시판 운영원칙</a>\\n\\t\\t\\t</li>\\n\\t\\t\\t<li>\\n\\t\\t\\t\\t<a href=\"https://www.naver.com/rules/privacy.html\" onClick=\"clickcr(this, \\'fot.privacy\\', \\'\\', \\'\\', event);\" target=\"_blank\"><strong>개인정보처리방침</strong></a>\\n\\t\\t\\t</li>\\n\\t\\t\\t<li>\\n\\t\\t\\t\\t<a href=\"https://www.naver.com/rules/disclaimer.html\" onClick=\"clickcr(this, \\'fot.limit\\', \\'\\', \\'\\', event);\" target=\"_blank\">책임의 한계와 법적고지</a>\\n\\t\\t\\t</li>\\n\\t\\t\\t<li>\\n\\t\\t\\t\\t<a href=\"https://help.naver.com/support/alias/contents2/finance/finance_1.naver\" onclick=\"clickcr(this, \\'fot.help\\', \\'\\', \\'\\', event);\" target=\"_blank\">금융 고객센터</a>\\n\\t\\t\\t</li>\\n\\t\\t</ul>\\n\\t\\t<p class=\"desc\">네이버(주)가 제공하는 금융 정보는 각 콘텐츠 제공업체<a href=\"javascript:;\" onclick=\"togglePanelFooter(\\'footerPanel0\\');\" class=\"desc_help\"><img src=\"https://ssl.pstatic.net/static/nfinance/2018/06/29/btn_help.png\" width=\"17\" height=\"17\" alt=\"제공업체 상세설명\"></a>로부터 받는 투자 참고사항이며, 오류가 발생하거나 지연될 수 있습니다.<br>네이버(주)와 콘텐츠 제공업체는 제공된 정보에 의한 투자 결과에 법적인 책임을 지지 않습니다. 게시된 정보는 무단으로 배포할 수 없습니다.</p>\\n\\t\\t<div id=\"footerPanel0\" class=\"provider_layer\" style=\"display:none\" tabindex=\"0\" onblur=\"hidePannel(\\'footerPanel0\\')\">\\n\\t\\t\\t<strong class=\"provider_layer__tit\">콘텐츠 제공업체</strong>\\n\\t\\t\\t<div class=\"provider_layer__txt\">\\n\\t\\t\\t\\t<p><span>코스콤 : </span>실시간 주가정보 및 국내시세정보</p>\\n\\t\\t\\t\\t<p><span>에프앤가이드 : </span>기업 및 재무정보</p>\\n\\t\\t\\t\\t<p><span>KG제로인 : </span>해외 시세, 시장지표 및 펀드 정보</p>\\n\\t\\t\\t\\t<p><span>한국예탁결제원 : </span>주주총회일 및 전자투표 정보</p>\\n\\t\\t\\t\\t<p><span>인포스탁 : </span>국내 테마 정보</p>\\n\\t\\t\\t</div>\\n\\t\\t\\t<span class=\"arrow\"></span>\\n\\t\\t</div>\\n\\t\\t<address>\\n\\t\\t\\t<a href=\"https://www.navercorp.com/\" target=\"_blank\" class=\"logo\" onClick=\"clickcr(this, \\'fot.nhn\\', \\'\\', \\'\\', event);\"><img src=\"https://ssl.pstatic.net/static/nfinance/2019/02/22/ci_naver.png\" width=\"58\" height=\"11\" alt=\"NAVER\" /></a>\\n\\t\\t\\t<em>Copyright &copy;</em>\\n\\t\\t\\t<a href=\"https://www.navercorp.com/\" target=\"_blank\" onClick=\"clickcr(this, \\'fot.nhn\\', \\'\\', \\'\\', event);\">NAVER Corp.</a>\\n\\t\\t\\t<span>All Rights Reserved.</span>\\n\\t\\t</address>\\n\\t\\t\\n\\t\\t\\n\\t\\t\\n\\t</div>\\n\\n\\n\\n<script type=\"text/javascript\">\\nfunction isVisible(obj) {\\n    if (obj == document) return true\\n \\n    if (!obj) return false\\n    if (!obj.parentNode) return false\\n    if (obj.style) {\\n        if (obj.style.display == \\'none\\') return false\\n        if (obj.style.visibility == \\'hidden\\') return false\\n    }\\n \\n    if (window.getComputedStyle) {\\n        var style = window.getComputedStyle(obj, \"\")\\n        if (style.display == \\'none\\') return false\\n        if (style.visibility == \\'hidden\\') return false\\n    }\\n \\n    var style = obj.currentStyle\\n    if (style) {\\n        if (style[\\'display\\'] == \\'none\\') return false\\n        if (style[\\'visibility\\'] == \\'hidden\\') return false\\n    }\\n \\n    return isVisible(obj.parentNode)\\n}\\n\\nfunction isChildOf(myobj, containerObj) {\\n\\twhile(myobj != undefined) {\\n\\t\\tif (myobj == document.body) {\\n\\t\\t\\tbreak;\\n\\t\\t} \\n\\t\\tif (myobj == containerObj) {\\n\\t\\t\\treturn true;\\n\\t\\t}\\n\\t\\tmyobj = myobj.parentElement;\\n\\t}\\n\\treturn false;\\t\\n}\\n\\nfunction gnbLayerClose(e){\\n\\tvar target = e.target ? e.target : e.srcElement;\\n\\tif (isVisible(document.getElementById(\\'gnb_service_lyr\\')) || isVisible(document.getElementById(\\'gnb_notice_lyr\\')) ||isVisible(document.getElementById(\\'gnb_my_lyr\\')) ) {\\n\\t\\tif (!isChildOf(target, document.getElementById(\\'gnb\\'))) {\\n\\t\\t\\tgnbAllLayerClose();\\n\\t\\t}\\n\\t}\\t\\n}\\n\\nvar isIE = (navigator.userAgent.toLowerCase().indexOf(\"msie\")!=-1 && window.document.all) ? true:false;\\nif (isIE) {\\n\\tdocument.attachEvent(\\'onmousedown\\', gnbLayerClose);\\n} else {\\n\\twindow.addEventListener(\\'mousedown\\', gnbLayerClose);\\n}\\n\\nfunction showPannel(layerId){\\n    var layer = jindo.$(layerId);\\n    layer.style.display=\\'block\\';\\n\\n    if (layerId == \"summary_lyr\") {\\n        var layerHeight = jindo.$Element(layer).height();\\n        jindo.$Element(\"summary_ifr\").height(layerHeight);\\n    }\\n}\\n\\nfunction hidePannel(layerId){\\n    var layer = jindo.$(layerId);\\n    layer.style.display=\\'none\\';\\n}\\n\\nfunction togglePanelFooter(layerId) {\\n    var elTargetLayer = jindo.$Element(jindo.$$.getSingle(\"#\" + layerId));\\n\\n    if (elTargetLayer != null) {\\n        if (elTargetLayer.visible()) {\\n            hidePannel(layerId);\\n        } else {\\n            showPannel(layerId);\\n        }\\n    }\\n}\\n\\n// add data-useragent\\ndocument.documentElement.setAttribute(\\'data-useragent\\',navigator.userAgent);\\n</script>\\n</div>\\n</body>\\n</html>\\n'"
      ]
     },
     "metadata": {},
     "execution_count": 7
    }
   ]
  },
  {
   "cell_type": "code",
   "execution_count": 8,
   "metadata": {},
   "outputs": [],
   "source": [
    "soup2 = BeautifulSoup(r2.text, 'lxml')\n",
    "# table\n",
    "table_html = soup2.select_one('table.type_2')\n",
    "soup2\n",
    "with open('test.txt', 'w') as f:\n",
    "    f.write(str(soup2))"
   ]
  },
  {
   "cell_type": "code",
   "execution_count": 9,
   "metadata": {},
   "outputs": [
    {
     "output_type": "execute_result",
     "data": {
      "text/plain": [
       "['N',\n",
       " '종목명',\n",
       " '현재가',\n",
       " '전일비',\n",
       " '등락률',\n",
       " '액면가',\n",
       " '거래량',\n",
       " '거래대금',\n",
       " '전일거래량',\n",
       " '시가',\n",
       " '고가',\n",
       " '저가',\n",
       " '매수호가',\n",
       " '매도호가',\n",
       " '매수총잔량',\n",
       " '매도총잔량',\n",
       " '상장주식수',\n",
       " '시가총액',\n",
       " '매출액',\n",
       " '자산총계',\n",
       " '부채총계',\n",
       " '영업이익',\n",
       " '당기순이익',\n",
       " '주당순이익',\n",
       " '보통주배당금',\n",
       " '매출액증가율',\n",
       " '영업이익증가율',\n",
       " '외국인비율',\n",
       " 'PER',\n",
       " 'ROE',\n",
       " 'ROA',\n",
       " 'PBR',\n",
       " '유보율',\n",
       " '토론실']"
      ]
     },
     "metadata": {},
     "execution_count": 9
    }
   ],
   "source": [
    "# column\n",
    "header_data = [item.get_text().strip() for item in table_html.find('thead').find('tr').find_all('th')]\n",
    "header_data"
   ]
  },
  {
   "cell_type": "code",
   "execution_count": 10,
   "metadata": {},
   "outputs": [
    {
     "output_type": "execute_result",
     "data": {
      "text/plain": [
       "<tr><td class=\"blank_08\" colspan=\"10\"></td></tr>"
      ]
     },
     "metadata": {},
     "execution_count": 10
    }
   ],
   "source": [
    "table_html.find('tbody').find('tr')"
   ]
  },
  {
   "cell_type": "code",
   "execution_count": 11,
   "metadata": {},
   "outputs": [],
   "source": [
    "# 첫 줄은 필요없는 줄\n",
    "td_items = [tr_item.find_all('td') for tr_item in table_html.find('tbody').find_all('tr')][1:]"
   ]
  },
  {
   "cell_type": "code",
   "execution_count": 111,
   "metadata": {},
   "outputs": [
    {
     "output_type": "execute_result",
     "data": {
      "text/plain": [
       "[<td class=\"no\">2</td>,\n",
       " <td><a class=\"tltle\" href=\"/item/main.nhn?code=068760\">셀트리온제약</a></td>,\n",
       " <td class=\"number\">150,600</td>,\n",
       " <td class=\"number\">\n",
       " <img alt=\"하락\" height=\"6\" src=\"https://ssl.pstatic.net/imgstock/images/images4/ico_down.gif\" style=\"margin-right:4px;\" width=\"7\"/><span class=\"tah p11 nv01\">\n",
       " \t\t\t\t100\n",
       " \t\t\t\t</span>\n",
       " </td>,\n",
       " <td class=\"number\">\n",
       " <span class=\"tah p11 nv01\">\n",
       " \t\t\t\t-0.07%\n",
       " \t\t\t\t</span>\n",
       " </td>,\n",
       " <td class=\"number\">500</td>,\n",
       " <td class=\"number\">128,406</td>,\n",
       " <td class=\"number\">19,461</td>,\n",
       " <td class=\"number\">131,273</td>,\n",
       " <td class=\"number\">151,300</td>,\n",
       " <td class=\"number\">154,000</td>,\n",
       " <td class=\"number\">150,200</td>,\n",
       " <td class=\"number\">150,600</td>,\n",
       " <td class=\"number\">150,700</td>,\n",
       " <td class=\"number\">5,764</td>,\n",
       " <td class=\"number\">4,314</td>,\n",
       " <td class=\"number\">35,811</td>,\n",
       " <td class=\"number\">53,932</td>,\n",
       " <td class=\"number\">1,735</td>,\n",
       " <td class=\"number\">4,710</td>,\n",
       " <td class=\"number\">1,909</td>,\n",
       " <td class=\"number\">147</td>,\n",
       " <td class=\"number\">86</td>,\n",
       " <td class=\"number\">394</td>,\n",
       " <td class=\"number\">23</td>,\n",
       " <td class=\"number\">18.13</td>,\n",
       " <td class=\"number\">312.83</td>,\n",
       " <td class=\"number\">8.98</td>,\n",
       " <td class=\"number\">382.23</td>,\n",
       " <td class=\"number\">3.13</td>,\n",
       " <td class=\"number\">1.86</td>,\n",
       " <td class=\"number\">18.98</td>,\n",
       " <td class=\"number\">1,535.0</td>,\n",
       " <td class=\"center\"><a href=\"/item/board.nhn?code=068760\"><img alt=\"토론실\" height=\"13\" src=\"https://ssl.pstatic.net/imgstock/images5/ico_debatebl2.gif\" width=\"15\"/></a></td>]"
      ]
     },
     "metadata": {},
     "execution_count": 111
    }
   ],
   "source": [
    "td_items[1]"
   ]
  },
  {
   "cell_type": "code",
   "execution_count": null,
   "metadata": {},
   "outputs": [],
   "source": [
    "[print(x, y) for x in iter1 for y in iter2]"
   ]
  },
  {
   "cell_type": "code",
   "execution_count": null,
   "metadata": {},
   "outputs": [],
   "source": []
  },
  {
   "cell_type": "code",
   "execution_count": 151,
   "metadata": {
    "tags": []
   },
   "outputs": [],
   "source": [
    "inner_data = [i.get_text().strip() for item in td_items for i in item if (i.find('a') or len(i.get('class', [])) > 0) or ('title' in i.find('a').get('class', []) or ('number' in i.get('class', [])) and ('no' not in i.get('class', [])))]"
   ]
  },
  {
   "cell_type": "code",
   "execution_count": 152,
   "metadata": {},
   "outputs": [],
   "source": [
    "no_data = [i.get_text().strip() for item in td_items for i in item if len(i.get('class', [])) > 0 and ('no' in i.get('class', []))]"
   ]
  },
  {
   "cell_type": "code",
   "execution_count": 153,
   "metadata": {},
   "outputs": [],
   "source": [
    "number_data = np.array(inner_data)"
   ]
  },
  {
   "cell_type": "code",
   "execution_count": 154,
   "metadata": {},
   "outputs": [],
   "source": [
    "number_data.resize(len(no_data), len(header_data))"
   ]
  },
  {
   "cell_type": "code",
   "execution_count": 155,
   "metadata": {},
   "outputs": [],
   "source": [
    "df = pd.DataFrame(data=number_data, columns=header_data)"
   ]
  },
  {
   "cell_type": "code",
   "execution_count": null,
   "metadata": {},
   "outputs": [],
   "source": []
  }
 ]
}