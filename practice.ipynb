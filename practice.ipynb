{
 "metadata": {
  "language_info": {
   "codemirror_mode": {
    "name": "ipython",
    "version": 3
   },
   "file_extension": ".py",
   "mimetype": "text/x-python",
   "name": "python",
   "nbconvert_exporter": "python",
   "pygments_lexer": "ipython3",
   "version": "3.8.5-final"
  },
  "orig_nbformat": 2,
  "kernelspec": {
   "name": "python3",
   "display_name": "Python 3.8.5 64-bit ('stock')",
   "metadata": {
    "interpreter": {
     "hash": "59bdc7e3436a1f3dc6dc30af3703bc6a5e1117e99ab5acde87ab52d01c56c2b3"
    }
   }
  }
 },
 "nbformat": 4,
 "nbformat_minor": 2,
 "cells": [
  {
   "cell_type": "code",
   "execution_count": 52,
   "metadata": {},
   "outputs": [],
   "source": [
    "import requests\n",
    "from bs4 import BeautifulSoup\n",
    "import pandas as pd\n",
    "import numpy as np"
   ]
  },
  {
   "cell_type": "code",
   "execution_count": 53,
   "metadata": {},
   "outputs": [],
   "source": [
    "BASE_URL = 'https://finance.naver.com/sise/sise_market_sum.nhn?sosok='"
   ]
  },
  {
   "cell_type": "code",
   "execution_count": 54,
   "metadata": {},
   "outputs": [],
   "source": [
    "r = requests.get(BASE_URL+str(1)+'&page='+str(1))"
   ]
  },
  {
   "cell_type": "code",
   "execution_count": 55,
   "metadata": {},
   "outputs": [],
   "source": [
    "soup = BeautifulSoup(r.text, 'lxml')"
   ]
  },
  {
   "cell_type": "code",
   "execution_count": 56,
   "metadata": {},
   "outputs": [
    {
     "output_type": "execute_result",
     "data": {
      "text/plain": [
       "30"
      ]
     },
     "metadata": {},
     "execution_count": 56
    }
   ],
   "source": [
    "total_page_num = soup.select_one('td.pgRR > a')\n",
    "total_page_num  = int(total_page_num.get('href').split('=')[-1])\n",
    "total_page_num"
   ]
  },
  {
   "cell_type": "code",
   "execution_count": 57,
   "metadata": {},
   "outputs": [
    {
     "output_type": "execute_result",
     "data": {
      "text/plain": [
       "['market_sum',\n",
       " 'per',\n",
       " 'property_total',\n",
       " 'roe',\n",
       " 'debt_total',\n",
       " 'sales',\n",
       " 'pbr',\n",
       " 'reserve_ratio']"
      ]
     },
     "metadata": {},
     "execution_count": 57
    }
   ],
   "source": [
    "ipt_html = soup.select_one('div.subcnt_sise_item_top')\n",
    "global fields\n",
    "fields = [item.get('value') for item in ipt_html.select('input') if item.get('value') in ['per', 'pbr', 'roe', 'market_sum', 'property_total', 'debt_total', 'sales', 'reserve_ratio']]\n",
    "fields"
   ]
  },
  {
   "source": [
    "global fields\n",
    "data = {\n",
    "    'menu': 'market_sum',\n",
    "    'returnUrl': BASE_URL + str(1) + \"&page=\" + str(1),\n",
    "    'fieldIds': fields\n",
    "}\n",
    "\n",
    "r2 = requests.post('https://finance.naver.com/sise/field_submit.nhn', data=data)\n",
    "r2.encoding='euc-kr'\n",
    "r2.text"
   ],
   "cell_type": "code",
   "metadata": {},
   "execution_count": 58,
   "outputs": [
    {
     "output_type": "execute_result",
     "data": {
      "text/plain": [
       "bl2.gif\" width=\"15\" height=\"13\" alt=\"토론실\"></a></td>\\n\\t\\t\\t\\t</tr>\\n\\t\\t\\t\\n\\t\\n\\t\\t\\n\\t\\t\\n\\t\\n\\n\\n\\t\\t\\t\\t<tr  onMouseOver=\"mouseOver(this)\" onMouseOut=\"mouseOut(this)\">\\n\\t\\t\\t\\t\\t<td class=\"no\">43</td>\\n\\t\\t\\t\\t\\t<td><a href=\"/item/main.nhn?code=035900\" class=\"tltle\">JYP Ent.</a></td>\\n\\t\\t\\t\\t\\t<td class=\"number\">34,900</td>\\n\\t\\t\\t\\t\\t<td class=\"number\">\\n\\t\\t\\t\\t<img src=\"https://ssl.pstatic.net/imgstock/images/images4/ico_up.gif\" width=\"7\" height=\"6\" style=\"margin-right:4px;\" alt=\"상승\"><span class=\"tah p11 red02\">\\n\\t\\t\\t\\t200\\n\\t\\t\\t\\t</span>\\n\\t\\t\\t</td>\\n\\t\\t\\t\\t\\t<td class=\"number\">\\n\\t\\t\\t\\t<span class=\"tah p11 red01\">\\n\\t\\t\\t\\t+0.58%\\n\\t\\t\\t\\t</span>\\n\\t\\t\\t</td>\\n\\t\\t\\t\\t\\t<td class=\"number\">500</td>\\n\\t\\n\\t\\t\\n\\t\\t\\t\\n\\t\\t\\t\\n\\t\\t\\t\\n\\t\\t\\t\\t\\t\\t\\t\\t\\t<td class=\"number\">12,389</td>\\n\\t\\t\\t\\n\\t\\t\\n\\t\\n\\t\\t\\n\\t\\t\\t\\n\\t\\t\\t\\n\\t\\t\\t\\n\\t\\t\\t\\t\\t\\t\\t\\t\\t<td class=\"number\">1,444</td>\\n\\t\\t\\t\\n\\t\\t\\n\\t\\n\\t\\t\\n\\t\\t\\t\\n\\t\\t\\t\\n\\t\\t\\t\\n\\t\\t\\t\\t\\t\\t\\t\\t\\t<td class=\"number\">2,239</td>\\n\\t\\t\\t\\n\\t\\t\\n\\t\\n\\t\\t\\n\\t\\t\\t\\n\\t\\t\\t\\n\\t\\t\\t\\n\\t\\t\\t\\t\\t\\t\\t\\t\\t<td class=\"number\">377</td>\\n\\t\\t\\t\\n\\t\\t\\n\\t\\n\\t\\t\\n\\t\\t\\t\\n\\t\\t\\t\\n\\t\\t\\t\\n\\t\\t\\t\\t\\t\\t\\t\\t\\t<td class=\"number\">41.95</td>\\n\\t\\t\\t\\n\\t\\t\\n\\t\\n\\t\\t\\n\\t\\t\\t\\n\\t\\t\\t\\n\\t\\t\\t\\n\\t\\t\\t\\t\\t\\t\\t\\t\\t<td class=\"number\">17.29</td>\\n\\t\\t\\t\\n\\t\\t\\n\\t\\n\\t\\t\\n\\t\\t\\t\\n\\t\\t\\t\\n\\t\\t\\t\\n\\t\\t\\t\\t\\t\\t\\t\\t\\t<td class=\"number\">6.32</td>\\n\\t\\t\\t\\n\\t\\t\\n\\t\\n\\t\\t\\n\\t\\t\\t\\n\\t\\t\\t\\n\\t\\t\\t\\n\\t\\t\\t\\t\\t\\t\\t\\t\\t<td class=\"number\">985.7</td>\\n\\t\\t\\t\\n\\t\\t\\n\\t\\n\\t\\t\\t\\t\\t<td class=\"center\"><a href=\"/item/board.nhn?code=035900\"><img src=\"https://ssl.pstatic.net/imgstock/images5/ico_debatebl2.gif\" width=\"15\" height=\"13\" alt=\"토론실\"></a></td>\\n\\t\\t\\t\\t</tr>\\n\\t\\t\\t\\n\\t\\n\\t\\t\\n\\t\\t\\n\\t\\n\\n\\n\\t\\t\\t\\t<tr  onMouseOver=\"mouseOver(this)\" onMouseOut=\"mouseOut(this)\">\\n\\t\\t\\t\\t\\t<td class=\"no\">44</td>\\n\\t\\t\\t\\t\\t<td><a href=\"/item/main.nhn?code=060250\" class=\"tltle\">NHN한국사이버결제</a></td>\\n\\t\\t\\t\\t\\t<td class=\"number\">53,200</td>\\n\\t\\t\\t\\t\\t<td class=\"number\">\\n\\t\\t\\t\\t<img src=\"https://ssl.pstatic.net/imgstock/images/images4/ico_up.gif\" width=\"7\" height=\"6\" style=\"margin-right:4px;\" alt=\"상승\"><span class=\"tah p11 red02\">\\n\\t\\t\\t\\t2,400\\n\\t\\t\\t\\t</span>\\n\\t\\t\\t</td>\\n\\t\\t\\t\\t\\t<td class=\"number\">\\n\\t\\t\\t\\t<span class=\"tah p11 red01\">\\n\\t\\t\\t\\t+4.72%\\n\\t\\t\\t\\t</span>\\n\\t\\t\\t</td>\\n\\t\\t\\t\\t\\t<td class=\"number\">500</td>\\n\\t\\n\\t\\t\\n\\t\\t\\t\\n\\t\\t\\t\\n\\t\\t\\t\\n\\t\\t\\t\\t\\t\\t\\t\\t\\t<td class=\"number\">12,221</td>\\n\\t\\t\\t\\n\\t\\t\\n\\t\\n\\t\\t\\n\\t\\t\\t\\n\\t\\t\\t\\n\\t\\t\\t\\n\\t\\t\\t\\t\\t\\t\\t\\t\\t<td class=\"number\">6,248</td>\\n\\t\\t\\t\\n\\t\\t\\n\\t\\n\\t\\t\\n\\t\\t\\t\\n\\t\\t\\t\\n\\t\\t\\t\\n\\t\\t\\t\\t\\t\\t\\t\\t\\t<td class=\"number\">3,747</td>\\n\\t\\t\\t\\n\\t\\t\\n\\t\\n\\t\\t\\n\\t\\t\\t\\n\\t\\t\\t\\n\\t\\t\\t\\n\\t\\t\\t\\t\\t\\t\\t\\t\\t<td class=\"number\">2,206</td>\\n\\t\\t\\t\\n\\t\\t\\n\\t\\n\\t\\t\\n\\t\\t\\t\\n\\t\\t\\t\\n\\t\\t\\t\\n\\t\\t\\t\\t\\t\\t\\t\\t\\t<td class=\"number\">43.43</td>\\n\\t\\t\\t\\n\\t\\t\\n\\t\\n\\t\\t\\n\\t\\t\\t\\n\\t\\t\\t\\n\\t\\t\\t\\n\\t\\t\\t\\t\\t\\t\\t\\t\\t<td class=\"number\">21.35</td>\\n\\t\\t\\t\\n\\t\\t\\n\\t\\n\\t\\t\\n\\t\\t\\t\\n\\t\\t\\t\\n\\t\\t\\t\\n\\t\\t\\t\\t\\t\\t\\t\\t\\t<td class=\"number\">8.09</td>\\n\\t\\t\\t\\n\\t\\t\\n\\t\\n\\t\\t\\n\\t\\t\\t\\n\\t\\t\\t\\n\\t\\t\\t\\n\\t\\t\\t\\t\\t\\t\\t\\t\\t<td class=\"number\">1,436.9</td>\\n\\t\\t\\t\\n\\t\\t\\n\\t\\n\\t\\t\\t\\t\\t<td class=\"center\"><a href=\"/item/board.nhn?code=060250\"><img src=\"https://ssl.pstatic.net/imgstock/images5/ico_debatebl2.gif\" width=\"15\" height=\"13\" alt=\"토론실\"></a></td>\\n\\t\\t\\t\\t</tr>\\n\\t\\t\\t\\n\\t\\n\\t\\t\\n\\t\\t\\n\\t\\n\\n\\n\\t\\t\\t\\t<tr  onMouseOver=\"mouseOver(this)\" onMouseOut=\"mouseOut(this)\">\\n\\t\\t\\t\\t\\t<td class=\"no\">45</td>\\n\\t\\t\\t\\t\\t<td><a href=\"/item/main.nhn?code=039200\" class=\"tltle\">오스코텍</a></td>\\n\\t\\t\\t\\t\\t<td class=\"number\">40,650</td>\\n\\t\\t\\t\\t\\t<td class=\"number\">\\n\\t\\t\\t\\t<span class=\"tah p11\">0</span>\\n\\t\\t\\t</td>\\n\\t\\t\\t\\t\\t<td class=\"number\">\\n\\t\\t\\t\\t<span class=\"tah p11\">0.00%</span>\\n\\t\\t\\t</td>\\n\\t\\t\\t\\t\\t<td class=\"number\">500</td>\\n\\t\\n\\t\\t\\n\\t\\t\\t\\n\\t\\t\\t\\n\\t\\t\\t\\n\\t\\t\\t\\t\\t\\t\\t\\t\\t<td class=\"number\">12,160</td>\\n\\t\\t\\t\\n\\t\\t\\n\\t\\n\\t\\t\\n\\t\\t\\t\\n\\t\\t\\t\\n\\t\\t\\t\\n\\t\\t\\t\\t\\t\\t\\t\\t\\t<td class=\"number\">435</td>\\n\\t\\t\\t\\n\\t\\t\\n\\t\\n\\t\\t\\n\\t\\t\\t\\n\\t\\t\\t\\n\\t\\t\\t\\n\\t\\t\\t\\t\\t\\t\\t\\t\\t<td class=\"number\">764</td>\\n\\t\\t\\t\\n\\t\\t\\n\\t\\n\\t\\t\\n\\t\\t\\t\\n\\t\\t\\t\\n\\t\\t\\t\\n\\t\\t\\t\\t\\t\\t\\t\\t\\t<td class=\"number\">191</td>\\n\\t\\t\\t\\n\\t\\t\\n\\t\\n\\t\\t\\n\\t\\t\\t\\n\\t\\t\\t\\n\\t\\t\\t\\n\\t\\t\\t\\t\\t\\t\\t\\t\\t<td class=\"number\">-280.34</td>\\n\\t\\t\\t\\n\\t\\t\\n\\t\\n\\t\\t\\n\\t\\t\\t\\n\\t\\t\\t\\n\\t\\t\\t\\n\\t\\t\\t\\t\\t\\t\\t\\t\\t<td class=\"number\">-8.35</td>\\n\\t\\t\\t\\n\\t\\t\\n\\t\\n\\t\\t\\n\\t\\t\\t\\n\\t\\t\\t\\n\\t\\t\\t\\n\\t\\t\\t\\t\\t\\t\\t\\t\\t<td class=\"number\">23.23</td>\\n\\t\\t\\t\\n\\t\\t\\n\\t\\n\\t\\t\\n\\t\\t\\t\\n\\t\\t\\t\\n\\t\\t\\t\\n\\t\\t\\t\\t\\t\\t\\t\\t\\t<td class=\"number\">218.9</td>\\n\\t\\t\\t\\n\\t\\t\\n\\t\\n\\t\\t\\t\\t\\t<td class=\"center\"><a href=\"/item/board.nhn?code=039200\"><img src=\"https://ssl.pstatic.net/imgstock/images5/ico_debatebl2.gif\" width=\"15\" height=\"13\" alt=\"토론실\"></a></td>\\n\\t\\t\\t\\t</tr>\\n\\t\\t\\t\\n\\t\\n\\t\\t\\n\\t\\t\\t\\t<tr><td colspan=\"13\" class=\"blank_06\"></td></tr>\\n\\t\\t\\t\\t<tr><td colspan=\"13\" class=\"division_line\"></td></tr>\\n\\t\\t\\t\\t<tr><td colspan=\"13\" class=\"blank_08\"></td></tr>\\n\\t\\t\\n\\t\\t\\n\\t\\n\\n\\n\\t\\t\\t\\t<tr  onMouseOver=\"mouseOver(this)\" onMouseOut=\"mouseOut(this)\">\\n\\t\\t\\t\\t\\t<td class=\"no\">46</td>\\n\\t\\t\\t\\t\\t<td><a href=\"/item/main.nhn?code=000250\" class=\"tltle\">삼천당제약</a></td>\\n\\t\\t\\t\\t\\t<td class=\"number\">52,400</td>\\n\\t\\t\\t\\t\\t<td class=\"number\">\\n\\t\\t\\t\\t<img src=\"https://ssl.pstatic.net/imgstock/images/images4/ico_up.gif\" width=\"7\" height=\"6\" style=\"margin-right:4px;\" alt=\"상승\"><span class=\"tah p11 red02\">\\n\\t\\t\\t\\t1,100\\n\\t\\t\\t\\t</span>\\n\\t\\t\\t</td>\\n\\t\\t\\t\\t\\t<td class=\"number\">\\n\\t\\t\\t\\t<span class=\"tah p11 red01\">\\n\\t\\t\\t\\t+2.14%\\n\\t\\t\\t\\t</span>\\n\\t\\t\\t</td>\\n\\t\\t\\t\\t\\t<td class=\"number\">500</td>\\n\\t\\n\\t\\t\\n\\t\\t\\t\\n\\t\\t\\t\\n\\t\\t\\t\\n\\t\\t\\t\\t\\t\\t\\t\\t\\t<td class=\"number\">11,930</td>\\n\\t\\t\\t\\n\\t\\t\\n\\t\\n\\t\\t\\n\\t\\t\\t\\n\\t\\t\\t\\n\\t\\t\\t\\n\\t\\t\\t\\t\\t\\t\\t\\t\\t<td class=\"number\">1,669</td>\\n\\t\\t\\t\\n\\t\\t\\n\\t\\n\\t\\t\\n\\t\\t\\t\\n\\t\\t\\t\\n\\t\\t\\t\\n\\t\\t\\t\\t\\t\\t\\t\\t\\t<td class=\"number\">3,171</td>\\n\\t\\t\\t\\n\\t\\t\\n\\t\\n\\t\\t\\n\\t\\t\\t\\n\\t\\t\\t\\n\\t\\t\\t\\n\\t\\t\\t\\t\\t\\t\\t\\t\\t<td class=\"number\">594</td>\\n\\t\\t\\t\\n\\t\\t\\n\\t\\n\\t\\t\\n\\t\\t\\t\\n\\t\\t\\t\\n\\t\\t\\t\\n\\t\\t\\t\\t\\t\\t\\t\\t\\t<td class=\"number\">-1,218.60</td>\\n\\t\\t\\t\\n\\t\\t\\n\\t\\n\\t\\t\\n\\t\\t\\t\\n\\t\\t\\t\\n\\t\\t\\t\\n\\t\\t\\t\\t\\t\\t\\t\\t\\t<td class=\"number\">-0.56</td>\\n\\t\\t\\t\\n\\t\\t\\n\\t\\n\\t\\t\\n\\t\\t\\t\\n\\t\\t\\t\\n\\t\\t\\t\\n\\t\\t\\t\\t\\t\\t\\t\\t\\t<td class=\"number\">6.20</td>\\n\\t\\t\\t\\n\\t\\t\\n\\t\\n\\t\\t\\n\\t\\t\\t\\n\\t\\t\\t\\n\\t\\t\\t\\n\\t\\t\\t\\t\\t\\t\\t\\t\\t<td class=\"number\">1,555.8</td>\\n\\t\\t\\t\\n\\t\\t\\n\\t\\n\\t\\t\\t\\t\\t<td class=\"center\"><a href=\"/item/board.nhn?code=000250\"><img src=\"https://ssl.pstatic.net/imgstock/images5/ico_debatebl2.gif\" width=\"15\" height=\"13\" alt=\"토론실\"></a></td>\\n\\t\\t\\t\\t</tr>\\n\\t\\t\\t\\n\\t\\n\\t\\t\\n\\t\\t\\n\\t\\n\\n\\n\\t\\t\\t\\t<tr  onMouseOver=\"mouseOver(this)\" onMouseOut=\"mouseOut(this)\">\\n\\t\\t\\t\\t\\t<td class=\"no\">47</td>\\n\\t\\t\\t\\t\\t<td><a href=\"/item/main.nhn?code=194480\" class=\"tltle\">데브시스터즈</a></td>\\n\\t\\t\\t\\t\\t<td class=\"number\">102,300</td>\\n\\t\\t\\t\\t\\t<td class=\"number\">\\n\\t\\t\\t\\t<img src=\"https://ssl.pstatic.net/imgstock/images/images4/ico_down.gif\" width=\"7\" height=\"6\" style=\"margin-right:4px;\" alt=\"하락\"><span class=\"tah p11 nv01\">\\n\\t\\t\\t\\t9,600\\n\\t\\t\\t\\t</span>\\n\\t\\t\\t</td>\\n\\t\\t\\t\\t\\t<td class=\"number\">\\n\\t\\t\\t\\t<span class=\"tah p11 nv01\">\\n\\t\\t\\t\\t-8.58%\\n\\t\\t\\t\\t</span>\\n\\t\\t\\t</td>\\n\\t\\t\\t\\t\\t<td class=\"number\">500</td>\\n\\t\\n\\t\\t\\n\\t\\t\\t\\n\\t\\t\\t\\n\\t\\t\\t\\n\\t\\t\\t\\t\\t\\t\\t\\t\\t<td class=\"number\">11,617</td>\\n\\t\\t\\t\\n\\t\\t\\n\\t\\n\\t\\t\\n\\t\\t\\t\\n\\t\\t\\t\\n\\t\\t\\t\\n\\t\\t\\t\\t\\t\\t\\t\\t\\t<td class=\"number\">705</td>\\n\\t\\t\\t\\n\\t\\t\\n\\t\\n\\t\\t\\n\\t\\t\\t\\n\\t\\t\\t\\n\\t\\t\\t\\n\\t\\t\\t\\t\\t\\t\\t\\t\\t<td class=\"number\">1,322</td>\\n\\t\\t\\t\\n\\t\\t\\n\\t\\n\\t\\t\\n\\t\\t\\t\\n\\t\\t\\t\\n\\t\\t\\t\\n\\t\\t\\t\\t\\t\\t\\t\\t\\t<td class=\"number\">325</td>\\n\\t\\t\\t\\n\\t\\t\\n\\t\\n\\t\\t\\n\\t\\t\\t\\n\\t\\t\\t\\n\\t\\t\\t\\n\\t\\t\\t\\t\\t\\t\\t\\t\\t<td class=\"number\">-194.49</td>\\n\\t\\t\\t\\n\\t\\t\\n\\t\\n\\t\\t\\n\\t\\t\\t\\n\\t\\t\\t\\n\\t\\t\\t\\n\\t\\t\\t\\t\\t\\t\\t\\t\\t<td class=\"number\">-5.70</td>\\n\\t\\t\\t\\n\\t\\t\\n\\t\\n\\t\\t\\n\\t\\t\\t\\n\\t\\t\\t\\n\\t\\t\\t\\n\\t\\t\\t\\t\\t\\t\\t\\t\\t<td class=\"number\">9.95</td>\\n\\t\\t\\t\\n\\t\\t\\n\\t\\n\\t\\t\\n\\t\\t\\t\\n\\t\\t\\t\\n\\t\\t\\t\\n\\t\\t\\t\\t\\t\\t\\t\\t\\t<td class=\"number\">2,416.9</td>\\n\\t\\t\\t\\n\\t\\t\\n\\t\\n\\t\\t\\t\\t\\t<td class=\"center\"><a href=\"/item/board.nhn?code=194480\"><img src=\"https://ssl.pstatic.net/imgstock/images5/ico_debatebl2.gif\" width=\"15\" height=\"13\" alt=\"토론실\"></a></td>\\n\\t\\t\\t\\t</tr>\\n\\t\\t\\t\\n\\t\\n\\t\\t\\n\\t\\t\\n\\t\\n\\n\\n\\t\\t\\t\\t<tr  onMouseOver=\"mouseOver(this)\" onMouseOut=\"mouseOut(this)\">\\n\\t\\t\\t\\t\\t<td class=\"no\">48</td>\\n\\t\\t\\t\\t\\t<td><a href=\"/item/main.nhn?code=950220\" class=\"tltle\">네오이뮨텍(Reg.S)</a></td>\\n\\t\\t\\t\\t\\t<td class=\"number\">11,600</td>\\n\\t\\t\\t\\t\\t<td class=\"number\">\\n\\t\\t\\t\\t<img src=\"https://ssl.pstatic.net/imgstock/images/images4/ico_up.gif\" width=\"7\" height=\"6\" style=\"margin-right:4px;\" alt=\"상승\"><span class=\"tah p11 red02\">\\n\\t\\t\\t\\t300\\n\\t\\t\\t\\t</span>\\n\\t\\t\\t</td>\\n\\t\\t\\t\\t\\t<td class=\"number\">\\n\\t\\t\\t\\t<span class=\"tah p11 red01\">\\n\\t\\t\\t\\t+2.65%\\n\\t\\t\\t\\t</span>\\n\\t\\t\\t</td>\\n\\t\\t\\t\\t\\t<td class=\"number\">0</td>\\n\\t\\n\\t\\t\\n\\t\\t\\t\\n\\t\\t\\t\\n\\t\\t\\t\\n\\t\\t\\t\\t\\t\\t\\t\\t\\t<td class=\"number\">11,413</td>\\n\\t\\t\\t\\n\\t\\t\\n\\t\\n\\t\\t\\n\\t\\t\\t\\n\\t\\t\\t\\n\\t\\t\\t\\t\\t<td class=\"number\">N/A</td>\\n\\t\\t\\t\\n\\t\\t\\t\\n\\t\\t\\n\\t\\n\\t\\t\\n\\t\\t\\t\\n\\t\\t\\t\\n\\t\\t\\t\\n\\t\\t\\t\\t\\t\\t\\t\\t\\t<td class=\"number\">963</td>\\n\\t\\t\\t\\n\\t\\t\\n\\t\\n\\t\\t\\n\\t\\t\\t\\n\\t\\t\\t\\n\\t\\t\\t\\n\\t\\t\\t\\t\\t\\t\\t\\t\\t<td class=\"number\">116</td>\\n\\t\\t\\t\\n\\t\\t\\n\\t\\n\\t\\t\\n\\t\\t\\t\\n\\t\\t\\t\\n\\t\\t\\t\\n\\t\\t\\t\\t\\t\\t\\t\\t\\t<td class=\"number\">-31.44</td>\\n\\t\\t\\t\\n\\t\\t\\n\\t\\n\\t\\t\\n\\t\\t\\t\\n\\t\\t\\t\\n\\t\\t\\t\\n\\t\\t\\t\\t\\t\\t\\t\\t\\t<td class=\"number\">-29.94</td>\\n\\t\\t\\t\\n\\t\\t\\n\\t\\n\\t\\t\\n\\t\\t\\t\\n\\t\\t\\t\\n\\t\\t\\t\\n\\t\\t\\t\\t\\t\\t\\t\\t\\t<td class=\"number\">11.39</td>\\n\\t\\t\\t\\n\\t\\t\\n\\t\\n\\t\\t\\n\\t\\t\\t\\n\\t\\t\\t\\n\\t\\t\\t\\n\\t\\t\\t\\t\\t\\t\\t\\t\\t<td class=\"number\">4,701,199.8</td>\\n\\t\\t\\t\\n\\t\\t\\n\\t\\n\\t\\t\\t\\t\\t<td class=\"center\"><a href=\"/item/board.nhn?code=950220\"><img src=\"https://ssl.pstatic.net/imgstock/images5/ico_debatebl2.gif\" width=\"15\" height=\"13\" alt=\"토론실\"></a></td>\\n\\t\\t\\t\\t</tr>\\n\\t\\t\\t\\n\\t\\n\\t\\t\\n\\t\\t\\n\\t\\n\\n\\n\\t\\t\\t\\t<tr  onMouseOver=\"mouseOver(this)\" onMouseOut=\"mouseOut(this)\">\\n\\t\\t\\t\\t\\t<td class=\"no\">49</td>\\n\\t\\t\\t\\t\\t<td><a href=\"/item/main.nhn?code=022100\" class=\"tltle\">포스코 ICT</a></td>\\n\\t\\t\\t\\t\\t<td class=\"number\">7,450</td>\\n\\t\\t\\t\\t\\t<td class=\"number\">\\n\\t\\t\\t\\t<img src=\"https://ssl.pstatic.net/imgstock/images/images4/ico_up.gif\" width=\"7\" height=\"6\" style=\"margin-right:4px;\" alt=\"상승\"><span class=\"tah p11 red02\">\\n\\t\\t\\t\\t50\\n\\t\\t\\t\\t</span>\\n\\t\\t\\t</td>\\n\\t\\t\\t\\t\\t<td class=\"number\">\\n\\t\\t\\t\\t<span class=\"tah p11 red01\">\\n\\t\\t\\t\\t+0.68%\\n\\t\\t\\t\\t</span>\\n\\t\\t\\t</td>\\n\\t\\t\\t\\t\\t<td class=\"number\">500</td>\\n\\t\\n\\t\\t\\n\\t\\t\\t\\n\\t\\t\\t\\n\\t\\t\\t\\n\\t\\t\\t\\t\\t\\t\\t\\t\\t<td class=\"number\">11,327</td>\\n\\t\\t\\t\\n\\t\\t\\n\\t\\n\\t\\t\\n\\t\\t\\t\\n\\t\\t\\t\\n\\t\\t\\t\\n\\t\\t\\t\\t\\t\\t\\t\\t\\t<td class=\"number\">9,642</td>\\n\\t\\t\\t\\n\\t\\t\\n\\t\\n\\t\\t\\n\\t\\t\\t\\n\\t\\t\\t\\n\\t\\t\\t\\n\\t\\t\\t\\t\\t\\t\\t\\t\\t<td class=\"number\">6,844</td>\\n\\t\\t\\t\\n\\t\\t\\n\\t\\n\\t\\t\\n\\t\\t\\t\\n\\t\\t\\t\\n\\t\\t\\t\\n\\t\\t\\t\\t\\t\\t\\t\\t\\t<td class=\"number\">3,145</td>\\n\\t\\t\\t\\n\\t\\t\\n\\t\\n\\t\\t\\n\\t\\t\\t\\n\\t\\t\\t\\n\\t\\t\\t\\n\\t\\t\\t\\t\\t\\t\\t\\t\\t<td class=\"number\">130.70</td>\\n\\t\\t\\t\\n\\t\\t\\n\\t\\n\\t\\t\\n\\t\\t\\t\\n\\t\\t\\t\\n\\t\\t\\t\\n\\t\\t\\t\\t\\t\\t\\t\\t\\t<td class=\"number\">2.36</td>\\n\\t\\t\\t\\n\\t\\t\\n\\t\\n\\t\\t\\n\\t\\t\\t\\n\\t\\t\\t\\n\\t\\t\\t\\n\\t\\t\\t\\t\\t\\t\\t\\t\\t<td class=\"number\">3.07</td>\\n\\t\\t\\t\\n\\t\\t\\n\\t\\n\\t\\t\\n\\t\\t\\t\\n\\t\\t\\t\\n\\t\\t\\t\\n\\t\\t\\t\\t\\t\\t\\t\\t\\t<td class=\"number\">389.5</td>\\n\\t\\t\\t\\n\\t\\t\\n\\t\\n\\t\\t\\t\\t\\t<td class=\"center\"><a href=\"/item/board.nhn?code=022100\"><img src=\"https://ssl.pstatic.net/imgstock/images5/ico_debatebl2.gif\" width=\"15\" height=\"13\" alt=\"토론실\"></a></td>\\n\\t\\t\\t\\t</tr>\\n\\t\\t\\t\\n\\t\\n\\t\\t\\n\\t\\t\\n\\t\\n\\n\\n\\t\\t\\t\\t<tr  onMouseOver=\"mouseOver(this)\" onMouseOut=\"mouseOut(this)\">\\n\\t\\t\\t\\t\\t<td class=\"no\">50</td>\\n\\t\\t\\t\\t\\t<td><a href=\"/item/main.nhn?code=213420\" class=\"tltle\">덕산네오룩스</a></td>\\n\\t\\t\\t\\t\\t<td class=\"number\">46,550</td>\\n\\t\\t\\t\\t\\t<td class=\"number\">\\n\\t\\t\\t\\t<img src=\"https://ssl.pstatic.net/imgstock/images/images4/ico_up.gif\" width=\"7\" height=\"6\" style=\"margin-right:4px;\" alt=\"상승\"><span class=\"tah p11 red02\">\\n\\t\\t\\t\\t850\\n\\t\\t\\t\\t</span>\\n\\t\\t\\t</td>\\n\\t\\t\\t\\t\\t<td class=\"number\">\\n\\t\\t\\t\\t<span class=\"tah p11 red01\">\\n\\t\\t\\t\\t+1.86%\\n\\t\\t\\t\\t</span>\\n\\t\\t\\t</td>\\n\\t\\t\\t\\t\\t<td class=\"number\">200</td>\\n\\t\\n\\t\\t\\n\\t\\t\\t\\n\\t\\t\\t\\n\\t\\t\\t\\n\\t\\t\\t\\t\\t\\t\\t\\t\\t<td class=\"number\">11,177</td>\\n\\t\\t\\t\\n\\t\\t\\n\\t\\n\\t\\t\\n\\t\\t\\t\\n\\t\\t\\t\\n\\t\\t\\t\\n\\t\\t\\t\\t\\t\\t\\t\\t\\t<td class=\"number\">1,442</td>\\n\\t\\t\\t\\n\\t\\t\\n\\t\\n\\t\\t\\n\\t\\t\\t\\n\\t\\t\\t\\n\\t\\t\\t\\n\\t\\t\\t\\t\\t\\t\\t\\t\\t<td class=\"number\">2,209</td>\\n\\t\\t\\t\\n\\t\\t\\n\\t\\n\\t\\t\\n\\t\\t\\t\\n\\t\\t\\t\\n\\t\\t\\t\\n\\t\\t\\t\\t\\t\\t\\t\\t\\t<td class=\"number\">282</td>\\n\\t\\t\\t\\n\\t\\t\\n\\t\\n\\t\\t\\n\\t\\t\\t\\n\\t\\t\\t\\n\\t\\t\\t\\n\\t\\t\\t\\t\\t\\t\\t\\t\\t<td class=\"number\">33.51</td>\\n\\t\\t\\t\\n\\t\\t\\n\\t\\n\\t\\t\\n\\t\\t\\t\\n\\t\\t\\t\\n\\t\\t\\t\\n\\t\\t\\t\\t\\t\\t\\t\\t\\t<td class=\"number\">18.91</td>\\n\\t\\t\\t\\n\\t\\t\\n\\t\\n\\t\\t\\n\\t\\t\\t\\n\\t\\t\\t\\n\\t\\t\\t\\n\\t\\t\\t\\t\\t\\t\\t\\t\\t<td class=\"number\">5.80</td>\\n\\t\\t\\t\\n\\t\\t\\n\\t\\n\\t\\t\\n\\t\\t\\t\\n\\t\\t\\t\\n\\t\\t\\t\\n\\t\\t\\t\\t\\t\\t\\t\\t\\t<td class=\"number\">3,917.0</td>\\n\\t\\t\\t\\n\\t\\t\\n\\t\\n\\t\\t\\t\\t\\t<td class=\"center\"><a href=\"/item/board.nhn?code=213420\"><img src=\"https://ssl.pstatic.net/imgstock/images5/ico_debatebl2.gif\" width=\"15\" height=\"13\" alt=\"토론실\"></a></td>\\n\\t\\t\\t\\t</tr>\\n\\t\\t\\t\\n\\t\\n\\t\\t\\n\\t\\t\\n\\t\\t\\t\\t<tr><td colspan=\"13\" class=\"blank_09\"></td></tr>\\n\\t\\t\\t\\t<tr><td colspan=\"13\" class=\"division_line_1\"></td></tr>\\n\\t\\t\\t\\t<tr><td colspan=\"13\" class=\"blank_09\"></td></tr>\\n\\t\\t\\n\\t\\n\\n\\n\\n\\t\\t\\t\\t</tbody>\\n\\t\\t\\t\\t</table>\\n\\t\\t\\t\\t<table summary=\"페이지 네비게이션 리스트\" class=\"Nnavi\" align=\"center\">\\n\\t\\t\\t\\t<caption>페이지 네비게이션</caption>\\n\\t\\t\\t\\t<tr>\\t\\t\\n\\t\\t\\t\\t\\t\\n\\t\\t\\t\\t\\t\\n\\t\\t\\t\\t\\t\\n\\t\\t\\t\\t\\t<td class=\"on\">\\n\\t\\t\\t\\t<a href=\"/sise/sise_market_sum.nhn?sosok=1&amp;page=1\"  >1</a>\\n\\t\\t\\t\\t</td>\\n<td>\\n\\t\\t\\t\\t<a href=\"/sise/sise_market_sum.nhn?sosok=1&amp;page=2\"  >2</a>\\n\\t\\t\\t\\t</td>\\n<td>\\n\\t\\t\\t\\t<a href=\"/sise/sise_market_sum.nhn?sosok=1&amp;page=3\"  >3</a>\\n\\t\\t\\t\\t</td>\\n<td>\\n\\t\\t\\t\\t<a href=\"/sise/sise_market_sum.nhn?sosok=1&amp;page=4\"  >4</a>\\n\\t\\t\\t\\t</td>\\n<td>\\n\\t\\t\\t\\t<a href=\"/sise/sise_market_sum.nhn?sosok=1&amp;page=5\"  >5</a>\\n\\t\\t\\t\\t</td>\\n<td>\\n\\t\\t\\t\\t<a href=\"/sise/sise_market_sum.nhn?sosok=1&amp;page=6\"  >6</a>\\n\\t\\t\\t\\t</td>\\n<td>\\n\\t\\t\\t\\t<a href=\"/sise/sise_market_sum.nhn?sosok=1&amp;page=7\"  >7</a>\\n\\t\\t\\t\\t</td>\\n<td>\\n\\t\\t\\t\\t<a href=\"/sise/sise_market_sum.nhn?sosok=1&amp;page=8\"  >8</a>\\n\\t\\t\\t\\t</td>\\n<td>\\n\\t\\t\\t\\t<a href=\"/sise/sise_market_sum.nhn?sosok=1&amp;page=9\"  >9</a>\\n\\t\\t\\t\\t</td>\\n<td>\\n\\t\\t\\t\\t<a href=\"/sise/sise_market_sum.nhn?sosok=1&amp;page=10\"  >10</a>\\n\\t\\t\\t\\t</td>\\n\\n\\t\\t\\t\\t\\t<td class=\"pgR\">\\n\\t\\t\\t\\t<a href=\"/sise/sise_market_sum.nhn?sosok=1&amp;page=11\"  >\\n\\t\\t\\t\\t다음<img src=\"https://ssl.pstatic.net/static/n/cmn/bu_pgarR.gif\" width=\"3\" height=\"5\" alt=\"\" border=\"0\">\\n\\t\\t\\t\\t</a>\\n\\t\\t\\t\\t</td>\\n\\n\\t\\t\\t\\t\\t<td class=\"pgRR\">\\n\\t\\t\\t\\t<a href=\"/sise/sise_market_sum.nhn?sosok=1&amp;page=30\"  >맨뒤\\n\\t\\t\\t\\t<img src=\"https://ssl.pstatic.net/static/n/cmn/bu_pgarRR.gif\" width=\"8\" height=\"5\" alt=\"\" border=\"0\">\\n\\t\\t\\t\\t</a>\\n\\t\\t\\t\\t</td>\\n\\n\\t\\t\\t\\t\\t\\n\\t\\t\\t\\t</tr>\\n\\t\\t\\t\\t</table>\\n\\t\\t\\t</div>\\n\\t\\t\\t<!-- // 종목 -->\\n\\t\\t\\t<!-- //컨텐츠 -->\\n\\t\\t</div>\\n\\t</div>\\n\\n\\n\\n\\n\\n\\n\\t\\n\\n\\n\\n\\n\\n\\n\\t<div id=\"footer\">\\n\\t\\t<ul>\\n\\t\\t\\t<li class=\"first\">\\n\\t\\t\\t\\t<a href=\"https://www.naver.com/rules/service.html\" onClick=\"clickcr(this, \\'fot.service\\', \\'\\', \\'\\', event);\" target=\"_blank\">이용약관</a>\\n\\t\\t\\t</li>\\n\\t\\t\\t<li>\\n\\t\\t\\t\\t<a href=\"https://finance.naver.com/rules.nhn\" onClick=\"clickcr(this, \\'fot.policy\\', \\'\\', \\'\\', event);\" target=\"_blank\">금융게시판 운영원칙</a>\\n\\t\\t\\t</li>\\n\\t\\t\\t<li>\\n\\t\\t\\t\\t<a href=\"https://www.naver.com/rules/privacy.html\" onClick=\"clickcr(this, \\'fot.privacy\\', \\'\\', \\'\\', event);\" target=\"_blank\"><strong>개인정보처리방침</strong></a>\\n\\t\\t\\t</li>\\n\\t\\t\\t<li>\\n\\t\\t\\t\\t<a href=\"https://www.naver.com/rules/disclaimer.html\" onClick=\"clickcr(this, \\'fot.limit\\', \\'\\', \\'\\', event);\" target=\"_blank\">책임의 한계와 법적고지</a>\\n\\t\\t\\t</li>\\n\\t\\t\\t<li>\\n\\t\\t\\t\\t<a href=\"https://help.naver.com/support/alias/contents2/finance/finance_1.naver\" onclick=\"clickcr(this, \\'fot.help\\', \\'\\', \\'\\', event);\" target=\"_blank\">금융 고객센터</a>\\n\\t\\t\\t</li>\\n\\t\\t</ul>\\n\\t\\t<p class=\"desc\">네이버(주)가 제공하는 금융 정보는 각 콘텐츠 제공업체<a href=\"javascript:;\" onclick=\"togglePanelFooter(\\'footerPanel0\\');\" class=\"desc_help\"><img src=\"https://ssl.pstatic.net/static/nfinance/2018/06/29/btn_help.png\" width=\"17\" height=\"17\" alt=\"제공업체 상세설명\"></a>로부터 받는 투자 참고사항이며, 오류가 발생하거나 지연될 수 있습니다.<br>네이버(주)와 콘텐츠 제공업체는 제공된 정보에 의한 투자 결과에 법적인 책임을 지지 않습니다. 게시된 정보는 무단으로 배포할 수 없습니다.</p>\\n\\t\\t<div id=\"footerPanel0\" class=\"provider_layer\" style=\"display:none\" tabindex=\"0\" onblur=\"hidePannel(\\'footerPanel0\\')\">\\n\\t\\t\\t<strong class=\"provider_layer__tit\">콘텐츠 제공업체</strong>\\n\\t\\t\\t<div class=\"provider_layer__txt\">\\n\\t\\t\\t\\t<p><span>코스콤 : </span>실시간 주가정보 및 국내시세정보</p>\\n\\t\\t\\t\\t<p><span>에프앤가이드 : </span>기업 및 재무정보</p>\\n\\t\\t\\t\\t<p><span>KG제로인 : </span>해외 시세, 시장지표 및 펀드 정보</p>\\n\\t\\t\\t\\t<p><span>한국예탁결제원 : </span>주주총회일 및 전자투표 정보</p>\\n\\t\\t\\t\\t<p><span>인포스탁 : </span>국내 테마 정보</p>\\n\\t\\t\\t</div>\\n\\t\\t\\t<span class=\"arrow\"></span>\\n\\t\\t</div>\\n\\t\\t<address>\\n\\t\\t\\t<a href=\"https://www.navercorp.com/\" target=\"_blank\" class=\"logo\" onClick=\"clickcr(this, \\'fot.nhn\\', \\'\\', \\'\\', event);\"><img src=\"https://ssl.pstatic.net/static/nfinance/2019/02/22/ci_naver.png\" width=\"58\" height=\"11\" alt=\"NAVER\" /></a>\\n\\t\\t\\t<em>Copyright &copy;</em>\\n\\t\\t\\t<a href=\"https://www.navercorp.com/\" target=\"_blank\" onClick=\"clickcr(this, \\'fot.nhn\\', \\'\\', \\'\\', event);\">NAVER Corp.</a>\\n\\t\\t\\t<span>All Rights Reserved.</span>\\n\\t\\t</address>\\n\\t\\t\\n\\t\\t\\n\\t\\t\\n\\t</div>\\n\\n\\n\\n<script type=\"text/javascript\">\\nfunction isVisible(obj) {\\n    if (obj == document) return true\\n \\n    if (!obj) return false\\n    if (!obj.parentNode) return false\\n    if (obj.style) {\\n        if (obj.style.display == \\'none\\') return false\\n        if (obj.style.visibility == \\'hidden\\') return false\\n    }\\n \\n    if (window.getComputedStyle) {\\n        var style = window.getComputedStyle(obj, \"\")\\n        if (style.display == \\'none\\') return false\\n        if (style.visibility == \\'hidden\\') return false\\n    }\\n \\n    var style = obj.currentStyle\\n    if (style) {\\n        if (style[\\'display\\'] == \\'none\\') return false\\n        if (style[\\'visibility\\'] == \\'hidden\\') return false\\n    }\\n \\n    return isVisible(obj.parentNode)\\n}\\n\\nfunction isChildOf(myobj, containerObj) {\\n\\twhile(myobj != undefined) {\\n\\t\\tif (myobj == document.body) {\\n\\t\\t\\tbreak;\\n\\t\\t} \\n\\t\\tif (myobj == containerObj) {\\n\\t\\t\\treturn true;\\n\\t\\t}\\n\\t\\tmyobj = myobj.parentElement;\\n\\t}\\n\\treturn false;\\t\\n}\\n\\nfunction gnbLayerClose(e){\\n\\tvar target = e.target ? e.target : e.srcElement;\\n\\tif (isVisible(document.getElementById(\\'gnb_service_lyr\\')) || isVisible(document.getElementById(\\'gnb_notice_lyr\\')) ||isVisible(document.getElementById(\\'gnb_my_lyr\\')) ) {\\n\\t\\tif (!isChildOf(target, document.getElementById(\\'gnb\\'))) {\\n\\t\\t\\tgnbAllLayerClose();\\n\\t\\t}\\n\\t}\\t\\n}\\n\\nvar isIE = (navigator.userAgent.toLowerCase().indexOf(\"msie\")!=-1 && window.document.all) ? true:false;\\nif (isIE) {\\n\\tdocument.attachEvent(\\'onmousedown\\', gnbLayerClose);\\n} else {\\n\\twindow.addEventListener(\\'mousedown\\', gnbLayerClose);\\n}\\n\\nfunction showPannel(layerId){\\n    var layer = jindo.$(layerId);\\n    layer.style.display=\\'block\\';\\n\\n    if (layerId == \"summary_lyr\") {\\n        var layerHeight = jindo.$Element(layer).height();\\n        jindo.$Element(\"summary_ifr\").height(layerHeight);\\n    }\\n}\\n\\nfunction hidePannel(layerId){\\n    var layer = jindo.$(layerId);\\n    layer.style.display=\\'none\\';\\n}\\n\\nfunction togglePanelFooter(layerId) {\\n    var elTargetLayer = jindo.$Element(jindo.$$.getSingle(\"#\" + layerId));\\n\\n    if (elTargetLayer != null) {\\n        if (elTargetLayer.visible()) {\\n            hidePannel(layerId);\\n        } else {\\n            showPannel(layerId);\\n        }\\n    }\\n}\\n\\n// add data-useragent\\ndocument.documentElement.setAttribute(\\'data-useragent\\',navigator.userAgent);\\n</script>\\n</div>\\n</body>\\n</html>\\n'"
      ]
     },
     "metadata": {},
     "execution_count": 58
    }
   ]
  },
  {
   "cell_type": "code",
   "execution_count": 110,
   "metadata": {},
   "outputs": [],
   "source": [
    "soup2 = BeautifulSoup(r2.text, 'lxml')\n",
    "# table\n",
    "table_html = soup2.select_one('table.type_2')\n",
    "soup2\n",
    "with open('test.txt', 'w') as f:\n",
    "    f.write(str(soup2))"
   ]
  },
  {
   "cell_type": "code",
   "execution_count": 261,
   "metadata": {},
   "outputs": [
    {
     "output_type": "execute_result",
     "data": {
      "text/plain": [
       "['N',\n",
       " '종목명',\n",
       " '현재가',\n",
       " '액면가',\n",
       " '시가총액',\n",
       " '매출액',\n",
       " '자산총계',\n",
       " '부채총계',\n",
       " 'PER',\n",
       " 'ROE',\n",
       " 'PBR',\n",
       " '유보율',\n",
       " '토론실']"
      ]
     },
     "metadata": {},
     "execution_count": 261
    }
   ],
   "source": [
    "# column\n",
    "header_data = [item.get_text().strip() for item in table_html.find('thead').find('tr').find_all('th') if item.get_text().strip() not in ['전일비', '등락률']]\n",
    "header_data"
   ]
  },
  {
   "cell_type": "code",
   "execution_count": 262,
   "metadata": {},
   "outputs": [],
   "source": [
    "del header_data[-1]"
   ]
  },
  {
   "cell_type": "code",
   "execution_count": 263,
   "metadata": {},
   "outputs": [],
   "source": [
    "# 첫 줄은 필요없는 줄\n",
    "td_items = [tr_item.find_all('td') for tr_item in table_html.find('tbody').find_all('tr')][1:]"
   ]
  },
  {
   "cell_type": "code",
   "execution_count": 342,
   "metadata": {
    "tags": []
   },
   "outputs": [],
   "source": [
    "inner_data = []\n",
    "for item in td_items:\n",
    "    for i in item[0:len(item)-1]:\n",
    "        if i.find('a') or len(i.get('class', [])) > 0:\n",
    "            child = i.findChildren()\n",
    "            if len(child) >= 1:\n",
    "                if child[0].get('href'):\n",
    "                    inner_data.append(child[0].get_text().strip())\n",
    "            else:\n",
    "                inner_data.append(i.get_text().strip().replace(',', ''))"
   ]
  },
  {
   "cell_type": "code",
   "execution_count": null,
   "metadata": {},
   "outputs": [],
   "source": []
  },
  {
   "cell_type": "code",
   "execution_count": 252,
   "metadata": {},
   "outputs": [],
   "source": [
    "no_data = [i.get_text().strip() for item in td_items for i in item if len(i.get('class', [])) > 0 and ('no' in i.get('class', []))] # 번호"
   ]
  },
  {
   "cell_type": "code",
   "execution_count": 253,
   "metadata": {},
   "outputs": [],
   "source": [
    "number_data = np.array(inner_data)"
   ]
  },
  {
   "cell_type": "code",
   "execution_count": 254,
   "metadata": {},
   "outputs": [],
   "source": [
    "number_data.resize(len(no_data), len(header_data))"
   ]
  },
  {
   "cell_type": "code",
   "execution_count": 255,
   "metadata": {},
   "outputs": [],
   "source": [
    "df = pd.DataFrame(data=number_data, columns=header_data)"
   ]
  },
  {
   "cell_type": "code",
   "execution_count": 379,
   "metadata": {},
   "outputs": [],
   "source": [
    "pd_result = pd.read_excel('result.xlsx')"
   ]
  },
  {
   "cell_type": "code",
   "execution_count": 383,
   "metadata": {},
   "outputs": [],
   "source": [
    "pd_result = pd_result.dropna()"
   ]
  },
  {
   "cell_type": "code",
   "execution_count": 384,
   "metadata": {},
   "outputs": [
    {
     "output_type": "execute_result",
     "data": {
      "text/plain": [
       "                 N           현재가          액면가         상장주식수          시가총액  \\\n",
       "count   775.000000  7.750000e+02   775.000000  7.750000e+02  7.750000e+02   \n",
       "mean    480.409032  4.750273e+04  2089.290323  6.994901e+04  2.591846e+04   \n",
       "std     296.477658  1.089494e+05  2074.784354  2.390911e+05  1.932658e+05   \n",
       "min       1.000000  2.580000e+02     0.000000  4.080000e+02  1.940000e+02   \n",
       "25%     225.500000  4.430000e+03   500.000000  1.323850e+04  1.280500e+03   \n",
       "50%     469.000000  1.220000e+04   500.000000  2.870500e+04  2.947000e+03   \n",
       "75%     723.500000  4.292500e+04  5000.000000  6.299350e+04  9.454000e+03   \n",
       "max    1177.000000  1.570000e+06  5000.000000  5.969783e+06  5.062376e+06   \n",
       "\n",
       "                매출액          자산총계          부채총계           PER          ROE  \\\n",
       "count  7.750000e+02  7.750000e+02  7.750000e+02    775.000000   775.000000   \n",
       "mean   3.227523e+04  9.432642e+04  7.076774e+04     43.187342    -2.941329   \n",
       "std    1.198899e+05  4.713243e+05  4.092072e+05    823.692149    53.104103   \n",
       "min    2.200000e+01  2.650000e+02  0.000000e+00  -6170.000000 -1165.400000   \n",
       "25%    1.714000e+03  2.529000e+03  8.730000e+02     -2.565000    -1.780000   \n",
       "50%    4.786000e+03  6.495000e+03  2.776000e+03     10.150000     3.840000   \n",
       "75%    1.659050e+04  2.355250e+04  1.180800e+04     22.800000     8.935000   \n",
       "max    2.368070e+06  6.106722e+06  5.673107e+06  21361.100000    61.960000   \n",
       "\n",
       "              PBR            유보율         BPS  \n",
       "count  775.000000     775.000000  775.000000  \n",
       "mean     1.715252    3167.330581    0.057786  \n",
       "std      4.332177    8739.029755    0.166615  \n",
       "min     -4.710000   -1857.500000   -0.000589  \n",
       "25%      0.580000     282.100000    0.004302  \n",
       "50%      0.940000    1052.000000    0.013215  \n",
       "75%      1.865000    2684.800000    0.049768  \n",
       "max    107.420000  127125.600000    2.996496  "
      ],
      "text/html": "<div>\n<style scoped>\n    .dataframe tbody tr th:only-of-type {\n        vertical-align: middle;\n    }\n\n    .dataframe tbody tr th {\n        vertical-align: top;\n    }\n\n    .dataframe thead th {\n        text-align: right;\n    }\n</style>\n<table border=\"1\" class=\"dataframe\">\n  <thead>\n    <tr style=\"text-align: right;\">\n      <th></th>\n      <th>N</th>\n      <th>현재가</th>\n      <th>액면가</th>\n      <th>상장주식수</th>\n      <th>시가총액</th>\n      <th>매출액</th>\n      <th>자산총계</th>\n      <th>부채총계</th>\n      <th>PER</th>\n      <th>ROE</th>\n      <th>PBR</th>\n      <th>유보율</th>\n      <th>BPS</th>\n    </tr>\n  </thead>\n  <tbody>\n    <tr>\n      <th>count</th>\n      <td>775.000000</td>\n      <td>7.750000e+02</td>\n      <td>775.000000</td>\n      <td>7.750000e+02</td>\n      <td>7.750000e+02</td>\n      <td>7.750000e+02</td>\n      <td>7.750000e+02</td>\n      <td>7.750000e+02</td>\n      <td>775.000000</td>\n      <td>775.000000</td>\n      <td>775.000000</td>\n      <td>775.000000</td>\n      <td>775.000000</td>\n    </tr>\n    <tr>\n      <th>mean</th>\n      <td>480.409032</td>\n      <td>4.750273e+04</td>\n      <td>2089.290323</td>\n      <td>6.994901e+04</td>\n      <td>2.591846e+04</td>\n      <td>3.227523e+04</td>\n      <td>9.432642e+04</td>\n      <td>7.076774e+04</td>\n      <td>43.187342</td>\n      <td>-2.941329</td>\n      <td>1.715252</td>\n      <td>3167.330581</td>\n      <td>0.057786</td>\n    </tr>\n    <tr>\n      <th>std</th>\n      <td>296.477658</td>\n      <td>1.089494e+05</td>\n      <td>2074.784354</td>\n      <td>2.390911e+05</td>\n      <td>1.932658e+05</td>\n      <td>1.198899e+05</td>\n      <td>4.713243e+05</td>\n      <td>4.092072e+05</td>\n      <td>823.692149</td>\n      <td>53.104103</td>\n      <td>4.332177</td>\n      <td>8739.029755</td>\n      <td>0.166615</td>\n    </tr>\n    <tr>\n      <th>min</th>\n      <td>1.000000</td>\n      <td>2.580000e+02</td>\n      <td>0.000000</td>\n      <td>4.080000e+02</td>\n      <td>1.940000e+02</td>\n      <td>2.200000e+01</td>\n      <td>2.650000e+02</td>\n      <td>0.000000e+00</td>\n      <td>-6170.000000</td>\n      <td>-1165.400000</td>\n      <td>-4.710000</td>\n      <td>-1857.500000</td>\n      <td>-0.000589</td>\n    </tr>\n    <tr>\n      <th>25%</th>\n      <td>225.500000</td>\n      <td>4.430000e+03</td>\n      <td>500.000000</td>\n      <td>1.323850e+04</td>\n      <td>1.280500e+03</td>\n      <td>1.714000e+03</td>\n      <td>2.529000e+03</td>\n      <td>8.730000e+02</td>\n      <td>-2.565000</td>\n      <td>-1.780000</td>\n      <td>0.580000</td>\n      <td>282.100000</td>\n      <td>0.004302</td>\n    </tr>\n    <tr>\n      <th>50%</th>\n      <td>469.000000</td>\n      <td>1.220000e+04</td>\n      <td>500.000000</td>\n      <td>2.870500e+04</td>\n      <td>2.947000e+03</td>\n      <td>4.786000e+03</td>\n      <td>6.495000e+03</td>\n      <td>2.776000e+03</td>\n      <td>10.150000</td>\n      <td>3.840000</td>\n      <td>0.940000</td>\n      <td>1052.000000</td>\n      <td>0.013215</td>\n    </tr>\n    <tr>\n      <th>75%</th>\n      <td>723.500000</td>\n      <td>4.292500e+04</td>\n      <td>5000.000000</td>\n      <td>6.299350e+04</td>\n      <td>9.454000e+03</td>\n      <td>1.659050e+04</td>\n      <td>2.355250e+04</td>\n      <td>1.180800e+04</td>\n      <td>22.800000</td>\n      <td>8.935000</td>\n      <td>1.865000</td>\n      <td>2684.800000</td>\n      <td>0.049768</td>\n    </tr>\n    <tr>\n      <th>max</th>\n      <td>1177.000000</td>\n      <td>1.570000e+06</td>\n      <td>5000.000000</td>\n      <td>5.969783e+06</td>\n      <td>5.062376e+06</td>\n      <td>2.368070e+06</td>\n      <td>6.106722e+06</td>\n      <td>5.673107e+06</td>\n      <td>21361.100000</td>\n      <td>61.960000</td>\n      <td>107.420000</td>\n      <td>127125.600000</td>\n      <td>2.996496</td>\n    </tr>\n  </tbody>\n</table>\n</div>"
     },
     "metadata": {},
     "execution_count": 384
    }
   ],
   "source": [
    "pd_result.describe()"
   ]
  },
  {
   "cell_type": "code",
   "execution_count": 389,
   "metadata": {},
   "outputs": [
    {
     "output_type": "stream",
     "name": "stderr",
     "text": [
      "<ipython-input-389-0c8ccd3e77b2>:1: SettingWithCopyWarning: \nA value is trying to be set on a copy of a slice from a DataFrame.\nTry using .loc[row_indexer,col_indexer] = value instead\n\nSee the caveats in the documentation: https://pandas.pydata.org/pandas-docs/stable/user_guide/indexing.html#returning-a-view-versus-a-copy\n  pd_result['BPS'] = ((pd_result['자산총계'] - pd_result['부채총계']) / (pd_result['상장주식수']) * 100)\n"
     ]
    }
   ],
   "source": [
    "pd_result['BPS'] = ((pd_result['자산총계'] - pd_result['부채총계']) / (pd_result['상장주식수']) * 100)"
   ]
  },
  {
   "cell_type": "code",
   "execution_count": 398,
   "metadata": {},
   "outputs": [],
   "source": [
    "pd_result['부채비율'] = (pd_result['부채총계']/pd_result['자산총계']) * 100"
   ]
  },
  {
   "cell_type": "code",
   "execution_count": 399,
   "metadata": {},
   "outputs": [
    {
     "output_type": "execute_result",
     "data": {
      "text/plain": [
       "0    27.043375\n",
       "1    27.067225\n",
       "2    51.481116\n",
       "4    54.600388\n",
       "5    63.533262\n",
       "Name: 부채비율, dtype: float64"
      ]
     },
     "metadata": {},
     "execution_count": 399
    }
   ],
   "source": [
    "pd_result['부채비율'].head()"
   ]
  },
  {
   "cell_type": "code",
   "execution_count": 401,
   "metadata": {},
   "outputs": [
    {
     "output_type": "execute_result",
     "data": {
      "text/plain": [
       "0     46.224126\n",
       "1     71.303513\n",
       "2     50.255383\n",
       "4    266.183137\n",
       "5    357.287942\n",
       "Name: BPS, dtype: float64"
      ]
     },
     "metadata": {},
     "execution_count": 401
    }
   ],
   "source": [
    "pd_result['BPS'].head()"
   ]
  },
  {
   "cell_type": "code",
   "execution_count": 400,
   "metadata": {},
   "outputs": [
    {
     "output_type": "execute_result",
     "data": {
      "text/plain": [
       "         N     종목명    현재가   액면가   상장주식수    시가총액       매출액       자산총계  \\\n",
       "17      18    KB금융  53900  5000  415808  224120  556802.0  6106722.0   \n",
       "21      22    신한지주  36350  5000  516600  187784  290007.0  6052341.0   \n",
       "28      29  하나금융지주  41150  5000  300242  123550  482159.0  4603133.0   \n",
       "46      47  우리금융지주  10000  5000  722268   72227  286376.0  3990810.0   \n",
       "49      50    기업은행   9040  5000  738664   66775  185746.0  3616162.0   \n",
       "...    ...     ...    ...   ...     ...     ...       ...        ...   \n",
       "908    909  미래아이앤지    530   100  129484     686      58.0      923.0   \n",
       "927    928   MH에탄올   8660   500    7379     639     946.0     4497.0   \n",
       "973    974   엔케이물산    680   100   79439     540     341.0      690.0   \n",
       "975    976      원림  24500  5000    2200     539     684.0     1773.0   \n",
       "1080  1081    에이리츠   7910  5000    3793     300     609.0      921.0   \n",
       "\n",
       "           부채총계   PER    ROE   PBR     유보율         BPS       부채비율  \n",
       "17    5673107.0  6.49   8.53  0.49  2028.5  104.282505  92.899382  \n",
       "21    5588772.0  5.39   8.20  0.44  1483.4   89.734611  92.340666  \n",
       "28    4287130.0  4.68   8.96  0.39  2025.0  105.249432  93.135045  \n",
       "46    3723552.0  5.52   5.87  0.31   640.0   37.002608  93.303164  \n",
       "49    3364738.0  4.51   6.44  0.27   501.0   34.037668  93.047214  \n",
       "...         ...   ...    ...   ...     ...         ...        ...  \n",
       "908        29.0  3.49  24.75  0.76   597.9    0.690433   3.141928  \n",
       "927      3693.0  9.36  11.49  0.92  1500.7   10.895785  82.121414  \n",
       "973        69.0  7.91   7.04  0.87   700.1    0.781732  10.000000  \n",
       "975       439.0  3.52  16.31  0.48   913.9   60.636364  24.760293  \n",
       "1080      602.0  5.38  25.42  0.91    73.5    8.410229  65.363735  \n",
       "\n",
       "[116 rows x 15 columns]"
      ],
      "text/html": "<div>\n<style scoped>\n    .dataframe tbody tr th:only-of-type {\n        vertical-align: middle;\n    }\n\n    .dataframe tbody tr th {\n        vertical-align: top;\n    }\n\n    .dataframe thead th {\n        text-align: right;\n    }\n</style>\n<table border=\"1\" class=\"dataframe\">\n  <thead>\n    <tr style=\"text-align: right;\">\n      <th></th>\n      <th>N</th>\n      <th>종목명</th>\n      <th>현재가</th>\n      <th>액면가</th>\n      <th>상장주식수</th>\n      <th>시가총액</th>\n      <th>매출액</th>\n      <th>자산총계</th>\n      <th>부채총계</th>\n      <th>PER</th>\n      <th>ROE</th>\n      <th>PBR</th>\n      <th>유보율</th>\n      <th>BPS</th>\n      <th>부채비율</th>\n    </tr>\n  </thead>\n  <tbody>\n    <tr>\n      <th>17</th>\n      <td>18</td>\n      <td>KB금융</td>\n      <td>53900</td>\n      <td>5000</td>\n      <td>415808</td>\n      <td>224120</td>\n      <td>556802.0</td>\n      <td>6106722.0</td>\n      <td>5673107.0</td>\n      <td>6.49</td>\n      <td>8.53</td>\n      <td>0.49</td>\n      <td>2028.5</td>\n      <td>104.282505</td>\n      <td>92.899382</td>\n    </tr>\n    <tr>\n      <th>21</th>\n      <td>22</td>\n      <td>신한지주</td>\n      <td>36350</td>\n      <td>5000</td>\n      <td>516600</td>\n      <td>187784</td>\n      <td>290007.0</td>\n      <td>6052341.0</td>\n      <td>5588772.0</td>\n      <td>5.39</td>\n      <td>8.20</td>\n      <td>0.44</td>\n      <td>1483.4</td>\n      <td>89.734611</td>\n      <td>92.340666</td>\n    </tr>\n    <tr>\n      <th>28</th>\n      <td>29</td>\n      <td>하나금융지주</td>\n      <td>41150</td>\n      <td>5000</td>\n      <td>300242</td>\n      <td>123550</td>\n      <td>482159.0</td>\n      <td>4603133.0</td>\n      <td>4287130.0</td>\n      <td>4.68</td>\n      <td>8.96</td>\n      <td>0.39</td>\n      <td>2025.0</td>\n      <td>105.249432</td>\n      <td>93.135045</td>\n    </tr>\n    <tr>\n      <th>46</th>\n      <td>47</td>\n      <td>우리금융지주</td>\n      <td>10000</td>\n      <td>5000</td>\n      <td>722268</td>\n      <td>72227</td>\n      <td>286376.0</td>\n      <td>3990810.0</td>\n      <td>3723552.0</td>\n      <td>5.52</td>\n      <td>5.87</td>\n      <td>0.31</td>\n      <td>640.0</td>\n      <td>37.002608</td>\n      <td>93.303164</td>\n    </tr>\n    <tr>\n      <th>49</th>\n      <td>50</td>\n      <td>기업은행</td>\n      <td>9040</td>\n      <td>5000</td>\n      <td>738664</td>\n      <td>66775</td>\n      <td>185746.0</td>\n      <td>3616162.0</td>\n      <td>3364738.0</td>\n      <td>4.51</td>\n      <td>6.44</td>\n      <td>0.27</td>\n      <td>501.0</td>\n      <td>34.037668</td>\n      <td>93.047214</td>\n    </tr>\n    <tr>\n      <th>...</th>\n      <td>...</td>\n      <td>...</td>\n      <td>...</td>\n      <td>...</td>\n      <td>...</td>\n      <td>...</td>\n      <td>...</td>\n      <td>...</td>\n      <td>...</td>\n      <td>...</td>\n      <td>...</td>\n      <td>...</td>\n      <td>...</td>\n      <td>...</td>\n      <td>...</td>\n    </tr>\n    <tr>\n      <th>908</th>\n      <td>909</td>\n      <td>미래아이앤지</td>\n      <td>530</td>\n      <td>100</td>\n      <td>129484</td>\n      <td>686</td>\n      <td>58.0</td>\n      <td>923.0</td>\n      <td>29.0</td>\n      <td>3.49</td>\n      <td>24.75</td>\n      <td>0.76</td>\n      <td>597.9</td>\n      <td>0.690433</td>\n      <td>3.141928</td>\n    </tr>\n    <tr>\n      <th>927</th>\n      <td>928</td>\n      <td>MH에탄올</td>\n      <td>8660</td>\n      <td>500</td>\n      <td>7379</td>\n      <td>639</td>\n      <td>946.0</td>\n      <td>4497.0</td>\n      <td>3693.0</td>\n      <td>9.36</td>\n      <td>11.49</td>\n      <td>0.92</td>\n      <td>1500.7</td>\n      <td>10.895785</td>\n      <td>82.121414</td>\n    </tr>\n    <tr>\n      <th>973</th>\n      <td>974</td>\n      <td>엔케이물산</td>\n      <td>680</td>\n      <td>100</td>\n      <td>79439</td>\n      <td>540</td>\n      <td>341.0</td>\n      <td>690.0</td>\n      <td>69.0</td>\n      <td>7.91</td>\n      <td>7.04</td>\n      <td>0.87</td>\n      <td>700.1</td>\n      <td>0.781732</td>\n      <td>10.000000</td>\n    </tr>\n    <tr>\n      <th>975</th>\n      <td>976</td>\n      <td>원림</td>\n      <td>24500</td>\n      <td>5000</td>\n      <td>2200</td>\n      <td>539</td>\n      <td>684.0</td>\n      <td>1773.0</td>\n      <td>439.0</td>\n      <td>3.52</td>\n      <td>16.31</td>\n      <td>0.48</td>\n      <td>913.9</td>\n      <td>60.636364</td>\n      <td>24.760293</td>\n    </tr>\n    <tr>\n      <th>1080</th>\n      <td>1081</td>\n      <td>에이리츠</td>\n      <td>7910</td>\n      <td>5000</td>\n      <td>3793</td>\n      <td>300</td>\n      <td>609.0</td>\n      <td>921.0</td>\n      <td>602.0</td>\n      <td>5.38</td>\n      <td>25.42</td>\n      <td>0.91</td>\n      <td>73.5</td>\n      <td>8.410229</td>\n      <td>65.363735</td>\n    </tr>\n  </tbody>\n</table>\n<p>116 rows × 15 columns</p>\n</div>"
     },
     "metadata": {},
     "execution_count": 400
    }
   ],
   "source": [
    "pd_result[(pd_result['PER'] < 10.0) & (pd_result['PBR'] < 1.0) & (pd_result['ROE'] > 5.0) & (pd_result['시가총액'] > 1.0 ) & (pd_result['부채비율'] < 100.0)]"
   ]
  },
  {
   "cell_type": "code",
   "execution_count": null,
   "metadata": {},
   "outputs": [],
   "source": []
  }
 ]
}