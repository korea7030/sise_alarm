{
 "metadata": {
  "language_info": {
   "codemirror_mode": {
    "name": "ipython",
    "version": 3
   },
   "file_extension": ".py",
   "mimetype": "text/x-python",
   "name": "python",
   "nbconvert_exporter": "python",
   "pygments_lexer": "ipython3",
   "version": "3.8.5-final"
  },
  "orig_nbformat": 2,
  "kernelspec": {
   "name": "python385jvsc74a57bd059bdc7e3436a1f3dc6dc30af3703bc6a5e1117e99ab5acde87ab52d01c56c2b3",
   "display_name": "Python 3.8.5 64-bit ('stock')"
  }
 },
 "nbformat": 4,
 "nbformat_minor": 2,
 "cells": [
  {
   "cell_type": "code",
   "execution_count": 1,
   "metadata": {},
   "outputs": [],
   "source": [
    "import requests\n",
    "from bs4 import BeautifulSoup\n",
    "import pandas as pd\n",
    "import numpy as np"
   ]
  },
  {
   "cell_type": "code",
   "execution_count": 53,
   "metadata": {},
   "outputs": [],
   "source": [
    "BASE_URL = 'https://finance.naver.com/sise/sise_market_sum.nhn?sosok='"
   ]
  },
  {
   "cell_type": "code",
   "execution_count": 54,
   "metadata": {},
   "outputs": [],
   "source": [
    "r = requests.get(BASE_URL+str(1)+'&page='+str(1))"
   ]
  },
  {
   "cell_type": "code",
   "execution_count": 55,
   "metadata": {},
   "outputs": [],
   "source": [
    "soup = BeautifulSoup(r.text, 'lxml')"
   ]
  },
  {
   "cell_type": "code",
   "execution_count": 56,
   "metadata": {},
   "outputs": [
    {
     "output_type": "execute_result",
     "data": {
      "text/plain": [
       "30"
      ]
     },
     "metadata": {},
     "execution_count": 56
    }
   ],
   "source": [
    "total_page_num = soup.select_one('td.pgRR > a')\n",
    "total_page_num  = int(total_page_num.get('href').split('=')[-1])\n",
    "total_page_num"
   ]
  },
  {
   "cell_type": "code",
   "execution_count": 57,
   "metadata": {},
   "outputs": [
    {
     "output_type": "execute_result",
     "data": {
      "text/plain": [
       "['market_sum',\n",
       " 'per',\n",
       " 'property_total',\n",
       " 'roe',\n",
       " 'debt_total',\n",
       " 'sales',\n",
       " 'pbr',\n",
       " 'reserve_ratio']"
      ]
     },
     "metadata": {},
     "execution_count": 57
    }
   ],
   "source": [
    "ipt_html = soup.select_one('div.subcnt_sise_item_top')\n",
    "global fields\n",
    "fields = [item.get('value') for item in ipt_html.select('input') if item.get('value') in ['per', 'pbr', 'roe', 'market_sum', 'property_total', 'debt_total', 'sales', 'reserve_ratio']]\n",
    "fields"
   ]
  },
  {
   "source": [
    "global fields\n",
    "data = {\n",
    "    'menu': 'market_sum',\n",
    "    'returnUrl': BASE_URL + str(1) + \"&page=\" + str(1),\n",
    "    'fieldIds': fields\n",
    "}\n",
    "\n",
    "r2 = requests.post('https://finance.naver.com/sise/field_submit.nhn', data=data)\n",
    "r2.encoding='euc-kr'\n",
    "r2.text"
   ],
   "cell_type": "code",
   "metadata": {},
   "execution_count": 58,
   "outputs": [
    {
     "output_type": "execute_result",
     "data": {
      "text/plain": [
       "bl2.gif\" width=\"15\" height=\"13\" alt=\"토론실\"></a></td>\\n\\t\\t\\t\\t</tr>\\n\\t\\t\\t\\n\\t\\n\\t\\t\\n\\t\\t\\n\\t\\n\\n\\n\\t\\t\\t\\t<tr  onMouseOver=\"mouseOver(this)\" onMouseOut=\"mouseOut(this)\">\\n\\t\\t\\t\\t\\t<td class=\"no\">43</td>\\n\\t\\t\\t\\t\\t<td><a href=\"/item/main.nhn?code=035900\" class=\"tltle\">JYP Ent.</a></td>\\n\\t\\t\\t\\t\\t<td class=\"number\">34,900</td>\\n\\t\\t\\t\\t\\t<td class=\"number\">\\n\\t\\t\\t\\t<img src=\"https://ssl.pstatic.net/imgstock/images/images4/ico_up.gif\" width=\"7\" height=\"6\" style=\"margin-right:4px;\" alt=\"상승\"><span class=\"tah p11 red02\">\\n\\t\\t\\t\\t200\\n\\t\\t\\t\\t</span>\\n\\t\\t\\t</td>\\n\\t\\t\\t\\t\\t<td class=\"number\">\\n\\t\\t\\t\\t<span class=\"tah p11 red01\">\\n\\t\\t\\t\\t+0.58%\\n\\t\\t\\t\\t</span>\\n\\t\\t\\t</td>\\n\\t\\t\\t\\t\\t<td class=\"number\">500</td>\\n\\t\\n\\t\\t\\n\\t\\t\\t\\n\\t\\t\\t\\n\\t\\t\\t\\n\\t\\t\\t\\t\\t\\t\\t\\t\\t<td class=\"number\">12,389</td>\\n\\t\\t\\t\\n\\t\\t\\n\\t\\n\\t\\t\\n\\t\\t\\t\\n\\t\\t\\t\\n\\t\\t\\t\\n\\t\\t\\t\\t\\t\\t\\t\\t\\t<td class=\"number\">1,444</td>\\n\\t\\t\\t\\n\\t\\t\\n\\t\\n\\t\\t\\n\\t\\t\\t\\n\\t\\t\\t\\n\\t\\t\\t\\n\\t\\t\\t\\t\\t\\t\\t\\t\\t<td class=\"number\">2,239</td>\\n\\t\\t\\t\\n\\t\\t\\n\\t\\n\\t\\t\\n\\t\\t\\t\\n\\t\\t\\t\\n\\t\\t\\t\\n\\t\\t\\t\\t\\t\\t\\t\\t\\t<td class=\"number\">377</td>\\n\\t\\t\\t\\n\\t\\t\\n\\t\\n\\t\\t\\n\\t\\t\\t\\n\\t\\t\\t\\n\\t\\t\\t\\n\\t\\t\\t\\t\\t\\t\\t\\t\\t<td class=\"number\">41.95</td>\\n\\t\\t\\t\\n\\t\\t\\n\\t\\n\\t\\t\\n\\t\\t\\t\\n\\t\\t\\t\\n\\t\\t\\t\\n\\t\\t\\t\\t\\t\\t\\t\\t\\t<td class=\"number\">17.29</td>\\n\\t\\t\\t\\n\\t\\t\\n\\t\\n\\t\\t\\n\\t\\t\\t\\n\\t\\t\\t\\n\\t\\t\\t\\n\\t\\t\\t\\t\\t\\t\\t\\t\\t<td class=\"number\">6.32</td>\\n\\t\\t\\t\\n\\t\\t\\n\\t\\n\\t\\t\\n\\t\\t\\t\\n\\t\\t\\t\\n\\t\\t\\t\\n\\t\\t\\t\\t\\t\\t\\t\\t\\t<td class=\"number\">985.7</td>\\n\\t\\t\\t\\n\\t\\t\\n\\t\\n\\t\\t\\t\\t\\t<td class=\"center\"><a href=\"/item/board.nhn?code=035900\"><img src=\"https://ssl.pstatic.net/imgstock/images5/ico_debatebl2.gif\" width=\"15\" height=\"13\" alt=\"토론실\"></a></td>\\n\\t\\t\\t\\t</tr>\\n\\t\\t\\t\\n\\t\\n\\t\\t\\n\\t\\t\\n\\t\\n\\n\\n\\t\\t\\t\\t<tr  onMouseOver=\"mouseOver(this)\" onMouseOut=\"mouseOut(this)\">\\n\\t\\t\\t\\t\\t<td class=\"no\">44</td>\\n\\t\\t\\t\\t\\t<td><a href=\"/item/main.nhn?code=060250\" class=\"tltle\">NHN한국사이버결제</a></td>\\n\\t\\t\\t\\t\\t<td class=\"number\">53,200</td>\\n\\t\\t\\t\\t\\t<td class=\"number\">\\n\\t\\t\\t\\t<img src=\"https://ssl.pstatic.net/imgstock/images/images4/ico_up.gif\" width=\"7\" height=\"6\" style=\"margin-right:4px;\" alt=\"상승\"><span class=\"tah p11 red02\">\\n\\t\\t\\t\\t2,400\\n\\t\\t\\t\\t</span>\\n\\t\\t\\t</td>\\n\\t\\t\\t\\t\\t<td class=\"number\">\\n\\t\\t\\t\\t<span class=\"tah p11 red01\">\\n\\t\\t\\t\\t+4.72%\\n\\t\\t\\t\\t</span>\\n\\t\\t\\t</td>\\n\\t\\t\\t\\t\\t<td class=\"number\">500</td>\\n\\t\\n\\t\\t\\n\\t\\t\\t\\n\\t\\t\\t\\n\\t\\t\\t\\n\\t\\t\\t\\t\\t\\t\\t\\t\\t<td class=\"number\">12,221</td>\\n\\t\\t\\t\\n\\t\\t\\n\\t\\n\\t\\t\\n\\t\\t\\t\\n\\t\\t\\t\\n\\t\\t\\t\\n\\t\\t\\t\\t\\t\\t\\t\\t\\t<td class=\"number\">6,248</td>\\n\\t\\t\\t\\n\\t\\t\\n\\t\\n\\t\\t\\n\\t\\t\\t\\n\\t\\t\\t\\n\\t\\t\\t\\n\\t\\t\\t\\t\\t\\t\\t\\t\\t<td class=\"number\">3,747</td>\\n\\t\\t\\t\\n\\t\\t\\n\\t\\n\\t\\t\\n\\t\\t\\t\\n\\t\\t\\t\\n\\t\\t\\t\\n\\t\\t\\t\\t\\t\\t\\t\\t\\t<td class=\"number\">2,206</td>\\n\\t\\t\\t\\n\\t\\t\\n\\t\\n\\t\\t\\n\\t\\t\\t\\n\\t\\t\\t\\n\\t\\t\\t\\n\\t\\t\\t\\t\\t\\t\\t\\t\\t<td class=\"number\">43.43</td>\\n\\t\\t\\t\\n\\t\\t\\n\\t\\n\\t\\t\\n\\t\\t\\t\\n\\t\\t\\t\\n\\t\\t\\t\\n\\t\\t\\t\\t\\t\\t\\t\\t\\t<td class=\"number\">21.35</td>\\n\\t\\t\\t\\n\\t\\t\\n\\t\\n\\t\\t\\n\\t\\t\\t\\n\\t\\t\\t\\n\\t\\t\\t\\n\\t\\t\\t\\t\\t\\t\\t\\t\\t<td class=\"number\">8.09</td>\\n\\t\\t\\t\\n\\t\\t\\n\\t\\n\\t\\t\\n\\t\\t\\t\\n\\t\\t\\t\\n\\t\\t\\t\\n\\t\\t\\t\\t\\t\\t\\t\\t\\t<td class=\"number\">1,436.9</td>\\n\\t\\t\\t\\n\\t\\t\\n\\t\\n\\t\\t\\t\\t\\t<td class=\"center\"><a href=\"/item/board.nhn?code=060250\"><img src=\"https://ssl.pstatic.net/imgstock/images5/ico_debatebl2.gif\" width=\"15\" height=\"13\" alt=\"토론실\"></a></td>\\n\\t\\t\\t\\t</tr>\\n\\t\\t\\t\\n\\t\\n\\t\\t\\n\\t\\t\\n\\t\\n\\n\\n\\t\\t\\t\\t<tr  onMouseOver=\"mouseOver(this)\" onMouseOut=\"mouseOut(this)\">\\n\\t\\t\\t\\t\\t<td class=\"no\">45</td>\\n\\t\\t\\t\\t\\t<td><a href=\"/item/main.nhn?code=039200\" class=\"tltle\">오스코텍</a></td>\\n\\t\\t\\t\\t\\t<td class=\"number\">40,650</td>\\n\\t\\t\\t\\t\\t<td class=\"number\">\\n\\t\\t\\t\\t<span class=\"tah p11\">0</span>\\n\\t\\t\\t</td>\\n\\t\\t\\t\\t\\t<td class=\"number\">\\n\\t\\t\\t\\t<span class=\"tah p11\">0.00%</span>\\n\\t\\t\\t</td>\\n\\t\\t\\t\\t\\t<td class=\"number\">500</td>\\n\\t\\n\\t\\t\\n\\t\\t\\t\\n\\t\\t\\t\\n\\t\\t\\t\\n\\t\\t\\t\\t\\t\\t\\t\\t\\t<td class=\"number\">12,160</td>\\n\\t\\t\\t\\n\\t\\t\\n\\t\\n\\t\\t\\n\\t\\t\\t\\n\\t\\t\\t\\n\\t\\t\\t\\n\\t\\t\\t\\t\\t\\t\\t\\t\\t<td class=\"number\">435</td>\\n\\t\\t\\t\\n\\t\\t\\n\\t\\n\\t\\t\\n\\t\\t\\t\\n\\t\\t\\t\\n\\t\\t\\t\\n\\t\\t\\t\\t\\t\\t\\t\\t\\t<td class=\"number\">764</td>\\n\\t\\t\\t\\n\\t\\t\\n\\t\\n\\t\\t\\n\\t\\t\\t\\n\\t\\t\\t\\n\\t\\t\\t\\n\\t\\t\\t\\t\\t\\t\\t\\t\\t<td class=\"number\">191</td>\\n\\t\\t\\t\\n\\t\\t\\n\\t\\n\\t\\t\\n\\t\\t\\t\\n\\t\\t\\t\\n\\t\\t\\t\\n\\t\\t\\t\\t\\t\\t\\t\\t\\t<td class=\"number\">-280.34</td>\\n\\t\\t\\t\\n\\t\\t\\n\\t\\n\\t\\t\\n\\t\\t\\t\\n\\t\\t\\t\\n\\t\\t\\t\\n\\t\\t\\t\\t\\t\\t\\t\\t\\t<td class=\"number\">-8.35</td>\\n\\t\\t\\t\\n\\t\\t\\n\\t\\n\\t\\t\\n\\t\\t\\t\\n\\t\\t\\t\\n\\t\\t\\t\\n\\t\\t\\t\\t\\t\\t\\t\\t\\t<td class=\"number\">23.23</td>\\n\\t\\t\\t\\n\\t\\t\\n\\t\\n\\t\\t\\n\\t\\t\\t\\n\\t\\t\\t\\n\\t\\t\\t\\n\\t\\t\\t\\t\\t\\t\\t\\t\\t<td class=\"number\">218.9</td>\\n\\t\\t\\t\\n\\t\\t\\n\\t\\n\\t\\t\\t\\t\\t<td class=\"center\"><a href=\"/item/board.nhn?code=039200\"><img src=\"https://ssl.pstatic.net/imgstock/images5/ico_debatebl2.gif\" width=\"15\" height=\"13\" alt=\"토론실\"></a></td>\\n\\t\\t\\t\\t</tr>\\n\\t\\t\\t\\n\\t\\n\\t\\t\\n\\t\\t\\t\\t<tr><td colspan=\"13\" class=\"blank_06\"></td></tr>\\n\\t\\t\\t\\t<tr><td colspan=\"13\" class=\"division_line\"></td></tr>\\n\\t\\t\\t\\t<tr><td colspan=\"13\" class=\"blank_08\"></td></tr>\\n\\t\\t\\n\\t\\t\\n\\t\\n\\n\\n\\t\\t\\t\\t<tr  onMouseOver=\"mouseOver(this)\" onMouseOut=\"mouseOut(this)\">\\n\\t\\t\\t\\t\\t<td class=\"no\">46</td>\\n\\t\\t\\t\\t\\t<td><a href=\"/item/main.nhn?code=000250\" class=\"tltle\">삼천당제약</a></td>\\n\\t\\t\\t\\t\\t<td class=\"number\">52,400</td>\\n\\t\\t\\t\\t\\t<td class=\"number\">\\n\\t\\t\\t\\t<img src=\"https://ssl.pstatic.net/imgstock/images/images4/ico_up.gif\" width=\"7\" height=\"6\" style=\"margin-right:4px;\" alt=\"상승\"><span class=\"tah p11 red02\">\\n\\t\\t\\t\\t1,100\\n\\t\\t\\t\\t</span>\\n\\t\\t\\t</td>\\n\\t\\t\\t\\t\\t<td class=\"number\">\\n\\t\\t\\t\\t<span class=\"tah p11 red01\">\\n\\t\\t\\t\\t+2.14%\\n\\t\\t\\t\\t</span>\\n\\t\\t\\t</td>\\n\\t\\t\\t\\t\\t<td class=\"number\">500</td>\\n\\t\\n\\t\\t\\n\\t\\t\\t\\n\\t\\t\\t\\n\\t\\t\\t\\n\\t\\t\\t\\t\\t\\t\\t\\t\\t<td class=\"number\">11,930</td>\\n\\t\\t\\t\\n\\t\\t\\n\\t\\n\\t\\t\\n\\t\\t\\t\\n\\t\\t\\t\\n\\t\\t\\t\\n\\t\\t\\t\\t\\t\\t\\t\\t\\t<td class=\"number\">1,669</td>\\n\\t\\t\\t\\n\\t\\t\\n\\t\\n\\t\\t\\n\\t\\t\\t\\n\\t\\t\\t\\n\\t\\t\\t\\n\\t\\t\\t\\t\\t\\t\\t\\t\\t<td class=\"number\">3,171</td>\\n\\t\\t\\t\\n\\t\\t\\n\\t\\n\\t\\t\\n\\t\\t\\t\\n\\t\\t\\t\\n\\t\\t\\t\\n\\t\\t\\t\\t\\t\\t\\t\\t\\t<td class=\"number\">594</td>\\n\\t\\t\\t\\n\\t\\t\\n\\t\\n\\t\\t\\n\\t\\t\\t\\n\\t\\t\\t\\n\\t\\t\\t\\n\\t\\t\\t\\t\\t\\t\\t\\t\\t<td class=\"number\">-1,218.60</td>\\n\\t\\t\\t\\n\\t\\t\\n\\t\\n\\t\\t\\n\\t\\t\\t\\n\\t\\t\\t\\n\\t\\t\\t\\n\\t\\t\\t\\t\\t\\t\\t\\t\\t<td class=\"number\">-0.56</td>\\n\\t\\t\\t\\n\\t\\t\\n\\t\\n\\t\\t\\n\\t\\t\\t\\n\\t\\t\\t\\n\\t\\t\\t\\n\\t\\t\\t\\t\\t\\t\\t\\t\\t<td class=\"number\">6.20</td>\\n\\t\\t\\t\\n\\t\\t\\n\\t\\n\\t\\t\\n\\t\\t\\t\\n\\t\\t\\t\\n\\t\\t\\t\\n\\t\\t\\t\\t\\t\\t\\t\\t\\t<td class=\"number\">1,555.8</td>\\n\\t\\t\\t\\n\\t\\t\\n\\t\\n\\t\\t\\t\\t\\t<td class=\"center\"><a href=\"/item/board.nhn?code=000250\"><img src=\"https://ssl.pstatic.net/imgstock/images5/ico_debatebl2.gif\" width=\"15\" height=\"13\" alt=\"토론실\"></a></td>\\n\\t\\t\\t\\t</tr>\\n\\t\\t\\t\\n\\t\\n\\t\\t\\n\\t\\t\\n\\t\\n\\n\\n\\t\\t\\t\\t<tr  onMouseOver=\"mouseOver(this)\" onMouseOut=\"mouseOut(this)\">\\n\\t\\t\\t\\t\\t<td class=\"no\">47</td>\\n\\t\\t\\t\\t\\t<td><a href=\"/item/main.nhn?code=194480\" class=\"tltle\">데브시스터즈</a></td>\\n\\t\\t\\t\\t\\t<td class=\"number\">102,300</td>\\n\\t\\t\\t\\t\\t<td class=\"number\">\\n\\t\\t\\t\\t<img src=\"https://ssl.pstatic.net/imgstock/images/images4/ico_down.gif\" width=\"7\" height=\"6\" style=\"margin-right:4px;\" alt=\"하락\"><span class=\"tah p11 nv01\">\\n\\t\\t\\t\\t9,600\\n\\t\\t\\t\\t</span>\\n\\t\\t\\t</td>\\n\\t\\t\\t\\t\\t<td class=\"number\">\\n\\t\\t\\t\\t<span class=\"tah p11 nv01\">\\n\\t\\t\\t\\t-8.58%\\n\\t\\t\\t\\t</span>\\n\\t\\t\\t</td>\\n\\t\\t\\t\\t\\t<td class=\"number\">500</td>\\n\\t\\n\\t\\t\\n\\t\\t\\t\\n\\t\\t\\t\\n\\t\\t\\t\\n\\t\\t\\t\\t\\t\\t\\t\\t\\t<td class=\"number\">11,617</td>\\n\\t\\t\\t\\n\\t\\t\\n\\t\\n\\t\\t\\n\\t\\t\\t\\n\\t\\t\\t\\n\\t\\t\\t\\n\\t\\t\\t\\t\\t\\t\\t\\t\\t<td class=\"number\">705</td>\\n\\t\\t\\t\\n\\t\\t\\n\\t\\n\\t\\t\\n\\t\\t\\t\\n\\t\\t\\t\\n\\t\\t\\t\\n\\t\\t\\t\\t\\t\\t\\t\\t\\t<td class=\"number\">1,322</td>\\n\\t\\t\\t\\n\\t\\t\\n\\t\\n\\t\\t\\n\\t\\t\\t\\n\\t\\t\\t\\n\\t\\t\\t\\n\\t\\t\\t\\t\\t\\t\\t\\t\\t<td class=\"number\">325</td>\\n\\t\\t\\t\\n\\t\\t\\n\\t\\n\\t\\t\\n\\t\\t\\t\\n\\t\\t\\t\\n\\t\\t\\t\\n\\t\\t\\t\\t\\t\\t\\t\\t\\t<td class=\"number\">-194.49</td>\\n\\t\\t\\t\\n\\t\\t\\n\\t\\n\\t\\t\\n\\t\\t\\t\\n\\t\\t\\t\\n\\t\\t\\t\\n\\t\\t\\t\\t\\t\\t\\t\\t\\t<td class=\"number\">-5.70</td>\\n\\t\\t\\t\\n\\t\\t\\n\\t\\n\\t\\t\\n\\t\\t\\t\\n\\t\\t\\t\\n\\t\\t\\t\\n\\t\\t\\t\\t\\t\\t\\t\\t\\t<td class=\"number\">9.95</td>\\n\\t\\t\\t\\n\\t\\t\\n\\t\\n\\t\\t\\n\\t\\t\\t\\n\\t\\t\\t\\n\\t\\t\\t\\n\\t\\t\\t\\t\\t\\t\\t\\t\\t<td class=\"number\">2,416.9</td>\\n\\t\\t\\t\\n\\t\\t\\n\\t\\n\\t\\t\\t\\t\\t<td class=\"center\"><a href=\"/item/board.nhn?code=194480\"><img src=\"https://ssl.pstatic.net/imgstock/images5/ico_debatebl2.gif\" width=\"15\" height=\"13\" alt=\"토론실\"></a></td>\\n\\t\\t\\t\\t</tr>\\n\\t\\t\\t\\n\\t\\n\\t\\t\\n\\t\\t\\n\\t\\n\\n\\n\\t\\t\\t\\t<tr  onMouseOver=\"mouseOver(this)\" onMouseOut=\"mouseOut(this)\">\\n\\t\\t\\t\\t\\t<td class=\"no\">48</td>\\n\\t\\t\\t\\t\\t<td><a href=\"/item/main.nhn?code=950220\" class=\"tltle\">네오이뮨텍(Reg.S)</a></td>\\n\\t\\t\\t\\t\\t<td class=\"number\">11,600</td>\\n\\t\\t\\t\\t\\t<td class=\"number\">\\n\\t\\t\\t\\t<img src=\"https://ssl.pstatic.net/imgstock/images/images4/ico_up.gif\" width=\"7\" height=\"6\" style=\"margin-right:4px;\" alt=\"상승\"><span class=\"tah p11 red02\">\\n\\t\\t\\t\\t300\\n\\t\\t\\t\\t</span>\\n\\t\\t\\t</td>\\n\\t\\t\\t\\t\\t<td class=\"number\">\\n\\t\\t\\t\\t<span class=\"tah p11 red01\">\\n\\t\\t\\t\\t+2.65%\\n\\t\\t\\t\\t</span>\\n\\t\\t\\t</td>\\n\\t\\t\\t\\t\\t<td class=\"number\">0</td>\\n\\t\\n\\t\\t\\n\\t\\t\\t\\n\\t\\t\\t\\n\\t\\t\\t\\n\\t\\t\\t\\t\\t\\t\\t\\t\\t<td class=\"number\">11,413</td>\\n\\t\\t\\t\\n\\t\\t\\n\\t\\n\\t\\t\\n\\t\\t\\t\\n\\t\\t\\t\\n\\t\\t\\t\\t\\t<td class=\"number\">N/A</td>\\n\\t\\t\\t\\n\\t\\t\\t\\n\\t\\t\\n\\t\\n\\t\\t\\n\\t\\t\\t\\n\\t\\t\\t\\n\\t\\t\\t\\n\\t\\t\\t\\t\\t\\t\\t\\t\\t<td class=\"number\">963</td>\\n\\t\\t\\t\\n\\t\\t\\n\\t\\n\\t\\t\\n\\t\\t\\t\\n\\t\\t\\t\\n\\t\\t\\t\\n\\t\\t\\t\\t\\t\\t\\t\\t\\t<td class=\"number\">116</td>\\n\\t\\t\\t\\n\\t\\t\\n\\t\\n\\t\\t\\n\\t\\t\\t\\n\\t\\t\\t\\n\\t\\t\\t\\n\\t\\t\\t\\t\\t\\t\\t\\t\\t<td class=\"number\">-31.44</td>\\n\\t\\t\\t\\n\\t\\t\\n\\t\\n\\t\\t\\n\\t\\t\\t\\n\\t\\t\\t\\n\\t\\t\\t\\n\\t\\t\\t\\t\\t\\t\\t\\t\\t<td class=\"number\">-29.94</td>\\n\\t\\t\\t\\n\\t\\t\\n\\t\\n\\t\\t\\n\\t\\t\\t\\n\\t\\t\\t\\n\\t\\t\\t\\n\\t\\t\\t\\t\\t\\t\\t\\t\\t<td class=\"number\">11.39</td>\\n\\t\\t\\t\\n\\t\\t\\n\\t\\n\\t\\t\\n\\t\\t\\t\\n\\t\\t\\t\\n\\t\\t\\t\\n\\t\\t\\t\\t\\t\\t\\t\\t\\t<td class=\"number\">4,701,199.8</td>\\n\\t\\t\\t\\n\\t\\t\\n\\t\\n\\t\\t\\t\\t\\t<td class=\"center\"><a href=\"/item/board.nhn?code=950220\"><img src=\"https://ssl.pstatic.net/imgstock/images5/ico_debatebl2.gif\" width=\"15\" height=\"13\" alt=\"토론실\"></a></td>\\n\\t\\t\\t\\t</tr>\\n\\t\\t\\t\\n\\t\\n\\t\\t\\n\\t\\t\\n\\t\\n\\n\\n\\t\\t\\t\\t<tr  onMouseOver=\"mouseOver(this)\" onMouseOut=\"mouseOut(this)\">\\n\\t\\t\\t\\t\\t<td class=\"no\">49</td>\\n\\t\\t\\t\\t\\t<td><a href=\"/item/main.nhn?code=022100\" class=\"tltle\">포스코 ICT</a></td>\\n\\t\\t\\t\\t\\t<td class=\"number\">7,450</td>\\n\\t\\t\\t\\t\\t<td class=\"number\">\\n\\t\\t\\t\\t<img src=\"https://ssl.pstatic.net/imgstock/images/images4/ico_up.gif\" width=\"7\" height=\"6\" style=\"margin-right:4px;\" alt=\"상승\"><span class=\"tah p11 red02\">\\n\\t\\t\\t\\t50\\n\\t\\t\\t\\t</span>\\n\\t\\t\\t</td>\\n\\t\\t\\t\\t\\t<td class=\"number\">\\n\\t\\t\\t\\t<span class=\"tah p11 red01\">\\n\\t\\t\\t\\t+0.68%\\n\\t\\t\\t\\t</span>\\n\\t\\t\\t</td>\\n\\t\\t\\t\\t\\t<td class=\"number\">500</td>\\n\\t\\n\\t\\t\\n\\t\\t\\t\\n\\t\\t\\t\\n\\t\\t\\t\\n\\t\\t\\t\\t\\t\\t\\t\\t\\t<td class=\"number\">11,327</td>\\n\\t\\t\\t\\n\\t\\t\\n\\t\\n\\t\\t\\n\\t\\t\\t\\n\\t\\t\\t\\n\\t\\t\\t\\n\\t\\t\\t\\t\\t\\t\\t\\t\\t<td class=\"number\">9,642</td>\\n\\t\\t\\t\\n\\t\\t\\n\\t\\n\\t\\t\\n\\t\\t\\t\\n\\t\\t\\t\\n\\t\\t\\t\\n\\t\\t\\t\\t\\t\\t\\t\\t\\t<td class=\"number\">6,844</td>\\n\\t\\t\\t\\n\\t\\t\\n\\t\\n\\t\\t\\n\\t\\t\\t\\n\\t\\t\\t\\n\\t\\t\\t\\n\\t\\t\\t\\t\\t\\t\\t\\t\\t<td class=\"number\">3,145</td>\\n\\t\\t\\t\\n\\t\\t\\n\\t\\n\\t\\t\\n\\t\\t\\t\\n\\t\\t\\t\\n\\t\\t\\t\\n\\t\\t\\t\\t\\t\\t\\t\\t\\t<td class=\"number\">130.70</td>\\n\\t\\t\\t\\n\\t\\t\\n\\t\\n\\t\\t\\n\\t\\t\\t\\n\\t\\t\\t\\n\\t\\t\\t\\n\\t\\t\\t\\t\\t\\t\\t\\t\\t<td class=\"number\">2.36</td>\\n\\t\\t\\t\\n\\t\\t\\n\\t\\n\\t\\t\\n\\t\\t\\t\\n\\t\\t\\t\\n\\t\\t\\t\\n\\t\\t\\t\\t\\t\\t\\t\\t\\t<td class=\"number\">3.07</td>\\n\\t\\t\\t\\n\\t\\t\\n\\t\\n\\t\\t\\n\\t\\t\\t\\n\\t\\t\\t\\n\\t\\t\\t\\n\\t\\t\\t\\t\\t\\t\\t\\t\\t<td class=\"number\">389.5</td>\\n\\t\\t\\t\\n\\t\\t\\n\\t\\n\\t\\t\\t\\t\\t<td class=\"center\"><a href=\"/item/board.nhn?code=022100\"><img src=\"https://ssl.pstatic.net/imgstock/images5/ico_debatebl2.gif\" width=\"15\" height=\"13\" alt=\"토론실\"></a></td>\\n\\t\\t\\t\\t</tr>\\n\\t\\t\\t\\n\\t\\n\\t\\t\\n\\t\\t\\n\\t\\n\\n\\n\\t\\t\\t\\t<tr  onMouseOver=\"mouseOver(this)\" onMouseOut=\"mouseOut(this)\">\\n\\t\\t\\t\\t\\t<td class=\"no\">50</td>\\n\\t\\t\\t\\t\\t<td><a href=\"/item/main.nhn?code=213420\" class=\"tltle\">덕산네오룩스</a></td>\\n\\t\\t\\t\\t\\t<td class=\"number\">46,550</td>\\n\\t\\t\\t\\t\\t<td class=\"number\">\\n\\t\\t\\t\\t<img src=\"https://ssl.pstatic.net/imgstock/images/images4/ico_up.gif\" width=\"7\" height=\"6\" style=\"margin-right:4px;\" alt=\"상승\"><span class=\"tah p11 red02\">\\n\\t\\t\\t\\t850\\n\\t\\t\\t\\t</span>\\n\\t\\t\\t</td>\\n\\t\\t\\t\\t\\t<td class=\"number\">\\n\\t\\t\\t\\t<span class=\"tah p11 red01\">\\n\\t\\t\\t\\t+1.86%\\n\\t\\t\\t\\t</span>\\n\\t\\t\\t</td>\\n\\t\\t\\t\\t\\t<td class=\"number\">200</td>\\n\\t\\n\\t\\t\\n\\t\\t\\t\\n\\t\\t\\t\\n\\t\\t\\t\\n\\t\\t\\t\\t\\t\\t\\t\\t\\t<td class=\"number\">11,177</td>\\n\\t\\t\\t\\n\\t\\t\\n\\t\\n\\t\\t\\n\\t\\t\\t\\n\\t\\t\\t\\n\\t\\t\\t\\n\\t\\t\\t\\t\\t\\t\\t\\t\\t<td class=\"number\">1,442</td>\\n\\t\\t\\t\\n\\t\\t\\n\\t\\n\\t\\t\\n\\t\\t\\t\\n\\t\\t\\t\\n\\t\\t\\t\\n\\t\\t\\t\\t\\t\\t\\t\\t\\t<td class=\"number\">2,209</td>\\n\\t\\t\\t\\n\\t\\t\\n\\t\\n\\t\\t\\n\\t\\t\\t\\n\\t\\t\\t\\n\\t\\t\\t\\n\\t\\t\\t\\t\\t\\t\\t\\t\\t<td class=\"number\">282</td>\\n\\t\\t\\t\\n\\t\\t\\n\\t\\n\\t\\t\\n\\t\\t\\t\\n\\t\\t\\t\\n\\t\\t\\t\\n\\t\\t\\t\\t\\t\\t\\t\\t\\t<td class=\"number\">33.51</td>\\n\\t\\t\\t\\n\\t\\t\\n\\t\\n\\t\\t\\n\\t\\t\\t\\n\\t\\t\\t\\n\\t\\t\\t\\n\\t\\t\\t\\t\\t\\t\\t\\t\\t<td class=\"number\">18.91</td>\\n\\t\\t\\t\\n\\t\\t\\n\\t\\n\\t\\t\\n\\t\\t\\t\\n\\t\\t\\t\\n\\t\\t\\t\\n\\t\\t\\t\\t\\t\\t\\t\\t\\t<td class=\"number\">5.80</td>\\n\\t\\t\\t\\n\\t\\t\\n\\t\\n\\t\\t\\n\\t\\t\\t\\n\\t\\t\\t\\n\\t\\t\\t\\n\\t\\t\\t\\t\\t\\t\\t\\t\\t<td class=\"number\">3,917.0</td>\\n\\t\\t\\t\\n\\t\\t\\n\\t\\n\\t\\t\\t\\t\\t<td class=\"center\"><a href=\"/item/board.nhn?code=213420\"><img src=\"https://ssl.pstatic.net/imgstock/images5/ico_debatebl2.gif\" width=\"15\" height=\"13\" alt=\"토론실\"></a></td>\\n\\t\\t\\t\\t</tr>\\n\\t\\t\\t\\n\\t\\n\\t\\t\\n\\t\\t\\n\\t\\t\\t\\t<tr><td colspan=\"13\" class=\"blank_09\"></td></tr>\\n\\t\\t\\t\\t<tr><td colspan=\"13\" class=\"division_line_1\"></td></tr>\\n\\t\\t\\t\\t<tr><td colspan=\"13\" class=\"blank_09\"></td></tr>\\n\\t\\t\\n\\t\\n\\n\\n\\n\\t\\t\\t\\t</tbody>\\n\\t\\t\\t\\t</table>\\n\\t\\t\\t\\t<table summary=\"페이지 네비게이션 리스트\" class=\"Nnavi\" align=\"center\">\\n\\t\\t\\t\\t<caption>페이지 네비게이션</caption>\\n\\t\\t\\t\\t<tr>\\t\\t\\n\\t\\t\\t\\t\\t\\n\\t\\t\\t\\t\\t\\n\\t\\t\\t\\t\\t\\n\\t\\t\\t\\t\\t<td class=\"on\">\\n\\t\\t\\t\\t<a href=\"/sise/sise_market_sum.nhn?sosok=1&amp;page=1\"  >1</a>\\n\\t\\t\\t\\t</td>\\n<td>\\n\\t\\t\\t\\t<a href=\"/sise/sise_market_sum.nhn?sosok=1&amp;page=2\"  >2</a>\\n\\t\\t\\t\\t</td>\\n<td>\\n\\t\\t\\t\\t<a href=\"/sise/sise_market_sum.nhn?sosok=1&amp;page=3\"  >3</a>\\n\\t\\t\\t\\t</td>\\n<td>\\n\\t\\t\\t\\t<a href=\"/sise/sise_market_sum.nhn?sosok=1&amp;page=4\"  >4</a>\\n\\t\\t\\t\\t</td>\\n<td>\\n\\t\\t\\t\\t<a href=\"/sise/sise_market_sum.nhn?sosok=1&amp;page=5\"  >5</a>\\n\\t\\t\\t\\t</td>\\n<td>\\n\\t\\t\\t\\t<a href=\"/sise/sise_market_sum.nhn?sosok=1&amp;page=6\"  >6</a>\\n\\t\\t\\t\\t</td>\\n<td>\\n\\t\\t\\t\\t<a href=\"/sise/sise_market_sum.nhn?sosok=1&amp;page=7\"  >7</a>\\n\\t\\t\\t\\t</td>\\n<td>\\n\\t\\t\\t\\t<a href=\"/sise/sise_market_sum.nhn?sosok=1&amp;page=8\"  >8</a>\\n\\t\\t\\t\\t</td>\\n<td>\\n\\t\\t\\t\\t<a href=\"/sise/sise_market_sum.nhn?sosok=1&amp;page=9\"  >9</a>\\n\\t\\t\\t\\t</td>\\n<td>\\n\\t\\t\\t\\t<a href=\"/sise/sise_market_sum.nhn?sosok=1&amp;page=10\"  >10</a>\\n\\t\\t\\t\\t</td>\\n\\n\\t\\t\\t\\t\\t<td class=\"pgR\">\\n\\t\\t\\t\\t<a href=\"/sise/sise_market_sum.nhn?sosok=1&amp;page=11\"  >\\n\\t\\t\\t\\t다음<img src=\"https://ssl.pstatic.net/static/n/cmn/bu_pgarR.gif\" width=\"3\" height=\"5\" alt=\"\" border=\"0\">\\n\\t\\t\\t\\t</a>\\n\\t\\t\\t\\t</td>\\n\\n\\t\\t\\t\\t\\t<td class=\"pgRR\">\\n\\t\\t\\t\\t<a href=\"/sise/sise_market_sum.nhn?sosok=1&amp;page=30\"  >맨뒤\\n\\t\\t\\t\\t<img src=\"https://ssl.pstatic.net/static/n/cmn/bu_pgarRR.gif\" width=\"8\" height=\"5\" alt=\"\" border=\"0\">\\n\\t\\t\\t\\t</a>\\n\\t\\t\\t\\t</td>\\n\\n\\t\\t\\t\\t\\t\\n\\t\\t\\t\\t</tr>\\n\\t\\t\\t\\t</table>\\n\\t\\t\\t</div>\\n\\t\\t\\t<!-- // 종목 -->\\n\\t\\t\\t<!-- //컨텐츠 -->\\n\\t\\t</div>\\n\\t</div>\\n\\n\\n\\n\\n\\n\\n\\t\\n\\n\\n\\n\\n\\n\\n\\t<div id=\"footer\">\\n\\t\\t<ul>\\n\\t\\t\\t<li class=\"first\">\\n\\t\\t\\t\\t<a href=\"https://www.naver.com/rules/service.html\" onClick=\"clickcr(this, \\'fot.service\\', \\'\\', \\'\\', event);\" target=\"_blank\">이용약관</a>\\n\\t\\t\\t</li>\\n\\t\\t\\t<li>\\n\\t\\t\\t\\t<a href=\"https://finance.naver.com/rules.nhn\" onClick=\"clickcr(this, \\'fot.policy\\', \\'\\', \\'\\', event);\" target=\"_blank\">금융게시판 운영원칙</a>\\n\\t\\t\\t</li>\\n\\t\\t\\t<li>\\n\\t\\t\\t\\t<a href=\"https://www.naver.com/rules/privacy.html\" onClick=\"clickcr(this, \\'fot.privacy\\', \\'\\', \\'\\', event);\" target=\"_blank\"><strong>개인정보처리방침</strong></a>\\n\\t\\t\\t</li>\\n\\t\\t\\t<li>\\n\\t\\t\\t\\t<a href=\"https://www.naver.com/rules/disclaimer.html\" onClick=\"clickcr(this, \\'fot.limit\\', \\'\\', \\'\\', event);\" target=\"_blank\">책임의 한계와 법적고지</a>\\n\\t\\t\\t</li>\\n\\t\\t\\t<li>\\n\\t\\t\\t\\t<a href=\"https://help.naver.com/support/alias/contents2/finance/finance_1.naver\" onclick=\"clickcr(this, \\'fot.help\\', \\'\\', \\'\\', event);\" target=\"_blank\">금융 고객센터</a>\\n\\t\\t\\t</li>\\n\\t\\t</ul>\\n\\t\\t<p class=\"desc\">네이버(주)가 제공하는 금융 정보는 각 콘텐츠 제공업체<a href=\"javascript:;\" onclick=\"togglePanelFooter(\\'footerPanel0\\');\" class=\"desc_help\"><img src=\"https://ssl.pstatic.net/static/nfinance/2018/06/29/btn_help.png\" width=\"17\" height=\"17\" alt=\"제공업체 상세설명\"></a>로부터 받는 투자 참고사항이며, 오류가 발생하거나 지연될 수 있습니다.<br>네이버(주)와 콘텐츠 제공업체는 제공된 정보에 의한 투자 결과에 법적인 책임을 지지 않습니다. 게시된 정보는 무단으로 배포할 수 없습니다.</p>\\n\\t\\t<div id=\"footerPanel0\" class=\"provider_layer\" style=\"display:none\" tabindex=\"0\" onblur=\"hidePannel(\\'footerPanel0\\')\">\\n\\t\\t\\t<strong class=\"provider_layer__tit\">콘텐츠 제공업체</strong>\\n\\t\\t\\t<div class=\"provider_layer__txt\">\\n\\t\\t\\t\\t<p><span>코스콤 : </span>실시간 주가정보 및 국내시세정보</p>\\n\\t\\t\\t\\t<p><span>에프앤가이드 : </span>기업 및 재무정보</p>\\n\\t\\t\\t\\t<p><span>KG제로인 : </span>해외 시세, 시장지표 및 펀드 정보</p>\\n\\t\\t\\t\\t<p><span>한국예탁결제원 : </span>주주총회일 및 전자투표 정보</p>\\n\\t\\t\\t\\t<p><span>인포스탁 : </span>국내 테마 정보</p>\\n\\t\\t\\t</div>\\n\\t\\t\\t<span class=\"arrow\"></span>\\n\\t\\t</div>\\n\\t\\t<address>\\n\\t\\t\\t<a href=\"https://www.navercorp.com/\" target=\"_blank\" class=\"logo\" onClick=\"clickcr(this, \\'fot.nhn\\', \\'\\', \\'\\', event);\"><img src=\"https://ssl.pstatic.net/static/nfinance/2019/02/22/ci_naver.png\" width=\"58\" height=\"11\" alt=\"NAVER\" /></a>\\n\\t\\t\\t<em>Copyright &copy;</em>\\n\\t\\t\\t<a href=\"https://www.navercorp.com/\" target=\"_blank\" onClick=\"clickcr(this, \\'fot.nhn\\', \\'\\', \\'\\', event);\">NAVER Corp.</a>\\n\\t\\t\\t<span>All Rights Reserved.</span>\\n\\t\\t</address>\\n\\t\\t\\n\\t\\t\\n\\t\\t\\n\\t</div>\\n\\n\\n\\n<script type=\"text/javascript\">\\nfunction isVisible(obj) {\\n    if (obj == document) return true\\n \\n    if (!obj) return false\\n    if (!obj.parentNode) return false\\n    if (obj.style) {\\n        if (obj.style.display == \\'none\\') return false\\n        if (obj.style.visibility == \\'hidden\\') return false\\n    }\\n \\n    if (window.getComputedStyle) {\\n        var style = window.getComputedStyle(obj, \"\")\\n        if (style.display == \\'none\\') return false\\n        if (style.visibility == \\'hidden\\') return false\\n    }\\n \\n    var style = obj.currentStyle\\n    if (style) {\\n        if (style[\\'display\\'] == \\'none\\') return false\\n        if (style[\\'visibility\\'] == \\'hidden\\') return false\\n    }\\n \\n    return isVisible(obj.parentNode)\\n}\\n\\nfunction isChildOf(myobj, containerObj) {\\n\\twhile(myobj != undefined) {\\n\\t\\tif (myobj == document.body) {\\n\\t\\t\\tbreak;\\n\\t\\t} \\n\\t\\tif (myobj == containerObj) {\\n\\t\\t\\treturn true;\\n\\t\\t}\\n\\t\\tmyobj = myobj.parentElement;\\n\\t}\\n\\treturn false;\\t\\n}\\n\\nfunction gnbLayerClose(e){\\n\\tvar target = e.target ? e.target : e.srcElement;\\n\\tif (isVisible(document.getElementById(\\'gnb_service_lyr\\')) || isVisible(document.getElementById(\\'gnb_notice_lyr\\')) ||isVisible(document.getElementById(\\'gnb_my_lyr\\')) ) {\\n\\t\\tif (!isChildOf(target, document.getElementById(\\'gnb\\'))) {\\n\\t\\t\\tgnbAllLayerClose();\\n\\t\\t}\\n\\t}\\t\\n}\\n\\nvar isIE = (navigator.userAgent.toLowerCase().indexOf(\"msie\")!=-1 && window.document.all) ? true:false;\\nif (isIE) {\\n\\tdocument.attachEvent(\\'onmousedown\\', gnbLayerClose);\\n} else {\\n\\twindow.addEventListener(\\'mousedown\\', gnbLayerClose);\\n}\\n\\nfunction showPannel(layerId){\\n    var layer = jindo.$(layerId);\\n    layer.style.display=\\'block\\';\\n\\n    if (layerId == \"summary_lyr\") {\\n        var layerHeight = jindo.$Element(layer).height();\\n        jindo.$Element(\"summary_ifr\").height(layerHeight);\\n    }\\n}\\n\\nfunction hidePannel(layerId){\\n    var layer = jindo.$(layerId);\\n    layer.style.display=\\'none\\';\\n}\\n\\nfunction togglePanelFooter(layerId) {\\n    var elTargetLayer = jindo.$Element(jindo.$$.getSingle(\"#\" + layerId));\\n\\n    if (elTargetLayer != null) {\\n        if (elTargetLayer.visible()) {\\n            hidePannel(layerId);\\n        } else {\\n            showPannel(layerId);\\n        }\\n    }\\n}\\n\\n// add data-useragent\\ndocument.documentElement.setAttribute(\\'data-useragent\\',navigator.userAgent);\\n</script>\\n</div>\\n</body>\\n</html>\\n'"
      ]
     },
     "metadata": {},
     "execution_count": 58
    }
   ]
  },
  {
   "cell_type": "code",
   "execution_count": 110,
   "metadata": {},
   "outputs": [],
   "source": [
    "soup2 = BeautifulSoup(r2.text, 'lxml')\n",
    "# table\n",
    "table_html = soup2.select_one('table.type_2')\n",
    "soup2\n",
    "with open('test.txt', 'w') as f:\n",
    "    f.write(str(soup2))"
   ]
  },
  {
   "cell_type": "code",
   "execution_count": 261,
   "metadata": {},
   "outputs": [
    {
     "output_type": "execute_result",
     "data": {
      "text/plain": [
       "['N',\n",
       " '종목명',\n",
       " '현재가',\n",
       " '액면가',\n",
       " '시가총액',\n",
       " '매출액',\n",
       " '자산총계',\n",
       " '부채총계',\n",
       " 'PER',\n",
       " 'ROE',\n",
       " 'PBR',\n",
       " '유보율',\n",
       " '토론실']"
      ]
     },
     "metadata": {},
     "execution_count": 261
    }
   ],
   "source": [
    "# column\n",
    "header_data = [item.get_text().strip() for item in table_html.find('thead').find('tr').find_all('th') if item.get_text().strip() not in ['전일비', '등락률']]\n",
    "header_data"
   ]
  },
  {
   "cell_type": "code",
   "execution_count": 262,
   "metadata": {},
   "outputs": [],
   "source": [
    "del header_data[-1]"
   ]
  },
  {
   "cell_type": "code",
   "execution_count": 263,
   "metadata": {},
   "outputs": [],
   "source": [
    "# 첫 줄은 필요없는 줄\n",
    "td_items = [tr_item.find_all('td') for tr_item in table_html.find('tbody').find_all('tr')][1:]"
   ]
  },
  {
   "cell_type": "code",
   "execution_count": 342,
   "metadata": {
    "tags": []
   },
   "outputs": [],
   "source": [
    "inner_data = []\n",
    "for item in td_items:\n",
    "    for i in item[0:len(item)-1]:\n",
    "        if i.find('a') or len(i.get('class', [])) > 0:\n",
    "            child = i.findChildren()\n",
    "            if len(child) >= 1:\n",
    "                if child[0].get('href'):\n",
    "                    inner_data.append(child[0].get_text().strip())\n",
    "            else:\n",
    "                inner_data.append(i.get_text().strip().replace(',', ''))"
   ]
  },
  {
   "cell_type": "code",
   "execution_count": null,
   "metadata": {},
   "outputs": [],
   "source": []
  },
  {
   "cell_type": "code",
   "execution_count": 252,
   "metadata": {},
   "outputs": [],
   "source": [
    "no_data = [i.get_text().strip() for item in td_items for i in item if len(i.get('class', [])) > 0 and ('no' in i.get('class', []))] # 번호"
   ]
  },
  {
   "cell_type": "code",
   "execution_count": 253,
   "metadata": {},
   "outputs": [],
   "source": [
    "number_data = np.array(inner_data)"
   ]
  },
  {
   "cell_type": "code",
   "execution_count": 254,
   "metadata": {},
   "outputs": [],
   "source": [
    "number_data.resize(len(no_data), len(header_data))"
   ]
  },
  {
   "cell_type": "code",
   "execution_count": 255,
   "metadata": {},
   "outputs": [],
   "source": [
    "df = pd.DataFrame(data=number_data, columns=header_data)"
   ]
  },
  {
   "cell_type": "code",
   "execution_count": 2,
   "metadata": {},
   "outputs": [],
   "source": [
    "pd_result = pd.read_excel('result.xlsx')"
   ]
  },
  {
   "cell_type": "code",
   "execution_count": 3,
   "metadata": {},
   "outputs": [],
   "source": [
    "pd_result = pd_result.dropna()"
   ]
  },
  {
   "cell_type": "code",
   "execution_count": 4,
   "metadata": {},
   "outputs": [
    {
     "output_type": "execute_result",
     "data": {
      "text/plain": [
       "                 N           현재가          액면가         상장주식수          시가총액  \\\n",
       "count   775.000000  7.750000e+02   775.000000  7.750000e+02  7.750000e+02   \n",
       "mean    480.409032  4.750273e+04  2089.290323  6.994901e+04  2.591846e+04   \n",
       "std     296.477658  1.089494e+05  2074.784354  2.390911e+05  1.932658e+05   \n",
       "min       1.000000  2.580000e+02     0.000000  4.080000e+02  1.940000e+02   \n",
       "25%     225.500000  4.430000e+03   500.000000  1.323850e+04  1.280500e+03   \n",
       "50%     469.000000  1.220000e+04   500.000000  2.870500e+04  2.947000e+03   \n",
       "75%     723.500000  4.292500e+04  5000.000000  6.299350e+04  9.454000e+03   \n",
       "max    1177.000000  1.570000e+06  5000.000000  5.969783e+06  5.062376e+06   \n",
       "\n",
       "                매출액          자산총계          부채총계           PER          ROE  \\\n",
       "count  7.750000e+02  7.750000e+02  7.750000e+02    775.000000   775.000000   \n",
       "mean   3.227523e+04  9.432642e+04  7.076774e+04     43.187342    -2.941329   \n",
       "std    1.198899e+05  4.713243e+05  4.092072e+05    823.692149    53.104103   \n",
       "min    2.200000e+01  2.650000e+02  0.000000e+00  -6170.000000 -1165.400000   \n",
       "25%    1.714000e+03  2.529000e+03  8.730000e+02     -2.565000    -1.780000   \n",
       "50%    4.786000e+03  6.495000e+03  2.776000e+03     10.150000     3.840000   \n",
       "75%    1.659050e+04  2.355250e+04  1.180800e+04     22.800000     8.935000   \n",
       "max    2.368070e+06  6.106722e+06  5.673107e+06  21361.100000    61.960000   \n",
       "\n",
       "              PBR            유보율  \n",
       "count  775.000000     775.000000  \n",
       "mean     1.715252    3167.330581  \n",
       "std      4.332177    8739.029755  \n",
       "min     -4.710000   -1857.500000  \n",
       "25%      0.580000     282.100000  \n",
       "50%      0.940000    1052.000000  \n",
       "75%      1.865000    2684.800000  \n",
       "max    107.420000  127125.600000  "
      ],
      "text/html": "<div>\n<style scoped>\n    .dataframe tbody tr th:only-of-type {\n        vertical-align: middle;\n    }\n\n    .dataframe tbody tr th {\n        vertical-align: top;\n    }\n\n    .dataframe thead th {\n        text-align: right;\n    }\n</style>\n<table border=\"1\" class=\"dataframe\">\n  <thead>\n    <tr style=\"text-align: right;\">\n      <th></th>\n      <th>N</th>\n      <th>현재가</th>\n      <th>액면가</th>\n      <th>상장주식수</th>\n      <th>시가총액</th>\n      <th>매출액</th>\n      <th>자산총계</th>\n      <th>부채총계</th>\n      <th>PER</th>\n      <th>ROE</th>\n      <th>PBR</th>\n      <th>유보율</th>\n    </tr>\n  </thead>\n  <tbody>\n    <tr>\n      <th>count</th>\n      <td>775.000000</td>\n      <td>7.750000e+02</td>\n      <td>775.000000</td>\n      <td>7.750000e+02</td>\n      <td>7.750000e+02</td>\n      <td>7.750000e+02</td>\n      <td>7.750000e+02</td>\n      <td>7.750000e+02</td>\n      <td>775.000000</td>\n      <td>775.000000</td>\n      <td>775.000000</td>\n      <td>775.000000</td>\n    </tr>\n    <tr>\n      <th>mean</th>\n      <td>480.409032</td>\n      <td>4.750273e+04</td>\n      <td>2089.290323</td>\n      <td>6.994901e+04</td>\n      <td>2.591846e+04</td>\n      <td>3.227523e+04</td>\n      <td>9.432642e+04</td>\n      <td>7.076774e+04</td>\n      <td>43.187342</td>\n      <td>-2.941329</td>\n      <td>1.715252</td>\n      <td>3167.330581</td>\n    </tr>\n    <tr>\n      <th>std</th>\n      <td>296.477658</td>\n      <td>1.089494e+05</td>\n      <td>2074.784354</td>\n      <td>2.390911e+05</td>\n      <td>1.932658e+05</td>\n      <td>1.198899e+05</td>\n      <td>4.713243e+05</td>\n      <td>4.092072e+05</td>\n      <td>823.692149</td>\n      <td>53.104103</td>\n      <td>4.332177</td>\n      <td>8739.029755</td>\n    </tr>\n    <tr>\n      <th>min</th>\n      <td>1.000000</td>\n      <td>2.580000e+02</td>\n      <td>0.000000</td>\n      <td>4.080000e+02</td>\n      <td>1.940000e+02</td>\n      <td>2.200000e+01</td>\n      <td>2.650000e+02</td>\n      <td>0.000000e+00</td>\n      <td>-6170.000000</td>\n      <td>-1165.400000</td>\n      <td>-4.710000</td>\n      <td>-1857.500000</td>\n    </tr>\n    <tr>\n      <th>25%</th>\n      <td>225.500000</td>\n      <td>4.430000e+03</td>\n      <td>500.000000</td>\n      <td>1.323850e+04</td>\n      <td>1.280500e+03</td>\n      <td>1.714000e+03</td>\n      <td>2.529000e+03</td>\n      <td>8.730000e+02</td>\n      <td>-2.565000</td>\n      <td>-1.780000</td>\n      <td>0.580000</td>\n      <td>282.100000</td>\n    </tr>\n    <tr>\n      <th>50%</th>\n      <td>469.000000</td>\n      <td>1.220000e+04</td>\n      <td>500.000000</td>\n      <td>2.870500e+04</td>\n      <td>2.947000e+03</td>\n      <td>4.786000e+03</td>\n      <td>6.495000e+03</td>\n      <td>2.776000e+03</td>\n      <td>10.150000</td>\n      <td>3.840000</td>\n      <td>0.940000</td>\n      <td>1052.000000</td>\n    </tr>\n    <tr>\n      <th>75%</th>\n      <td>723.500000</td>\n      <td>4.292500e+04</td>\n      <td>5000.000000</td>\n      <td>6.299350e+04</td>\n      <td>9.454000e+03</td>\n      <td>1.659050e+04</td>\n      <td>2.355250e+04</td>\n      <td>1.180800e+04</td>\n      <td>22.800000</td>\n      <td>8.935000</td>\n      <td>1.865000</td>\n      <td>2684.800000</td>\n    </tr>\n    <tr>\n      <th>max</th>\n      <td>1177.000000</td>\n      <td>1.570000e+06</td>\n      <td>5000.000000</td>\n      <td>5.969783e+06</td>\n      <td>5.062376e+06</td>\n      <td>2.368070e+06</td>\n      <td>6.106722e+06</td>\n      <td>5.673107e+06</td>\n      <td>21361.100000</td>\n      <td>61.960000</td>\n      <td>107.420000</td>\n      <td>127125.600000</td>\n    </tr>\n  </tbody>\n</table>\n</div>"
     },
     "metadata": {},
     "execution_count": 4
    }
   ],
   "source": [
    "pd_result.describe()"
   ]
  },
  {
   "cell_type": "code",
   "execution_count": 5,
   "metadata": {},
   "outputs": [],
   "source": [
    "pd_result['BPS'] = pd_result['현재가'] / pd_result['PBR']"
   ]
  },
  {
   "cell_type": "code",
   "execution_count": 6,
   "metadata": {},
   "outputs": [],
   "source": [
    "pd_result['부채비율'] = (pd_result['부채총계']/pd_result['자산총계']) * 100"
   ]
  },
  {
   "cell_type": "code",
   "execution_count": 7,
   "metadata": {},
   "outputs": [
    {
     "output_type": "execute_result",
     "data": {
      "text/plain": [
       "0    27.043375\n",
       "1    27.067225\n",
       "2    51.481116\n",
       "4    54.600388\n",
       "5    63.533262\n",
       "Name: 부채비율, dtype: float64"
      ]
     },
     "metadata": {},
     "execution_count": 7
    }
   ],
   "source": [
    "pd_result['부채비율'].head()"
   ]
  },
  {
   "cell_type": "code",
   "execution_count": 8,
   "metadata": {},
   "outputs": [
    {
     "output_type": "execute_result",
     "data": {
      "text/plain": [
       "0     39441.860465\n",
       "1     75806.451613\n",
       "2     49934.210526\n",
       "4    235227.272727\n",
       "5    268390.804598\n",
       "Name: BPS, dtype: float64"
      ]
     },
     "metadata": {},
     "execution_count": 8
    }
   ],
   "source": [
    "pd_result['BPS'].head()"
   ]
  },
  {
   "cell_type": "code",
   "execution_count": 9,
   "metadata": {},
   "outputs": [
    {
     "output_type": "execute_result",
     "data": {
      "text/plain": [
       "0        9.99\n",
       "1        9.53\n",
       "2       15.22\n",
       "4        2.93\n",
       "5        2.04\n",
       "        ...  \n",
       "1120    -7.13\n",
       "1137   -30.21\n",
       "1158    -4.28\n",
       "1172   -43.44\n",
       "1176   -15.33\n",
       "Name: ROE, Length: 775, dtype: float64"
      ]
     },
     "metadata": {},
     "execution_count": 9
    }
   ],
   "source": [
    "pd_result['ROE']"
   ]
  },
  {
   "cell_type": "code",
   "execution_count": 10,
   "metadata": {},
   "outputs": [],
   "source": [
    "pd_result['PER x PBR'] = pd_result['PER'] * pd_result['PBR']"
   ]
  },
  {
   "cell_type": "code",
   "execution_count": 11,
   "metadata": {},
   "outputs": [
    {
     "output_type": "execute_result",
     "data": {
      "text/plain": [
       "0     47.4720\n",
       "1     40.1574\n",
       "2    473.0240\n",
       "4    445.0336\n",
       "5     39.4980\n",
       "Name: PER x PBR, dtype: float64"
      ]
     },
     "metadata": {},
     "execution_count": 11
    }
   ],
   "source": [
    "pd_result['PER x PBR'].head()"
   ]
  },
  {
   "cell_type": "code",
   "execution_count": 12,
   "metadata": {},
   "outputs": [],
   "source": [
    "pd_result['1/PER'] = 1/pd_result['PER'].astype(float)"
   ]
  },
  {
   "cell_type": "code",
   "execution_count": 13,
   "metadata": {},
   "outputs": [],
   "source": [
    "pd_result['BPR'] = 1/pd_result['PBR'].astype(float)"
   ]
  },
  {
   "cell_type": "code",
   "execution_count": 15,
   "metadata": {},
   "outputs": [],
   "source": [
    "pd_result['RANK_BPR'] = pd_result['BPR'].rank(method='max', ascending=False)"
   ]
  },
  {
   "cell_type": "code",
   "execution_count": 16,
   "metadata": {},
   "outputs": [],
   "source": [
    "pd_result['RANK_1/PER'] = pd_result['1/PER'].rank(method='max', ascending=False)"
   ]
  },
  {
   "cell_type": "code",
   "execution_count": 19,
   "metadata": {},
   "outputs": [],
   "source": [
    "pd_result['RANK_VALUE'] = (pd_result['RANK_BPR'] + pd_result['RANK_1/PER']) / 2"
   ]
  },
  {
   "cell_type": "code",
   "execution_count": 20,
   "metadata": {},
   "outputs": [],
   "source": [
    "pd_result = pd_result.sort_values(by=['RANK_VALUE'])"
   ]
  },
  {
   "cell_type": "code",
   "execution_count": 21,
   "metadata": {},
   "outputs": [
    {
     "output_type": "execute_result",
     "data": {
      "text/plain": [
       "       N      종목명     현재가   액면가   상장주식수   시가총액      매출액       자산총계       부채총계  \\\n",
       "130  131  BNK금융지주    6570  5000  325935  21414  52124.0  1141569.0  1045306.0   \n",
       "865  866     세원정공    8090   500   10000    809   1569.0     6128.0      948.0   \n",
       "645  646    한솔홀딩스    3835  1000   42009   1611   3595.0     6271.0     1007.0   \n",
       "501  502   DB금융투자    6110  5000   42446   2593  15903.0    99596.0    90375.0   \n",
       "467  468       E1   43150  5000    6860   2960  39276.0    37314.0    24880.0   \n",
       "..   ...      ...     ...   ...     ...    ...      ...        ...        ...   \n",
       "462  463     이아이디     387   200  773343   2993   1652.0     2259.0      786.0   \n",
       "369  370       덕성   25950   500   15680   4069   1177.0     1050.0      388.0   \n",
       "646  647  한국화장품제조   35250   500    4532   1598    620.0      777.0      334.0   \n",
       "77    78     한미약품  317000  2500   12078  38288  10759.0    18820.0    10501.0   \n",
       "75    76   한미사이언스   57500   500   67305  38700   8574.0     9232.0     2645.0   \n",
       "\n",
       "        PER  ...   PBR     유보율            BPS       부채비율  PER x PBR     1/PER  \\\n",
       "130    4.12  ...  0.24   491.1   27375.000000  91.567483     0.9888  0.242718   \n",
       "865    4.90  ...  0.19  8152.6   42578.947368  15.469974     0.9310  0.204082   \n",
       "645    2.36  ...  0.32  1076.9   11984.375000  16.058045     0.7552  0.423729   \n",
       "501    2.69  ...  0.32   338.0   19093.750000  90.741596     0.8608  0.371747   \n",
       "467    4.91  ...  0.21  3562.2  205476.190476  66.677387     1.0311  0.203666   \n",
       "..      ...  ...   ...     ...            ...        ...        ...       ...   \n",
       "462  -10.18  ...  1.95     9.9     198.461538  34.794157   -19.8510 -0.098232   \n",
       "369  122.41  ...  6.07   733.5    4275.123558  36.952381   743.0287  0.008169   \n",
       "646  -39.74  ...  2.89  1891.3   12197.231834  42.985843  -114.8486 -0.025164   \n",
       "77   320.20  ...  5.21  2526.0   60844.529750  55.797024  1668.2420  0.003123   \n",
       "75   171.13  ...  5.76  2059.3    9982.638889  28.650347   985.7088  0.005844   \n",
       "\n",
       "          BPR  RANK_BPR  RANK_1/PER  RANK_VALUE  \n",
       "130  4.166667      12.0        27.0        19.5  \n",
       "865  5.263158       4.0        45.0        24.5  \n",
       "645  3.125000      42.0         8.0        25.0  \n",
       "501  3.125000      42.0        10.0        26.0  \n",
       "467  4.761905       7.0        46.0        26.5  \n",
       "..        ...       ...         ...         ...  \n",
       "462  0.512821     591.0       679.0       635.0  \n",
       "369  0.164745     746.0       525.0       635.5  \n",
       "646  0.346021     675.0       596.0       635.5  \n",
       "77   0.191939     735.0       539.0       637.0  \n",
       "75   0.173611     743.0       531.0       637.0  \n",
       "\n",
       "[700 rows x 21 columns]"
      ],
      "text/html": "<div>\n<style scoped>\n    .dataframe tbody tr th:only-of-type {\n        vertical-align: middle;\n    }\n\n    .dataframe tbody tr th {\n        vertical-align: top;\n    }\n\n    .dataframe thead th {\n        text-align: right;\n    }\n</style>\n<table border=\"1\" class=\"dataframe\">\n  <thead>\n    <tr style=\"text-align: right;\">\n      <th></th>\n      <th>N</th>\n      <th>종목명</th>\n      <th>현재가</th>\n      <th>액면가</th>\n      <th>상장주식수</th>\n      <th>시가총액</th>\n      <th>매출액</th>\n      <th>자산총계</th>\n      <th>부채총계</th>\n      <th>PER</th>\n      <th>...</th>\n      <th>PBR</th>\n      <th>유보율</th>\n      <th>BPS</th>\n      <th>부채비율</th>\n      <th>PER x PBR</th>\n      <th>1/PER</th>\n      <th>BPR</th>\n      <th>RANK_BPR</th>\n      <th>RANK_1/PER</th>\n      <th>RANK_VALUE</th>\n    </tr>\n  </thead>\n  <tbody>\n    <tr>\n      <th>130</th>\n      <td>131</td>\n      <td>BNK금융지주</td>\n      <td>6570</td>\n      <td>5000</td>\n      <td>325935</td>\n      <td>21414</td>\n      <td>52124.0</td>\n      <td>1141569.0</td>\n      <td>1045306.0</td>\n      <td>4.12</td>\n      <td>...</td>\n      <td>0.24</td>\n      <td>491.1</td>\n      <td>27375.000000</td>\n      <td>91.567483</td>\n      <td>0.9888</td>\n      <td>0.242718</td>\n      <td>4.166667</td>\n      <td>12.0</td>\n      <td>27.0</td>\n      <td>19.5</td>\n    </tr>\n    <tr>\n      <th>865</th>\n      <td>866</td>\n      <td>세원정공</td>\n      <td>8090</td>\n      <td>500</td>\n      <td>10000</td>\n      <td>809</td>\n      <td>1569.0</td>\n      <td>6128.0</td>\n      <td>948.0</td>\n      <td>4.90</td>\n      <td>...</td>\n      <td>0.19</td>\n      <td>8152.6</td>\n      <td>42578.947368</td>\n      <td>15.469974</td>\n      <td>0.9310</td>\n      <td>0.204082</td>\n      <td>5.263158</td>\n      <td>4.0</td>\n      <td>45.0</td>\n      <td>24.5</td>\n    </tr>\n    <tr>\n      <th>645</th>\n      <td>646</td>\n      <td>한솔홀딩스</td>\n      <td>3835</td>\n      <td>1000</td>\n      <td>42009</td>\n      <td>1611</td>\n      <td>3595.0</td>\n      <td>6271.0</td>\n      <td>1007.0</td>\n      <td>2.36</td>\n      <td>...</td>\n      <td>0.32</td>\n      <td>1076.9</td>\n      <td>11984.375000</td>\n      <td>16.058045</td>\n      <td>0.7552</td>\n      <td>0.423729</td>\n      <td>3.125000</td>\n      <td>42.0</td>\n      <td>8.0</td>\n      <td>25.0</td>\n    </tr>\n    <tr>\n      <th>501</th>\n      <td>502</td>\n      <td>DB금융투자</td>\n      <td>6110</td>\n      <td>5000</td>\n      <td>42446</td>\n      <td>2593</td>\n      <td>15903.0</td>\n      <td>99596.0</td>\n      <td>90375.0</td>\n      <td>2.69</td>\n      <td>...</td>\n      <td>0.32</td>\n      <td>338.0</td>\n      <td>19093.750000</td>\n      <td>90.741596</td>\n      <td>0.8608</td>\n      <td>0.371747</td>\n      <td>3.125000</td>\n      <td>42.0</td>\n      <td>10.0</td>\n      <td>26.0</td>\n    </tr>\n    <tr>\n      <th>467</th>\n      <td>468</td>\n      <td>E1</td>\n      <td>43150</td>\n      <td>5000</td>\n      <td>6860</td>\n      <td>2960</td>\n      <td>39276.0</td>\n      <td>37314.0</td>\n      <td>24880.0</td>\n      <td>4.91</td>\n      <td>...</td>\n      <td>0.21</td>\n      <td>3562.2</td>\n      <td>205476.190476</td>\n      <td>66.677387</td>\n      <td>1.0311</td>\n      <td>0.203666</td>\n      <td>4.761905</td>\n      <td>7.0</td>\n      <td>46.0</td>\n      <td>26.5</td>\n    </tr>\n    <tr>\n      <th>...</th>\n      <td>...</td>\n      <td>...</td>\n      <td>...</td>\n      <td>...</td>\n      <td>...</td>\n      <td>...</td>\n      <td>...</td>\n      <td>...</td>\n      <td>...</td>\n      <td>...</td>\n      <td>...</td>\n      <td>...</td>\n      <td>...</td>\n      <td>...</td>\n      <td>...</td>\n      <td>...</td>\n      <td>...</td>\n      <td>...</td>\n      <td>...</td>\n      <td>...</td>\n      <td>...</td>\n    </tr>\n    <tr>\n      <th>462</th>\n      <td>463</td>\n      <td>이아이디</td>\n      <td>387</td>\n      <td>200</td>\n      <td>773343</td>\n      <td>2993</td>\n      <td>1652.0</td>\n      <td>2259.0</td>\n      <td>786.0</td>\n      <td>-10.18</td>\n      <td>...</td>\n      <td>1.95</td>\n      <td>9.9</td>\n      <td>198.461538</td>\n      <td>34.794157</td>\n      <td>-19.8510</td>\n      <td>-0.098232</td>\n      <td>0.512821</td>\n      <td>591.0</td>\n      <td>679.0</td>\n      <td>635.0</td>\n    </tr>\n    <tr>\n      <th>369</th>\n      <td>370</td>\n      <td>덕성</td>\n      <td>25950</td>\n      <td>500</td>\n      <td>15680</td>\n      <td>4069</td>\n      <td>1177.0</td>\n      <td>1050.0</td>\n      <td>388.0</td>\n      <td>122.41</td>\n      <td>...</td>\n      <td>6.07</td>\n      <td>733.5</td>\n      <td>4275.123558</td>\n      <td>36.952381</td>\n      <td>743.0287</td>\n      <td>0.008169</td>\n      <td>0.164745</td>\n      <td>746.0</td>\n      <td>525.0</td>\n      <td>635.5</td>\n    </tr>\n    <tr>\n      <th>646</th>\n      <td>647</td>\n      <td>한국화장품제조</td>\n      <td>35250</td>\n      <td>500</td>\n      <td>4532</td>\n      <td>1598</td>\n      <td>620.0</td>\n      <td>777.0</td>\n      <td>334.0</td>\n      <td>-39.74</td>\n      <td>...</td>\n      <td>2.89</td>\n      <td>1891.3</td>\n      <td>12197.231834</td>\n      <td>42.985843</td>\n      <td>-114.8486</td>\n      <td>-0.025164</td>\n      <td>0.346021</td>\n      <td>675.0</td>\n      <td>596.0</td>\n      <td>635.5</td>\n    </tr>\n    <tr>\n      <th>77</th>\n      <td>78</td>\n      <td>한미약품</td>\n      <td>317000</td>\n      <td>2500</td>\n      <td>12078</td>\n      <td>38288</td>\n      <td>10759.0</td>\n      <td>18820.0</td>\n      <td>10501.0</td>\n      <td>320.20</td>\n      <td>...</td>\n      <td>5.21</td>\n      <td>2526.0</td>\n      <td>60844.529750</td>\n      <td>55.797024</td>\n      <td>1668.2420</td>\n      <td>0.003123</td>\n      <td>0.191939</td>\n      <td>735.0</td>\n      <td>539.0</td>\n      <td>637.0</td>\n    </tr>\n    <tr>\n      <th>75</th>\n      <td>76</td>\n      <td>한미사이언스</td>\n      <td>57500</td>\n      <td>500</td>\n      <td>67305</td>\n      <td>38700</td>\n      <td>8574.0</td>\n      <td>9232.0</td>\n      <td>2645.0</td>\n      <td>171.13</td>\n      <td>...</td>\n      <td>5.76</td>\n      <td>2059.3</td>\n      <td>9982.638889</td>\n      <td>28.650347</td>\n      <td>985.7088</td>\n      <td>0.005844</td>\n      <td>0.173611</td>\n      <td>743.0</td>\n      <td>531.0</td>\n      <td>637.0</td>\n    </tr>\n  </tbody>\n</table>\n<p>700 rows × 21 columns</p>\n</div>"
     },
     "metadata": {},
     "execution_count": 21
    }
   ],
   "source": [
    "pd_result.loc[:75]"
   ]
  },
  {
   "cell_type": "code",
   "execution_count": 430,
   "metadata": {},
   "outputs": [],
   "source": [
    "condition_result = pd_result[(pd_result['PER'] <= 10.0) & (pd_result['PBR'] < 1.0) & (pd_result['ROE'] > 5.0) & (pd_result['시가총액'] >= 10000.0 ) & (pd_result['부채비율'] <= 100.0) & (pd_result['BPS'] > pd_result['현재가'])]"
   ]
  },
  {
   "cell_type": "code",
   "execution_count": 431,
   "metadata": {},
   "outputs": [
    {
     "output_type": "execute_result",
     "data": {
      "text/plain": [
       "       N        종목명     현재가   액면가   상장주식수    시가총액       매출액       자산총계  \\\n",
       "17    18       KB금융   53900  5000  415808  224120  556802.0  6106722.0   \n",
       "21    22       신한지주   36350  5000  516600  187784  290007.0  6052341.0   \n",
       "28    29     하나금융지주   41150  5000  300242  123550  482159.0  4603133.0   \n",
       "46    47     우리금융지주   10000  5000  722268   72227  286376.0  3990810.0   \n",
       "49    50       기업은행    9040  5000  738664   66775  185746.0  3616162.0   \n",
       "52    53     미래에셋대우    9710  5000  635316   61689  168358.0  1309469.0   \n",
       "59    60     한국금융지주   89900  5000   55726   50098  165117.0   704377.0   \n",
       "74    75       삼성카드   33900  5000  115859   39276   32934.0   220382.0   \n",
       "85    86       삼성증권   39350  5000   89300   35140   66562.0   447296.0   \n",
       "91    92     DB손해보험   46500   500   70800   32922  186761.0   557778.0   \n",
       "93    94     NH투자증권   11550  5000  281409   32503  127678.0   627384.0   \n",
       "97    98      메리츠증권    4510  1000  675962   30486  119126.0   381099.0   \n",
       "111  112       대우건설    6460  5000  415623   26849   81367.0    93059.0   \n",
       "127  128      메리츠화재   19000   500  120625   22919  111326.0   253593.0   \n",
       "130  131    BNK금융지주    6570  5000  325935   21414   52124.0  1141569.0   \n",
       "132  133       현대해상   23600   500   89400   21098  177102.0   491941.0   \n",
       "133  134    메리츠금융지주   15700   500  134011   21040  284706.0   695644.0   \n",
       "139  140        KCC  229000  5000    8886   20350   50836.0   123476.0   \n",
       "143  144  HDC현대산업개발   28700  5000   65907   18915   36702.0    61161.0   \n",
       "154  155     한국앤컴퍼니   18000   500   93020   16744    8209.0    37925.0   \n",
       "156  157      코오롱인더   59500  5000   26979   16052   40361.0    50437.0   \n",
       "163  164     롯데정밀화학   57700  5000   25800   14887   12636.0    18746.0   \n",
       "170  171    DGB금융지주    8150  5000  169146   13785   58760.0   799718.0   \n",
       "181  182     JB금융지주    6360  5000  196983   12528   24084.0   475296.0   \n",
       "189  190       LG상사   30850  5000   38760   11957  112826.0    53959.0   \n",
       "190  191       다우기술   26550   500   44867   11912   47329.0   386222.0   \n",
       "193  194    SK디스커버리   61000  5000   19038   11613   45195.0    56216.0   \n",
       "211  212       코리안리    8460   500  120369   10183  113010.0   125199.0   \n",
       "\n",
       "          부채총계   PER    ROE   PBR      유보율            BPS       부채비율  \\\n",
       "17   5673107.0  6.49   8.53  0.49   2028.5  110000.000000  92.899382   \n",
       "21   5588772.0  5.39   8.20  0.44   1483.4   82613.636364  92.340666   \n",
       "28   4287130.0  4.68   8.96  0.39   2025.0  105512.820513  93.135045   \n",
       "46   3723552.0  5.52   5.87  0.31    640.0   32258.064516  93.303164   \n",
       "49   3364738.0  4.51   6.44  0.27    501.0   33481.481481  93.047214   \n",
       "52   1216007.0  9.51   8.94  0.68    136.8   14279.411765  92.862603   \n",
       "59    648054.0  6.41  16.27  0.94   1745.4   95638.297872  92.003856   \n",
       "74    151418.0  9.53   5.04  0.51   1087.4   66470.588235  68.707063   \n",
       "85    397803.0  7.47   8.15  0.68    979.5   57867.647059  88.935068   \n",
       "91    496287.0  5.92   6.92  0.42  17354.1  110714.285714  88.975722   \n",
       "93    569356.0  6.01  10.32  0.60    279.9   19250.000000  90.750800   \n",
       "97    340907.0  5.53  15.06  0.71    461.5    6352.112676  89.453659   \n",
       "111    66289.0  9.46  11.06  0.99     50.9    6525.252525  71.233304   \n",
       "127   226762.0  5.05  16.91  0.84   4429.9   22619.047619  89.419661   \n",
       "130  1045306.0  4.12   6.11  0.24    491.1   27375.000000  91.567483   \n",
       "132   443894.0  6.36   7.13  0.39  10749.4   60512.820513  90.233178   \n",
       "133   626871.0  4.38  16.06  0.62   9535.1   25322.580645  90.113765   \n",
       "139    71016.0  3.41  12.79  0.36  12809.9  636111.111111  57.514011   \n",
       "143    33731.0  7.98   8.85  0.69    733.1   41594.202899  55.151158   \n",
       "154     2920.0  9.88   5.08  0.49   7397.5   36734.693878   7.699407   \n",
       "156    27516.0  8.70   9.70  0.81   1459.8   73456.790123  54.555188   \n",
       "163     2249.0  7.49  12.65  0.89   1201.7   64831.460674  11.997226   \n",
       "170   741678.0  4.15   6.93  0.28    586.3   29107.142857  92.742442   \n",
       "181   437098.0  3.62  10.36  0.33    289.4   19272.727273  91.963324   \n",
       "189    36376.0  4.02  23.72  0.83    664.7   37168.674699  67.414148   \n",
       "190   353771.0  4.32  18.85  0.72   7109.1   36875.000000  91.597838   \n",
       "193    30053.0  4.66  14.71  0.64   2638.2   95312.500000  53.459869   \n",
       "211   100640.0  7.17   5.78  0.35   4203.4   24171.428571  80.384029   \n",
       "\n",
       "     PER x PBR  \n",
       "17      3.1801  \n",
       "21      2.3716  \n",
       "28      1.8252  \n",
       "46      1.7112  \n",
       "49      1.2177  \n",
       "52      6.4668  \n",
       "59      6.0254  \n",
       "74      4.8603  \n",
       "85      5.0796  \n",
       "91      2.4864  \n",
       "93      3.6060  \n",
       "97      3.9263  \n",
       "111     9.3654  \n",
       "127     4.2420  \n",
       "130     0.9888  \n",
       "132     2.4804  \n",
       "133     2.7156  \n",
       "139     1.2276  \n",
       "143     5.5062  \n",
       "154     4.8412  \n",
       "156     7.0470  \n",
       "163     6.6661  \n",
       "170     1.1620  \n",
       "181     1.1946  \n",
       "189     3.3366  \n",
       "190     3.1104  \n",
       "193     2.9824  \n",
       "211     2.5095  "
      ],
      "text/html": "<div>\n<style scoped>\n    .dataframe tbody tr th:only-of-type {\n        vertical-align: middle;\n    }\n\n    .dataframe tbody tr th {\n        vertical-align: top;\n    }\n\n    .dataframe thead th {\n        text-align: right;\n    }\n</style>\n<table border=\"1\" class=\"dataframe\">\n  <thead>\n    <tr style=\"text-align: right;\">\n      <th></th>\n      <th>N</th>\n      <th>종목명</th>\n      <th>현재가</th>\n      <th>액면가</th>\n      <th>상장주식수</th>\n      <th>시가총액</th>\n      <th>매출액</th>\n      <th>자산총계</th>\n      <th>부채총계</th>\n      <th>PER</th>\n      <th>ROE</th>\n      <th>PBR</th>\n      <th>유보율</th>\n      <th>BPS</th>\n      <th>부채비율</th>\n      <th>PER x PBR</th>\n    </tr>\n  </thead>\n  <tbody>\n    <tr>\n      <th>17</th>\n      <td>18</td>\n      <td>KB금융</td>\n      <td>53900</td>\n      <td>5000</td>\n      <td>415808</td>\n      <td>224120</td>\n      <td>556802.0</td>\n      <td>6106722.0</td>\n      <td>5673107.0</td>\n      <td>6.49</td>\n      <td>8.53</td>\n      <td>0.49</td>\n      <td>2028.5</td>\n      <td>110000.000000</td>\n      <td>92.899382</td>\n      <td>3.1801</td>\n    </tr>\n    <tr>\n      <th>21</th>\n      <td>22</td>\n      <td>신한지주</td>\n      <td>36350</td>\n      <td>5000</td>\n      <td>516600</td>\n      <td>187784</td>\n      <td>290007.0</td>\n      <td>6052341.0</td>\n      <td>5588772.0</td>\n      <td>5.39</td>\n      <td>8.20</td>\n      <td>0.44</td>\n      <td>1483.4</td>\n      <td>82613.636364</td>\n      <td>92.340666</td>\n      <td>2.3716</td>\n    </tr>\n    <tr>\n      <th>28</th>\n      <td>29</td>\n      <td>하나금융지주</td>\n      <td>41150</td>\n      <td>5000</td>\n      <td>300242</td>\n      <td>123550</td>\n      <td>482159.0</td>\n      <td>4603133.0</td>\n      <td>4287130.0</td>\n      <td>4.68</td>\n      <td>8.96</td>\n      <td>0.39</td>\n      <td>2025.0</td>\n      <td>105512.820513</td>\n      <td>93.135045</td>\n      <td>1.8252</td>\n    </tr>\n    <tr>\n      <th>46</th>\n      <td>47</td>\n      <td>우리금융지주</td>\n      <td>10000</td>\n      <td>5000</td>\n      <td>722268</td>\n      <td>72227</td>\n      <td>286376.0</td>\n      <td>3990810.0</td>\n      <td>3723552.0</td>\n      <td>5.52</td>\n      <td>5.87</td>\n      <td>0.31</td>\n      <td>640.0</td>\n      <td>32258.064516</td>\n      <td>93.303164</td>\n      <td>1.7112</td>\n    </tr>\n    <tr>\n      <th>49</th>\n      <td>50</td>\n      <td>기업은행</td>\n      <td>9040</td>\n      <td>5000</td>\n      <td>738664</td>\n      <td>66775</td>\n      <td>185746.0</td>\n      <td>3616162.0</td>\n      <td>3364738.0</td>\n      <td>4.51</td>\n      <td>6.44</td>\n      <td>0.27</td>\n      <td>501.0</td>\n      <td>33481.481481</td>\n      <td>93.047214</td>\n      <td>1.2177</td>\n    </tr>\n    <tr>\n      <th>52</th>\n      <td>53</td>\n      <td>미래에셋대우</td>\n      <td>9710</td>\n      <td>5000</td>\n      <td>635316</td>\n      <td>61689</td>\n      <td>168358.0</td>\n      <td>1309469.0</td>\n      <td>1216007.0</td>\n      <td>9.51</td>\n      <td>8.94</td>\n      <td>0.68</td>\n      <td>136.8</td>\n      <td>14279.411765</td>\n      <td>92.862603</td>\n      <td>6.4668</td>\n    </tr>\n    <tr>\n      <th>59</th>\n      <td>60</td>\n      <td>한국금융지주</td>\n      <td>89900</td>\n      <td>5000</td>\n      <td>55726</td>\n      <td>50098</td>\n      <td>165117.0</td>\n      <td>704377.0</td>\n      <td>648054.0</td>\n      <td>6.41</td>\n      <td>16.27</td>\n      <td>0.94</td>\n      <td>1745.4</td>\n      <td>95638.297872</td>\n      <td>92.003856</td>\n      <td>6.0254</td>\n    </tr>\n    <tr>\n      <th>74</th>\n      <td>75</td>\n      <td>삼성카드</td>\n      <td>33900</td>\n      <td>5000</td>\n      <td>115859</td>\n      <td>39276</td>\n      <td>32934.0</td>\n      <td>220382.0</td>\n      <td>151418.0</td>\n      <td>9.53</td>\n      <td>5.04</td>\n      <td>0.51</td>\n      <td>1087.4</td>\n      <td>66470.588235</td>\n      <td>68.707063</td>\n      <td>4.8603</td>\n    </tr>\n    <tr>\n      <th>85</th>\n      <td>86</td>\n      <td>삼성증권</td>\n      <td>39350</td>\n      <td>5000</td>\n      <td>89300</td>\n      <td>35140</td>\n      <td>66562.0</td>\n      <td>447296.0</td>\n      <td>397803.0</td>\n      <td>7.47</td>\n      <td>8.15</td>\n      <td>0.68</td>\n      <td>979.5</td>\n      <td>57867.647059</td>\n      <td>88.935068</td>\n      <td>5.0796</td>\n    </tr>\n    <tr>\n      <th>91</th>\n      <td>92</td>\n      <td>DB손해보험</td>\n      <td>46500</td>\n      <td>500</td>\n      <td>70800</td>\n      <td>32922</td>\n      <td>186761.0</td>\n      <td>557778.0</td>\n      <td>496287.0</td>\n      <td>5.92</td>\n      <td>6.92</td>\n      <td>0.42</td>\n      <td>17354.1</td>\n      <td>110714.285714</td>\n      <td>88.975722</td>\n      <td>2.4864</td>\n    </tr>\n    <tr>\n      <th>93</th>\n      <td>94</td>\n      <td>NH투자증권</td>\n      <td>11550</td>\n      <td>5000</td>\n      <td>281409</td>\n      <td>32503</td>\n      <td>127678.0</td>\n      <td>627384.0</td>\n      <td>569356.0</td>\n      <td>6.01</td>\n      <td>10.32</td>\n      <td>0.60</td>\n      <td>279.9</td>\n      <td>19250.000000</td>\n      <td>90.750800</td>\n      <td>3.6060</td>\n    </tr>\n    <tr>\n      <th>97</th>\n      <td>98</td>\n      <td>메리츠증권</td>\n      <td>4510</td>\n      <td>1000</td>\n      <td>675962</td>\n      <td>30486</td>\n      <td>119126.0</td>\n      <td>381099.0</td>\n      <td>340907.0</td>\n      <td>5.53</td>\n      <td>15.06</td>\n      <td>0.71</td>\n      <td>461.5</td>\n      <td>6352.112676</td>\n      <td>89.453659</td>\n      <td>3.9263</td>\n    </tr>\n    <tr>\n      <th>111</th>\n      <td>112</td>\n      <td>대우건설</td>\n      <td>6460</td>\n      <td>5000</td>\n      <td>415623</td>\n      <td>26849</td>\n      <td>81367.0</td>\n      <td>93059.0</td>\n      <td>66289.0</td>\n      <td>9.46</td>\n      <td>11.06</td>\n      <td>0.99</td>\n      <td>50.9</td>\n      <td>6525.252525</td>\n      <td>71.233304</td>\n      <td>9.3654</td>\n    </tr>\n    <tr>\n      <th>127</th>\n      <td>128</td>\n      <td>메리츠화재</td>\n      <td>19000</td>\n      <td>500</td>\n      <td>120625</td>\n      <td>22919</td>\n      <td>111326.0</td>\n      <td>253593.0</td>\n      <td>226762.0</td>\n      <td>5.05</td>\n      <td>16.91</td>\n      <td>0.84</td>\n      <td>4429.9</td>\n      <td>22619.047619</td>\n      <td>89.419661</td>\n      <td>4.2420</td>\n    </tr>\n    <tr>\n      <th>130</th>\n      <td>131</td>\n      <td>BNK금융지주</td>\n      <td>6570</td>\n      <td>5000</td>\n      <td>325935</td>\n      <td>21414</td>\n      <td>52124.0</td>\n      <td>1141569.0</td>\n      <td>1045306.0</td>\n      <td>4.12</td>\n      <td>6.11</td>\n      <td>0.24</td>\n      <td>491.1</td>\n      <td>27375.000000</td>\n      <td>91.567483</td>\n      <td>0.9888</td>\n    </tr>\n    <tr>\n      <th>132</th>\n      <td>133</td>\n      <td>현대해상</td>\n      <td>23600</td>\n      <td>500</td>\n      <td>89400</td>\n      <td>21098</td>\n      <td>177102.0</td>\n      <td>491941.0</td>\n      <td>443894.0</td>\n      <td>6.36</td>\n      <td>7.13</td>\n      <td>0.39</td>\n      <td>10749.4</td>\n      <td>60512.820513</td>\n      <td>90.233178</td>\n      <td>2.4804</td>\n    </tr>\n    <tr>\n      <th>133</th>\n      <td>134</td>\n      <td>메리츠금융지주</td>\n      <td>15700</td>\n      <td>500</td>\n      <td>134011</td>\n      <td>21040</td>\n      <td>284706.0</td>\n      <td>695644.0</td>\n      <td>626871.0</td>\n      <td>4.38</td>\n      <td>16.06</td>\n      <td>0.62</td>\n      <td>9535.1</td>\n      <td>25322.580645</td>\n      <td>90.113765</td>\n      <td>2.7156</td>\n    </tr>\n    <tr>\n      <th>139</th>\n      <td>140</td>\n      <td>KCC</td>\n      <td>229000</td>\n      <td>5000</td>\n      <td>8886</td>\n      <td>20350</td>\n      <td>50836.0</td>\n      <td>123476.0</td>\n      <td>71016.0</td>\n      <td>3.41</td>\n      <td>12.79</td>\n      <td>0.36</td>\n      <td>12809.9</td>\n      <td>636111.111111</td>\n      <td>57.514011</td>\n      <td>1.2276</td>\n    </tr>\n    <tr>\n      <th>143</th>\n      <td>144</td>\n      <td>HDC현대산업개발</td>\n      <td>28700</td>\n      <td>5000</td>\n      <td>65907</td>\n      <td>18915</td>\n      <td>36702.0</td>\n      <td>61161.0</td>\n      <td>33731.0</td>\n      <td>7.98</td>\n      <td>8.85</td>\n      <td>0.69</td>\n      <td>733.1</td>\n      <td>41594.202899</td>\n      <td>55.151158</td>\n      <td>5.5062</td>\n    </tr>\n    <tr>\n      <th>154</th>\n      <td>155</td>\n      <td>한국앤컴퍼니</td>\n      <td>18000</td>\n      <td>500</td>\n      <td>93020</td>\n      <td>16744</td>\n      <td>8209.0</td>\n      <td>37925.0</td>\n      <td>2920.0</td>\n      <td>9.88</td>\n      <td>5.08</td>\n      <td>0.49</td>\n      <td>7397.5</td>\n      <td>36734.693878</td>\n      <td>7.699407</td>\n      <td>4.8412</td>\n    </tr>\n    <tr>\n      <th>156</th>\n      <td>157</td>\n      <td>코오롱인더</td>\n      <td>59500</td>\n      <td>5000</td>\n      <td>26979</td>\n      <td>16052</td>\n      <td>40361.0</td>\n      <td>50437.0</td>\n      <td>27516.0</td>\n      <td>8.70</td>\n      <td>9.70</td>\n      <td>0.81</td>\n      <td>1459.8</td>\n      <td>73456.790123</td>\n      <td>54.555188</td>\n      <td>7.0470</td>\n    </tr>\n    <tr>\n      <th>163</th>\n      <td>164</td>\n      <td>롯데정밀화학</td>\n      <td>57700</td>\n      <td>5000</td>\n      <td>25800</td>\n      <td>14887</td>\n      <td>12636.0</td>\n      <td>18746.0</td>\n      <td>2249.0</td>\n      <td>7.49</td>\n      <td>12.65</td>\n      <td>0.89</td>\n      <td>1201.7</td>\n      <td>64831.460674</td>\n      <td>11.997226</td>\n      <td>6.6661</td>\n    </tr>\n    <tr>\n      <th>170</th>\n      <td>171</td>\n      <td>DGB금융지주</td>\n      <td>8150</td>\n      <td>5000</td>\n      <td>169146</td>\n      <td>13785</td>\n      <td>58760.0</td>\n      <td>799718.0</td>\n      <td>741678.0</td>\n      <td>4.15</td>\n      <td>6.93</td>\n      <td>0.28</td>\n      <td>586.3</td>\n      <td>29107.142857</td>\n      <td>92.742442</td>\n      <td>1.1620</td>\n    </tr>\n    <tr>\n      <th>181</th>\n      <td>182</td>\n      <td>JB금융지주</td>\n      <td>6360</td>\n      <td>5000</td>\n      <td>196983</td>\n      <td>12528</td>\n      <td>24084.0</td>\n      <td>475296.0</td>\n      <td>437098.0</td>\n      <td>3.62</td>\n      <td>10.36</td>\n      <td>0.33</td>\n      <td>289.4</td>\n      <td>19272.727273</td>\n      <td>91.963324</td>\n      <td>1.1946</td>\n    </tr>\n    <tr>\n      <th>189</th>\n      <td>190</td>\n      <td>LG상사</td>\n      <td>30850</td>\n      <td>5000</td>\n      <td>38760</td>\n      <td>11957</td>\n      <td>112826.0</td>\n      <td>53959.0</td>\n      <td>36376.0</td>\n      <td>4.02</td>\n      <td>23.72</td>\n      <td>0.83</td>\n      <td>664.7</td>\n      <td>37168.674699</td>\n      <td>67.414148</td>\n      <td>3.3366</td>\n    </tr>\n    <tr>\n      <th>190</th>\n      <td>191</td>\n      <td>다우기술</td>\n      <td>26550</td>\n      <td>500</td>\n      <td>44867</td>\n      <td>11912</td>\n      <td>47329.0</td>\n      <td>386222.0</td>\n      <td>353771.0</td>\n      <td>4.32</td>\n      <td>18.85</td>\n      <td>0.72</td>\n      <td>7109.1</td>\n      <td>36875.000000</td>\n      <td>91.597838</td>\n      <td>3.1104</td>\n    </tr>\n    <tr>\n      <th>193</th>\n      <td>194</td>\n      <td>SK디스커버리</td>\n      <td>61000</td>\n      <td>5000</td>\n      <td>19038</td>\n      <td>11613</td>\n      <td>45195.0</td>\n      <td>56216.0</td>\n      <td>30053.0</td>\n      <td>4.66</td>\n      <td>14.71</td>\n      <td>0.64</td>\n      <td>2638.2</td>\n      <td>95312.500000</td>\n      <td>53.459869</td>\n      <td>2.9824</td>\n    </tr>\n    <tr>\n      <th>211</th>\n      <td>212</td>\n      <td>코리안리</td>\n      <td>8460</td>\n      <td>500</td>\n      <td>120369</td>\n      <td>10183</td>\n      <td>113010.0</td>\n      <td>125199.0</td>\n      <td>100640.0</td>\n      <td>7.17</td>\n      <td>5.78</td>\n      <td>0.35</td>\n      <td>4203.4</td>\n      <td>24171.428571</td>\n      <td>80.384029</td>\n      <td>2.5095</td>\n    </tr>\n  </tbody>\n</table>\n</div>"
     },
     "metadata": {},
     "execution_count": 431
    }
   ],
   "source": [
    "condition_result"
   ]
  },
  {
   "cell_type": "code",
   "execution_count": 432,
   "metadata": {},
   "outputs": [
    {
     "output_type": "execute_result",
     "data": {
      "text/plain": [
       "17          KB금융\n",
       "21          신한지주\n",
       "28        하나금융지주\n",
       "46        우리금융지주\n",
       "49          기업은행\n",
       "52        미래에셋대우\n",
       "59        한국금융지주\n",
       "74          삼성카드\n",
       "85          삼성증권\n",
       "91        DB손해보험\n",
       "93        NH투자증권\n",
       "97         메리츠증권\n",
       "111         대우건설\n",
       "127        메리츠화재\n",
       "130      BNK금융지주\n",
       "132         현대해상\n",
       "133      메리츠금융지주\n",
       "139          KCC\n",
       "143    HDC현대산업개발\n",
       "154       한국앤컴퍼니\n",
       "156        코오롱인더\n",
       "163       롯데정밀화학\n",
       "170      DGB금융지주\n",
       "181       JB금융지주\n",
       "189         LG상사\n",
       "190         다우기술\n",
       "193      SK디스커버리\n",
       "211         코리안리\n",
       "Name: 종목명, dtype: object"
      ]
     },
     "metadata": {},
     "execution_count": 432
    }
   ],
   "source": [
    "condition_result['종목명']"
   ]
  },
  {
   "cell_type": "code",
   "execution_count": null,
   "metadata": {},
   "outputs": [],
   "source": []
  }
 ]
}